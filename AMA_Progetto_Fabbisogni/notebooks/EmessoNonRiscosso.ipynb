{
 "cells": [
  {
   "cell_type": "markdown",
   "metadata": {},
   "source": [
    "# AMA - Progetto Fabbisogni - Emesso Non Riscosso"
   ]
  },
  {
   "cell_type": "markdown",
   "metadata": {},
   "source": [
    "# INIT"
   ]
  },
  {
   "cell_type": "code",
   "execution_count": null,
   "metadata": {
    "init_cell": true
   },
   "outputs": [
    {
     "name": "stdout",
     "output_type": "stream",
     "text": [
      "\n",
      "Repo name: AMA_Progetto_Fabbisogni\n",
      "Repo path: /home/bifani/GitHub/AMA_Progetto_Fabbisogni\n",
      "\n"
     ]
    },
    {
     "data": {
      "application/javascript": [
       "\n",
       "            setTimeout(function() {\n",
       "                var nbb_cell_id = 1;\n",
       "                var nbb_unformatted_code = \"%run Init.ipynb\";\n",
       "                var nbb_formatted_code = \"%run Init.ipynb\";\n",
       "                var nbb_cells = Jupyter.notebook.get_cells();\n",
       "                for (var i = 0; i < nbb_cells.length; ++i) {\n",
       "                    if (nbb_cells[i].input_prompt_number == nbb_cell_id) {\n",
       "                        if (nbb_cells[i].get_text() == nbb_unformatted_code) {\n",
       "                             nbb_cells[i].set_text(nbb_formatted_code);\n",
       "                        }\n",
       "                        break;\n",
       "                    }\n",
       "                }\n",
       "            }, 500);\n",
       "            "
      ],
      "text/plain": [
       "<IPython.core.display.Javascript object>"
      ]
     },
     "metadata": {},
     "output_type": "display_data"
    }
   ],
   "source": [
    "%run Init.ipynb"
   ]
  },
  {
   "cell_type": "code",
   "execution_count": null,
   "metadata": {
    "init_cell": true
   },
   "outputs": [
    {
     "data": {
      "application/javascript": [
       "\n",
       "            setTimeout(function() {\n",
       "                var nbb_cell_id = 2;\n",
       "                var nbb_unformatted_code = \"import datetime\\n\\nimport numpy as np\\nimport pandas as pd\\n\\nfrom scipy import stats\\n\\nimport matplotlib.pyplot as plt\\nimport seaborn as sns\\n\\nfrom src.datafactory import DataFactory\\nfrom src.miscellaneous import *\\n\\nfrom src.enr import *\";\n",
       "                var nbb_formatted_code = \"import datetime\\n\\nimport numpy as np\\nimport pandas as pd\\n\\nfrom scipy import stats\\n\\nimport matplotlib.pyplot as plt\\nimport seaborn as sns\\n\\nfrom src.datafactory import DataFactory\\nfrom src.miscellaneous import *\\n\\nfrom src.enr import *\";\n",
       "                var nbb_cells = Jupyter.notebook.get_cells();\n",
       "                for (var i = 0; i < nbb_cells.length; ++i) {\n",
       "                    if (nbb_cells[i].input_prompt_number == nbb_cell_id) {\n",
       "                        if (nbb_cells[i].get_text() == nbb_unformatted_code) {\n",
       "                             nbb_cells[i].set_text(nbb_formatted_code);\n",
       "                        }\n",
       "                        break;\n",
       "                    }\n",
       "                }\n",
       "            }, 500);\n",
       "            "
      ],
      "text/plain": [
       "<IPython.core.display.Javascript object>"
      ]
     },
     "metadata": {},
     "output_type": "display_data"
    }
   ],
   "source": [
    "import datetime\n",
    "\n",
    "import numpy as np\n",
    "import pandas as pd\n",
    "\n",
    "from scipy import stats\n",
    "\n",
    "import matplotlib.pyplot as plt\n",
    "import seaborn as sns\n",
    "\n",
    "from src.datafactory import DataFactory\n",
    "from src.miscellaneous import *\n",
    "\n",
    "from src.enr import *"
   ]
  },
  {
   "cell_type": "markdown",
   "metadata": {},
   "source": [
    "# DATA"
   ]
  },
  {
   "cell_type": "markdown",
   "metadata": {},
   "source": [
    "## SQLITE"
   ]
  },
  {
   "cell_type": "code",
   "execution_count": null,
   "metadata": {},
   "outputs": [],
   "source": [
    "!grep -e \"SQLITE_DB}\" ../src/enr.py | sort"
   ]
  },
  {
   "cell_type": "code",
   "execution_count": null,
   "metadata": {},
   "outputs": [],
   "source": [
    "DataFactory(f\"{BASE_FOLDER_ENR}/{SQLITE_DB} | \", dry=True)"
   ]
  },
  {
   "cell_type": "markdown",
   "metadata": {},
   "source": [
    "## DOM"
   ]
  },
  {
   "cell_type": "markdown",
   "metadata": {},
   "source": [
    "### CONTRATTI_ATTIVI"
   ]
  },
  {
   "cell_type": "code",
   "execution_count": null,
   "metadata": {},
   "outputs": [],
   "source": [
    "dom_ca = ENR_DOM_CONTRATTI_ATTIVI(\n",
    "    pre_process=True,\n",
    "    process=True,\n",
    "    post_process=True,\n",
    ")"
   ]
  },
  {
   "cell_type": "code",
   "execution_count": null,
   "metadata": {},
   "outputs": [],
   "source": [
    "dom_ca.print_counts(\"CNT_TCN_COD\")"
   ]
  },
  {
   "cell_type": "markdown",
   "metadata": {},
   "source": [
    "### AVVISI_CONTRATTI_ATTIVI"
   ]
  },
  {
   "cell_type": "code",
   "execution_count": null,
   "metadata": {},
   "outputs": [],
   "source": [
    "dom_aca = ENR_DOM_AVVISI_CONTRATTI_ATTIVI(\n",
    "    # nrows=1000,\n",
    "    pre_process=True,\n",
    "    process=True,\n",
    "    post_process=True,\n",
    ")"
   ]
  },
  {
   "cell_type": "code",
   "execution_count": null,
   "metadata": {},
   "outputs": [],
   "source": [
    "dom_aca.df[\"IMPORTO_CONTRATTO\"].sum()"
   ]
  },
  {
   "cell_type": "code",
   "execution_count": null,
   "metadata": {},
   "outputs": [],
   "source": [
    "dom_aca.print_counts(\"MOTIVO_PAREGGIO\")"
   ]
  },
  {
   "cell_type": "markdown",
   "metadata": {},
   "source": [
    "### MERGE"
   ]
  },
  {
   "cell_type": "code",
   "execution_count": null,
   "metadata": {},
   "outputs": [],
   "source": [
    "dom = ENR_DOM(empty=True)"
   ]
  },
  {
   "cell_type": "code",
   "execution_count": null,
   "metadata": {},
   "outputs": [],
   "source": [
    "dom.merge_ALL(step1=True)"
   ]
  },
  {
   "cell_type": "code",
   "execution_count": null,
   "metadata": {},
   "outputs": [],
   "source": [
    "dom.save(\"DOM\")"
   ]
  },
  {
   "cell_type": "code",
   "execution_count": null,
   "metadata": {},
   "outputs": [],
   "source": [
    "dom = ENR_DOM(\n",
    "    pre_process=True,\n",
    "    process=True,\n",
    "    post_process=True,\n",
    "    verbose=False,\n",
    ")"
   ]
  },
  {
   "cell_type": "code",
   "execution_count": null,
   "metadata": {},
   "outputs": [],
   "source": [
    "dom.merge_ALL(step2=True)"
   ]
  },
  {
   "cell_type": "code",
   "execution_count": null,
   "metadata": {},
   "outputs": [],
   "source": [
    "dom.save(\"DOM\")"
   ]
  },
  {
   "cell_type": "markdown",
   "metadata": {},
   "source": [
    "#### SPLIT"
   ]
  },
  {
   "cell_type": "code",
   "execution_count": null,
   "metadata": {},
   "outputs": [],
   "source": [
    "dom = ENR_DOM(\n",
    "    pre_process=True,\n",
    "    process=True,\n",
    "    post_process=True,\n",
    "    verbose=False,\n",
    ")"
   ]
  },
  {
   "cell_type": "code",
   "execution_count": null,
   "metadata": {},
   "outputs": [],
   "source": [
    "dom.merge_CONTRATTI()"
   ]
  },
  {
   "cell_type": "code",
   "execution_count": null,
   "metadata": {},
   "outputs": [],
   "source": [
    "dom.save(\"DOM\")"
   ]
  },
  {
   "cell_type": "code",
   "execution_count": null,
   "metadata": {},
   "outputs": [],
   "source": [
    "dom.merge_GE_VIE()"
   ]
  },
  {
   "cell_type": "code",
   "execution_count": null,
   "metadata": {},
   "outputs": [],
   "source": [
    "dom.save(\"DOM\")"
   ]
  },
  {
   "cell_type": "code",
   "execution_count": null,
   "metadata": {},
   "outputs": [],
   "source": [
    "dom.merge_GET()"
   ]
  },
  {
   "cell_type": "code",
   "execution_count": null,
   "metadata": {},
   "outputs": [],
   "source": [
    "dom.print_counts([\"FLAG_GET_ATTIVITA\", \"FLAG_GET_PRATICHE\"])"
   ]
  },
  {
   "cell_type": "code",
   "execution_count": null,
   "metadata": {},
   "outputs": [],
   "source": [
    "dom.save(\"DOM\")"
   ]
  },
  {
   "cell_type": "code",
   "execution_count": null,
   "metadata": {},
   "outputs": [],
   "source": [
    "dom.merge_DECESSI()"
   ]
  },
  {
   "cell_type": "code",
   "execution_count": null,
   "metadata": {},
   "outputs": [],
   "source": [
    "dom.print_counts(\"FLAG_DECEDUTO\")"
   ]
  },
  {
   "cell_type": "code",
   "execution_count": null,
   "metadata": {},
   "outputs": [],
   "source": [
    "dom.save(\"DOM\")"
   ]
  },
  {
   "cell_type": "code",
   "execution_count": null,
   "metadata": {},
   "outputs": [],
   "source": [
    "dom.merge_CESSAZIONI()"
   ]
  },
  {
   "cell_type": "code",
   "execution_count": null,
   "metadata": {},
   "outputs": [],
   "source": [
    "dom.print_counts([\"FLAG_CESSATA\", \"AT_FLG_STA_PI\", \"RI_CLEAN_STA_PAR_IVA\"])"
   ]
  },
  {
   "cell_type": "code",
   "execution_count": null,
   "metadata": {},
   "outputs": [],
   "source": [
    "dom.save(\"DOM\")"
   ]
  },
  {
   "cell_type": "code",
   "execution_count": null,
   "metadata": {},
   "outputs": [],
   "source": [
    "dom.merge_RECAPITI()"
   ]
  },
  {
   "cell_type": "code",
   "execution_count": null,
   "metadata": {},
   "outputs": [],
   "source": [
    "dom.print_counts(\"FLAG_RECAPITO\")"
   ]
  },
  {
   "cell_type": "code",
   "execution_count": null,
   "metadata": {},
   "outputs": [],
   "source": [
    "dom.save(\"DOM\")"
   ]
  },
  {
   "cell_type": "code",
   "execution_count": null,
   "metadata": {},
   "outputs": [],
   "source": [
    "dom.merge_ESENZIONI()"
   ]
  },
  {
   "cell_type": "code",
   "execution_count": null,
   "metadata": {},
   "outputs": [],
   "source": [
    "dom.print_counts([\"FLAG_ESENTE_SAP\", \"FLAG_ESENTE_RIC\", \"FLAG_ESENTE\"])"
   ]
  },
  {
   "cell_type": "code",
   "execution_count": null,
   "metadata": {},
   "outputs": [],
   "source": [
    "dom.save(\"DOM\")"
   ]
  },
  {
   "cell_type": "code",
   "execution_count": null,
   "metadata": {},
   "outputs": [],
   "source": [
    "dom.merge_RATEIZZAZIONI()"
   ]
  },
  {
   "cell_type": "code",
   "execution_count": null,
   "metadata": {},
   "outputs": [],
   "source": [
    "dom.print_counts([\"FLAG_RATE_SAP\", \"FLAG_RATE_RIC\", \"FLAG_RATE\"])"
   ]
  },
  {
   "cell_type": "code",
   "execution_count": null,
   "metadata": {},
   "outputs": [],
   "source": [
    "dom.save(\"DOM\")"
   ]
  },
  {
   "cell_type": "code",
   "execution_count": null,
   "metadata": {},
   "outputs": [],
   "source": [
    "dom.merge_BOLLETTINI_WEB()"
   ]
  },
  {
   "cell_type": "code",
   "execution_count": null,
   "metadata": {},
   "outputs": [],
   "source": [
    "dom.print_counts(\"FLAG_BOLLETTINO_WEB\")"
   ]
  },
  {
   "cell_type": "code",
   "execution_count": null,
   "metadata": {},
   "outputs": [],
   "source": [
    "dom.save(\"DOM\")"
   ]
  },
  {
   "cell_type": "code",
   "execution_count": null,
   "metadata": {},
   "outputs": [],
   "source": [
    "dom.merge_BOLLETTINI_CC()"
   ]
  },
  {
   "cell_type": "code",
   "execution_count": null,
   "metadata": {},
   "outputs": [],
   "source": [
    "dom.print_counts(\"FLAG_BOLLETTINO_CC\")"
   ]
  },
  {
   "cell_type": "code",
   "execution_count": null,
   "metadata": {},
   "outputs": [],
   "source": [
    "dom.save(\"DOM\")"
   ]
  },
  {
   "cell_type": "code",
   "execution_count": null,
   "metadata": {},
   "outputs": [],
   "source": [
    "dom.merge_PAGAMENTI_F24()"
   ]
  },
  {
   "cell_type": "code",
   "execution_count": null,
   "metadata": {},
   "outputs": [],
   "source": [
    "dom.print_counts(\"FLAG_F24\")"
   ]
  },
  {
   "cell_type": "code",
   "execution_count": null,
   "metadata": {},
   "outputs": [],
   "source": [
    "dom.save(\"DOM\")"
   ]
  },
  {
   "cell_type": "code",
   "execution_count": null,
   "metadata": {},
   "outputs": [],
   "source": [
    "dom.save(filename=\"DOM\", ext=\"csv\")"
   ]
  },
  {
   "cell_type": "markdown",
   "metadata": {},
   "source": [
    "### SUMMARY"
   ]
  },
  {
   "cell_type": "code",
   "execution_count": null,
   "metadata": {},
   "outputs": [],
   "source": [
    "dom = ENR_DOM(\n",
    "    pre_process=True,\n",
    "    process=True,\n",
    "    post_process=True,\n",
    "    verbose=False,\n",
    ")"
   ]
  },
  {
   "cell_type": "code",
   "execution_count": null,
   "metadata": {},
   "outputs": [],
   "source": [
    "dom.print_counts([\"CNT_COD\", \"UTZ_CONTRATTO\"])"
   ]
  },
  {
   "cell_type": "code",
   "execution_count": null,
   "metadata": {
    "code_folding": []
   },
   "outputs": [],
   "source": [
    "dom.print_importi(\n",
    "    columns=[\"CNT_TCN_COD\"],\n",
    ")"
   ]
  },
  {
   "cell_type": "code",
   "execution_count": null,
   "metadata": {},
   "outputs": [],
   "source": [
    "dom.print_importi(\n",
    "    columns=[\"CNT_TCN_COD\", \"MOTIVO_PAREGGIO\"],\n",
    ")"
   ]
  },
  {
   "cell_type": "code",
   "execution_count": null,
   "metadata": {},
   "outputs": [],
   "source": [
    "dom.print_importi(\n",
    "    columns=[\"CNT_TCN_COD\", \"TIPO_DOC_PAREGGIO\"],\n",
    "    #     query=\"MOTIVO_PAREGGIO.notnull()\"\n",
    ")"
   ]
  },
  {
   "cell_type": "code",
   "execution_count": null,
   "metadata": {},
   "outputs": [],
   "source": [
    "dom.print_flags()"
   ]
  },
  {
   "cell_type": "code",
   "execution_count": null,
   "metadata": {},
   "outputs": [],
   "source": [
    "dom.print_importi_flags(\n",
    "    columns=[\"CNT_TCN_COD\"],\n",
    "    query=\"MOTIVO_PAREGGIO.isnull()\",\n",
    "    #     flags=[\"FLAG_GIUSTIFICATO\"]\n",
    ")"
   ]
  },
  {
   "cell_type": "code",
   "execution_count": null,
   "metadata": {},
   "outputs": [],
   "source": [
    "dom.print_crosstab(\n",
    "    [\"MOTIVO_PAREGGIO\", \"TIPO_DOC_PAREGGIO\"],\n",
    ")"
   ]
  },
  {
   "cell_type": "code",
   "execution_count": null,
   "metadata": {},
   "outputs": [],
   "source": [
    "dom.print_importi(\n",
    "    columns=[\"CNT_TCN_COD\"],\n",
    "    query=\"(FLAG_GIUSTIFICATO==0) & (FLAG_BOLLETTINO_WEB==1 | FLAG_BOLLETTINO_CC==1)\",\n",
    ")"
   ]
  },
  {
   "cell_type": "code",
   "execution_count": null,
   "metadata": {},
   "outputs": [],
   "source": [
    "dom.print_importi(\n",
    "    columns=[\"CNT_TCN_COD\", \"FLAG_GET_ATTIVITA\"],\n",
    "    query=\"MOTIVO_PAREGGIO.isnull() & (FLAG_GIUSTIFICATO==0)\",\n",
    ")"
   ]
  },
  {
   "cell_type": "code",
   "execution_count": null,
   "metadata": {},
   "outputs": [],
   "source": [
    "dom.print_importi(\n",
    "    columns=[\"CNT_TCN_COD\", \"FLAG_GET_PRATICHE\"],\n",
    "    query=\"MOTIVO_PAREGGIO.isnull() & (FLAG_GIUSTIFICATO==0)\",\n",
    ")"
   ]
  },
  {
   "cell_type": "code",
   "execution_count": null,
   "metadata": {},
   "outputs": [],
   "source": [
    "dom.print_importi(\n",
    "    columns=[\"CNT_TCN_COD\"],  # , \"FLAG_GET_ATTIVITA\", \"FLAG_GET_PRATICHE\"],\n",
    "    query=\"MOTIVO_PAREGGIO.isnull() & (FLAG_GIUSTIFICATO==0) & (FLAG_GET_ATTIVITA==1 | FLAG_GET_PRATICHE==1)\",\n",
    "    #     query=\"MOTIVO_PAREGGIO.isnull() & (FLAG_GIUSTIFICATO==0) & (FLAG_GET_ATTIVITA==1 | FLAG_GET_PRATICHE==1) & ~(FLAG_GET_ATTIVITA==1 & FLAG_GET_PRATICHE==1)\",\n",
    ")"
   ]
  },
  {
   "cell_type": "code",
   "execution_count": null,
   "metadata": {},
   "outputs": [],
   "source": [
    "dom.query_apply(\n",
    "    \"MOTIVO_PAREGGIO.isnull() & (FLAG_GIUSTIFICATO==0) & (FLAG_GET_ATTIVITA==1 | FLAG_GET_PRATICHE==1)\",\n",
    "    inplace=True,\n",
    ")"
   ]
  },
  {
   "cell_type": "code",
   "execution_count": null,
   "metadata": {},
   "outputs": [],
   "source": [
    "dom.df.columns"
   ]
  },
  {
   "cell_type": "code",
   "execution_count": null,
   "metadata": {},
   "outputs": [],
   "source": [
    "cols = [\n",
    "    \"CNT_COD\",\n",
    "    \"NUM_FATT\",\n",
    "    \"UTZ_CONTRATTO\",\n",
    "    \"IMPORTO_CONTRATTO\",\n",
    "    #        'MOTIVO_PAREGGIO', 'DATA_PAREGGIO', 'IMPORTO_PAREGGIO',\n",
    "    #        'TIPO_DOC_PAREGGIO',\n",
    "    \"CNT_TCN_COD\",\n",
    "    \"CNT_COGNOME\",\n",
    "    \"CNT_NOME\",\n",
    "    \"CNT_RAG_SOC\",\n",
    "    \"CNT_PAR_IVA\",\n",
    "    \"CNT_COD_FSC\",\n",
    "    \"UTZ_TARIFTYP\",\n",
    "    #        'UTZ_VIA_DES', 'UTZ_NUM_CIV', 'SUPERFICIE', 'COMPONENTI', 'CAP',\n",
    "    #        'COD_ZON_URB', 'NUM_CIR', 'FLAG_DECEDUTO', 'FLAG_CESSATA',\n",
    "    #     \"RI_CLEAN_STA_PAR_IVA\",\n",
    "    #     \"STATO\",\n",
    "    \"FLAG_GET_ATTIVITA\",\n",
    "    #     \"STATO_LAVORAZIONE\",\n",
    "    \"FLAG_GET_PRATICHE\",\n",
    "    #     'FLAG_RECAPITO',\n",
    "    #        'FLAG_ESENTE_SAP', 'FLAG_ESENTE_RIC', 'FLAG_ESENTE', 'FLAG_RATE_SAP',\n",
    "    #        'NUM_RATE', 'IMPORTO_RATEIZZATO', 'FLAG_RATE_RIC', 'FLAG_RATE',\n",
    "    #        'FLAG_BOLLETTINO_WEB', 'FLAG_BOLLETTINO_CC', 'FLAG_NON_RECAPITATO',\n",
    "    #        'FLAG_DATI_ERRATI', 'FLAG_NOTIFICATO', 'FLAG_GIUSTIFICATO',\n",
    "    #        'FLAG_PAGATO'\n",
    "]"
   ]
  },
  {
   "cell_type": "code",
   "execution_count": null,
   "metadata": {},
   "outputs": [],
   "source": [
    "dom.set_columns(cols)"
   ]
  },
  {
   "cell_type": "code",
   "execution_count": null,
   "metadata": {},
   "outputs": [],
   "source": [
    "dom.df"
   ]
  },
  {
   "cell_type": "code",
   "execution_count": null,
   "metadata": {},
   "outputs": [],
   "source": [
    "dom.print_importi(\n",
    "    columns=[\"CNT_TCN_COD\"],\n",
    ")"
   ]
  },
  {
   "cell_type": "code",
   "execution_count": null,
   "metadata": {},
   "outputs": [],
   "source": [
    "dom.save(\"DOM\", ext=\"csv\")"
   ]
  },
  {
   "cell_type": "code",
   "execution_count": null,
   "metadata": {},
   "outputs": [],
   "source": [
    "dom.groupby(\n",
    "    [\"CNT_TCN_COD\", \"MOTIVO_PAREGGIO\"],\n",
    "    [\"SUPERFICIE\", \"COMPONENTI\"],\n",
    "    [\"mean\", \"median\", \"min\", \"max\", \"std\"],\n",
    ")"
   ]
  },
  {
   "cell_type": "code",
   "execution_count": null,
   "metadata": {},
   "outputs": [],
   "source": [
    "dom.print_counts(\"COMPONENTI\")"
   ]
  },
  {
   "cell_type": "markdown",
   "metadata": {},
   "source": [
    "#### MUNICIPI"
   ]
  },
  {
   "cell_type": "code",
   "execution_count": null,
   "metadata": {},
   "outputs": [],
   "source": [
    "dom.df.boxplot(column=\"IMPORTO_CONTRATTO\", by=\"NUM_CIR\")"
   ]
  },
  {
   "cell_type": "code",
   "execution_count": null,
   "metadata": {},
   "outputs": [],
   "source": [
    "sns.displot(\n",
    "    data=dom.df.query(\"IMPORTO_CONTRATTO>0 & IMPORTO_CONTRATTO<10000\"),\n",
    "    x=\"IMPORTO_CONTRATTO\",\n",
    "    hue=\"NUM_CIR\",\n",
    "    kind=\"hist\",\n",
    "    bins=100,\n",
    "    rug=False,\n",
    ")"
   ]
  },
  {
   "cell_type": "code",
   "execution_count": null,
   "metadata": {},
   "outputs": [],
   "source": [
    "dom.print_municipi()"
   ]
  },
  {
   "cell_type": "code",
   "execution_count": null,
   "metadata": {},
   "outputs": [],
   "source": [
    "x = list()\n",
    "for i, m in enumerate(dom.df[\"NUM_CIR\"].unique()):\n",
    "    d = dom.df.query(f\"NUM_CIR == '{m}'\")[\"IMPORTO_CONTRATTO\"].to_list()\n",
    "    x.append(d)\n",
    "    if i == 1:\n",
    "        break\n",
    "\n",
    "len(x)"
   ]
  },
  {
   "cell_type": "code",
   "execution_count": null,
   "metadata": {},
   "outputs": [],
   "source": [
    "stats.kruskal(*x)"
   ]
  },
  {
   "cell_type": "code",
   "execution_count": null,
   "metadata": {},
   "outputs": [],
   "source": [
    "sp.posthoc_dunn(x, p_adjust=\"holm\") < 0.05"
   ]
  },
  {
   "cell_type": "markdown",
   "metadata": {},
   "source": [
    "#### UTZ_TARIFTYP"
   ]
  },
  {
   "cell_type": "code",
   "execution_count": null,
   "metadata": {},
   "outputs": [],
   "source": [
    "dom.print_importi(columns=[\"CNT_TCN_COD\", \"MOTIVO_PAREGGIO\", \"UTZ_TARIFTYP\"], query=\"MOTIVO_PAREGGIO.isnull()\")\n",
    "# FLAG_ESENTE==0 & FLAG_RATE==0"
   ]
  },
  {
   "cell_type": "markdown",
   "metadata": {},
   "source": [
    "#### RCP_SGL_NAZ"
   ]
  },
  {
   "cell_type": "code",
   "execution_count": null,
   "metadata": {},
   "outputs": [],
   "source": [
    "dom.print_importi(columns=[\"CNT_TCN_COD\", \"MOTIVO_PAREGGIO\", \"RCP_SGL_NAZ\"], query=\"MOTIVO_PAREGGIO.isnull()\")"
   ]
  },
  {
   "cell_type": "markdown",
   "metadata": {},
   "source": [
    "## NDOM"
   ]
  },
  {
   "cell_type": "markdown",
   "metadata": {},
   "source": [
    "### CONTRATTI_ATTIVI"
   ]
  },
  {
   "cell_type": "code",
   "execution_count": null,
   "metadata": {},
   "outputs": [],
   "source": [
    "ndom_ca = ENR_NDOM_CONTRATTI_ATTIVI(\n",
    "    pre_process=True,\n",
    "    process=True,\n",
    "    post_process=True,\n",
    ")"
   ]
  },
  {
   "cell_type": "code",
   "execution_count": null,
   "metadata": {},
   "outputs": [],
   "source": [
    "ndom_ca.print_counts(\"CNT_TCN_COD\")"
   ]
  },
  {
   "cell_type": "markdown",
   "metadata": {},
   "source": [
    "### AVVISI_CONTRATTI_ATTIVI"
   ]
  },
  {
   "cell_type": "code",
   "execution_count": null,
   "metadata": {},
   "outputs": [],
   "source": [
    "ndom_aca = ENR_NDOM_AVVISI_CONTRATTI_ATTIVI(\n",
    "    pre_process=True,\n",
    "    process=True,\n",
    "    post_process=True,\n",
    ")"
   ]
  },
  {
   "cell_type": "code",
   "execution_count": null,
   "metadata": {},
   "outputs": [],
   "source": [
    "ndom_aca.df[\"IMPORTO_CONTRATTO\"].sum()"
   ]
  },
  {
   "cell_type": "code",
   "execution_count": null,
   "metadata": {},
   "outputs": [],
   "source": [
    "ndom_aca.print_counts(\"MOTIVO_PAREGGIO\")"
   ]
  },
  {
   "cell_type": "markdown",
   "metadata": {},
   "source": [
    "### MERGE"
   ]
  },
  {
   "cell_type": "code",
   "execution_count": null,
   "metadata": {},
   "outputs": [],
   "source": [
    "ndom = ENR_NDOM(empty=True)"
   ]
  },
  {
   "cell_type": "code",
   "execution_count": null,
   "metadata": {},
   "outputs": [],
   "source": [
    "ndom.merge_ALL()"
   ]
  },
  {
   "cell_type": "code",
   "execution_count": null,
   "metadata": {},
   "outputs": [],
   "source": [
    "ndom.columns"
   ]
  },
  {
   "cell_type": "code",
   "execution_count": null,
   "metadata": {},
   "outputs": [],
   "source": [
    "ndom.save(\"NDOM\")"
   ]
  },
  {
   "cell_type": "markdown",
   "metadata": {},
   "source": [
    "#### SPLIT"
   ]
  },
  {
   "cell_type": "code",
   "execution_count": null,
   "metadata": {},
   "outputs": [],
   "source": [
    "ndom = ENR_NDOM(\n",
    "    pre_process=True,\n",
    "    process=True,\n",
    "    post_process=True,\n",
    "    verbose=False,\n",
    ")"
   ]
  },
  {
   "cell_type": "code",
   "execution_count": null,
   "metadata": {},
   "outputs": [],
   "source": [
    "ndom.merge_CONTRATTI()"
   ]
  },
  {
   "cell_type": "code",
   "execution_count": null,
   "metadata": {},
   "outputs": [],
   "source": [
    "ndom.save(\"NDOM\")"
   ]
  },
  {
   "cell_type": "code",
   "execution_count": null,
   "metadata": {},
   "outputs": [],
   "source": [
    "ndom.merge_GE_VIE()"
   ]
  },
  {
   "cell_type": "code",
   "execution_count": null,
   "metadata": {},
   "outputs": [],
   "source": [
    "ndom.save(\"NDOM\")"
   ]
  },
  {
   "cell_type": "code",
   "execution_count": null,
   "metadata": {},
   "outputs": [],
   "source": [
    "ndom.merge_GET()"
   ]
  },
  {
   "cell_type": "code",
   "execution_count": null,
   "metadata": {},
   "outputs": [],
   "source": [
    "ndom.print_counts([\"FLAG_GET_ATTIVITA\", \"FLAG_GET_PRATICHE\"])"
   ]
  },
  {
   "cell_type": "code",
   "execution_count": null,
   "metadata": {},
   "outputs": [],
   "source": [
    "ndom.save(\"NDOM\")"
   ]
  },
  {
   "cell_type": "code",
   "execution_count": null,
   "metadata": {},
   "outputs": [],
   "source": [
    "ndom.merge_DECESSI()"
   ]
  },
  {
   "cell_type": "code",
   "execution_count": null,
   "metadata": {},
   "outputs": [],
   "source": [
    "ndom.print_counts(\"FLAG_DECEDUTO\")"
   ]
  },
  {
   "cell_type": "code",
   "execution_count": null,
   "metadata": {},
   "outputs": [],
   "source": [
    "ndom.save(\"NDOM\")"
   ]
  },
  {
   "cell_type": "code",
   "execution_count": null,
   "metadata": {},
   "outputs": [],
   "source": [
    "ndom.merge_CESSAZIONI()"
   ]
  },
  {
   "cell_type": "code",
   "execution_count": null,
   "metadata": {},
   "outputs": [],
   "source": [
    "ndom.print_counts([\"FLAG_CESSATA\", \"AT_FLG_STA_PI\", \"RI_CLEAN_STA_PAR_IVA\"])"
   ]
  },
  {
   "cell_type": "code",
   "execution_count": null,
   "metadata": {},
   "outputs": [],
   "source": [
    "ndom.save(\"NDOM\")"
   ]
  },
  {
   "cell_type": "code",
   "execution_count": null,
   "metadata": {},
   "outputs": [],
   "source": [
    "ndom.merge_PEC()"
   ]
  },
  {
   "cell_type": "code",
   "execution_count": null,
   "metadata": {},
   "outputs": [],
   "source": [
    "ndom.print_counts([\"FLAG_PEC_SAP\", \"FLAG_PEC_INV\", \"FLAG_NOPEC\", \"FLAG_PEC\"])"
   ]
  },
  {
   "cell_type": "code",
   "execution_count": null,
   "metadata": {},
   "outputs": [],
   "source": [
    "ndom.save(\"NDOM\")"
   ]
  },
  {
   "cell_type": "code",
   "execution_count": null,
   "metadata": {},
   "outputs": [],
   "source": [
    "ndom.merge_ESENZIONI()"
   ]
  },
  {
   "cell_type": "code",
   "execution_count": null,
   "metadata": {},
   "outputs": [],
   "source": [
    "ndom.print_counts([\"FLAG_ESENTE_SAP\", \"FLAG_ESENTE_RIC\", \"FLAG_ESENTE\"])"
   ]
  },
  {
   "cell_type": "code",
   "execution_count": null,
   "metadata": {},
   "outputs": [],
   "source": [
    "ndom.save(\"NDOM\")"
   ]
  },
  {
   "cell_type": "code",
   "execution_count": null,
   "metadata": {},
   "outputs": [],
   "source": [
    "ndom.merge_RATEIZZAZIONI()"
   ]
  },
  {
   "cell_type": "code",
   "execution_count": null,
   "metadata": {},
   "outputs": [],
   "source": [
    "ndom.print_counts([\"FLAG_RATE_SAP\", \"FLAG_RATE_RIC\", \"FLAG_RATE\"])"
   ]
  },
  {
   "cell_type": "code",
   "execution_count": null,
   "metadata": {},
   "outputs": [],
   "source": [
    "ndom.save(\"NDOM\")"
   ]
  },
  {
   "cell_type": "code",
   "execution_count": null,
   "metadata": {},
   "outputs": [],
   "source": [
    "ndom.merge_BOLLETTINI_WEB()"
   ]
  },
  {
   "cell_type": "code",
   "execution_count": null,
   "metadata": {},
   "outputs": [],
   "source": [
    "ndom.print_counts(\"FLAG_BOLLETTINO_WEB\")"
   ]
  },
  {
   "cell_type": "code",
   "execution_count": null,
   "metadata": {},
   "outputs": [],
   "source": [
    "ndom.save(\"NDOM\")"
   ]
  },
  {
   "cell_type": "code",
   "execution_count": null,
   "metadata": {},
   "outputs": [],
   "source": [
    "ndom.merge_BOLLETTINI_CC()"
   ]
  },
  {
   "cell_type": "code",
   "execution_count": null,
   "metadata": {},
   "outputs": [],
   "source": [
    "ndom.print_counts(\"FLAG_BOLLETTINO_CC\")"
   ]
  },
  {
   "cell_type": "code",
   "execution_count": null,
   "metadata": {},
   "outputs": [],
   "source": [
    "ndom.save(\"NDOM\")"
   ]
  },
  {
   "cell_type": "code",
   "execution_count": null,
   "metadata": {},
   "outputs": [],
   "source": [
    "ndom.merge_PAGAMENTI_F24()"
   ]
  },
  {
   "cell_type": "code",
   "execution_count": null,
   "metadata": {},
   "outputs": [],
   "source": [
    "ndom.print_counts(\"FLAG_F24\")"
   ]
  },
  {
   "cell_type": "code",
   "execution_count": null,
   "metadata": {},
   "outputs": [],
   "source": [
    "ndom.save(\"NDOM\")"
   ]
  },
  {
   "cell_type": "code",
   "execution_count": null,
   "metadata": {},
   "outputs": [],
   "source": [
    "ndom.save(filename=\"NDOM\", ext=\"csv\")"
   ]
  },
  {
   "cell_type": "markdown",
   "metadata": {},
   "source": [
    "### SUMMARY"
   ]
  },
  {
   "cell_type": "code",
   "execution_count": null,
   "metadata": {},
   "outputs": [],
   "source": [
    "ndom = ENR_NDOM(\n",
    "    pre_process=True,\n",
    "    process=True,\n",
    "    post_process=True,\n",
    "    verbose=False,\n",
    ")"
   ]
  },
  {
   "cell_type": "code",
   "execution_count": null,
   "metadata": {},
   "outputs": [],
   "source": [
    "ndom.print_types()"
   ]
  },
  {
   "cell_type": "code",
   "execution_count": null,
   "metadata": {},
   "outputs": [],
   "source": [
    "ndom.print_counts([\"CNT_COD\", \"UTZ_CONTRATTO\"])"
   ]
  },
  {
   "cell_type": "code",
   "execution_count": null,
   "metadata": {
    "code_folding": []
   },
   "outputs": [],
   "source": [
    "ndom.print_importi(\n",
    "    columns=[\"CNT_TCN_COD\"],\n",
    ")"
   ]
  },
  {
   "cell_type": "code",
   "execution_count": null,
   "metadata": {},
   "outputs": [],
   "source": [
    "ndom.print_importi(\n",
    "    columns=[\"CNT_TCN_COD\", \"MOTIVO_PAREGGIO\"],\n",
    ")"
   ]
  },
  {
   "cell_type": "code",
   "execution_count": null,
   "metadata": {},
   "outputs": [],
   "source": [
    "ndom.print_importi(\n",
    "    columns=[\"CNT_TCN_COD\", \"TIPO_DOC_PAREGGIO\"],\n",
    "    #     query=\"MOTIVO_PAREGGIO.notnull()\"\n",
    ")"
   ]
  },
  {
   "cell_type": "code",
   "execution_count": null,
   "metadata": {},
   "outputs": [],
   "source": [
    "ndom.print_flags()"
   ]
  },
  {
   "cell_type": "code",
   "execution_count": null,
   "metadata": {},
   "outputs": [],
   "source": [
    "ndom.print_importi_flags(\n",
    "    columns=[\"CNT_TCN_COD\"],\n",
    "    query=\"MOTIVO_PAREGGIO.isnull()\",\n",
    "    #     flags=[\"FLAG_GIUSTIFICATO\"]\n",
    ")"
   ]
  },
  {
   "cell_type": "code",
   "execution_count": null,
   "metadata": {},
   "outputs": [],
   "source": [
    "ndom.print_crosstab(\n",
    "    [\"MOTIVO_PAREGGIO\", \"TIPO_DOC_PAREGGIO\"],\n",
    ")"
   ]
  },
  {
   "cell_type": "code",
   "execution_count": null,
   "metadata": {},
   "outputs": [],
   "source": [
    "ndom.print_crosstab(\n",
    "    [\n",
    "        \"FLAG_NON_RECAPITATO\",\n",
    "        \"FLAG_DATI_ERRATI\",\n",
    "        \"FLAG_RATE\",\n",
    "        \"FLAG_ESENTE\",\n",
    "    ],\n",
    "    query=\"MOTIVO_PAREGGIO.isnull()\",\n",
    "    split=1,\n",
    ")"
   ]
  },
  {
   "cell_type": "code",
   "execution_count": null,
   "metadata": {},
   "outputs": [],
   "source": [
    "ndom.print_importi(\n",
    "    columns=[\"CNT_TCN_COD\"],\n",
    "    query=\"(FLAG_GIUSTIFICATO==0) & (FLAG_BOLLETTINO_WEB==1 | FLAG_BOLLETTINO_CC==1)\",\n",
    ")"
   ]
  },
  {
   "cell_type": "code",
   "execution_count": null,
   "metadata": {},
   "outputs": [],
   "source": [
    "ndom.print_importi(\n",
    "    columns=[\"CNT_TCN_COD\", \"FLAG_GET_ATTIVITA\"],\n",
    "    query=\"MOTIVO_PAREGGIO.isnull() & (FLAG_GIUSTIFICATO==0)\",\n",
    ")"
   ]
  },
  {
   "cell_type": "code",
   "execution_count": null,
   "metadata": {},
   "outputs": [],
   "source": [
    "ndom.print_importi(\n",
    "    columns=[\"CNT_TCN_COD\", \"FLAG_GET_PRATICHE\"],\n",
    "    query=\"MOTIVO_PAREGGIO.isnull() & (FLAG_GIUSTIFICATO==0)\",\n",
    ")"
   ]
  },
  {
   "cell_type": "code",
   "execution_count": null,
   "metadata": {},
   "outputs": [],
   "source": [
    "ndom.print_importi(\n",
    "    columns=[\"CNT_TCN_COD\"],  # , \"FLAG_GET_ATTIVITA\", \"FLAG_GET_PRATICHE\"],\n",
    "    query=\"MOTIVO_PAREGGIO.isnull() & (FLAG_GIUSTIFICATO==0) & (FLAG_GET_ATTIVITA==1 | FLAG_GET_PRATICHE==1)\",\n",
    "    #     query=\"MOTIVO_PAREGGIO.isnull() & (FLAG_GIUSTIFICATO==0) & (FLAG_GET_ATTIVITA==1 | FLAG_GET_PRATICHE==1) & ~(FLAG_GET_ATTIVITA==1 & FLAG_GET_PRATICHE==1)\",\n",
    ")"
   ]
  },
  {
   "cell_type": "code",
   "execution_count": null,
   "metadata": {},
   "outputs": [],
   "source": [
    "ndom.query(\n",
    "    \"MOTIVO_PAREGGIO.isnull() & (FLAG_GIUSTIFICATO==0) & (FLAG_GET_ATTIVITA==1 | FLAG_GET_PRATICHE==1)\"\n",
    "    #     \"MOTIVO_PAREGGIO.isnull() & (FLAG_GIUSTIFICATO==0) & (FLAG_GET_ATTIVITA==1 | FLAG_GET_PRATICHE==1) & ~(FLAG_GET_ATTIVITA==1 & FLAG_GET_PRATICHE==1)\"\n",
    ")"
   ]
  },
  {
   "cell_type": "code",
   "execution_count": null,
   "metadata": {},
   "outputs": [],
   "source": [
    "ndom.query_apply(\n",
    "    \"MOTIVO_PAREGGIO.isnull() & (FLAG_GIUSTIFICATO==0) & (FLAG_GET_ATTIVITA==1 | FLAG_GET_PRATICHE==1)\",\n",
    "    inplace=True,\n",
    ")"
   ]
  },
  {
   "cell_type": "code",
   "execution_count": null,
   "metadata": {},
   "outputs": [],
   "source": [
    "cols = [\n",
    "    \"CNT_COD\",\n",
    "    \"NUM_FATT\",\n",
    "    \"UTZ_CONTRATTO\",\n",
    "    \"IMPORTO_CONTRATTO\",\n",
    "    #        'MOTIVO_PAREGGIO', 'DATA_PAREGGIO', 'IMPORTO_PAREGGIO',\n",
    "    #        'TIPO_DOC_PAREGGIO',\n",
    "    \"CNT_TCN_COD\",\n",
    "    \"CNT_COGNOME\",\n",
    "    \"CNT_NOME\",\n",
    "    \"CNT_RAG_SOC\",\n",
    "    \"CNT_PAR_IVA\",\n",
    "    \"CNT_COD_FSC\",\n",
    "    \"UTZ_TARIFTYP\",\n",
    "    #        'UTZ_VIA_DES', 'UTZ_NUM_CIV', 'SUPERFICIE',\n",
    "    #        'CAP', 'COD_ZON_URB',\n",
    "    #        'NUM_CIR', 'FLAG_DECEDUTO', 'FLAG_CESSATA', 'RI_CLEAN_STA_PAR_IVA',\n",
    "    #     \"STATO\",\n",
    "    \"FLAG_GET_ATTIVITA\",\n",
    "    #     \"STATO_LAVORAZIONE\",\n",
    "    \"FLAG_GET_PRATICHE\",\n",
    "    #        'FLAG_PEC_SAP', 'SEMESTRE', 'FLAG_PEC_INV', 'FLAG_NOPEC', 'FLAG_PEC',\n",
    "    #        'FLAG_ESENTE_SAP', 'FLAG_ESENTE_RIC', 'FLAG_ESENTE', 'FLAG_RATE_SAP',\n",
    "    #        'NUM_RATE', 'IMPORTO_RATEIZZATO', 'FLAG_RATE_RIC', 'FLAG_RATE',\n",
    "    #        'FLAG_BOLLETTINO_WEB', 'FLAG_BOLLETTINO_CC', 'FLAG_NON_RECAPITATO',\n",
    "    #        'FLAG_DATI_ERRATI', 'FLAG_NOTIFICATO', 'FLAG_GIUSTIFICATO',\n",
    "    #        'FLAG_PAGATO'\n",
    "]"
   ]
  },
  {
   "cell_type": "code",
   "execution_count": null,
   "metadata": {},
   "outputs": [],
   "source": [
    "ndom.set_columns(cols)"
   ]
  },
  {
   "cell_type": "code",
   "execution_count": null,
   "metadata": {},
   "outputs": [],
   "source": [
    "ndom.df"
   ]
  },
  {
   "cell_type": "code",
   "execution_count": null,
   "metadata": {},
   "outputs": [],
   "source": [
    "ndom.print_importi(\n",
    "    columns=[\"CNT_TCN_COD\"],\n",
    ")"
   ]
  },
  {
   "cell_type": "code",
   "execution_count": null,
   "metadata": {},
   "outputs": [],
   "source": [
    "ndom.save(\"NDOM\", ext=\"csv\")"
   ]
  },
  {
   "cell_type": "code",
   "execution_count": null,
   "metadata": {},
   "outputs": [],
   "source": [
    "ndom.groupby(\n",
    "    [\"CNT_TCN_COD\", \"MOTIVO_PAREGGIO\"],\n",
    "    [\"SUPERFICIE\"],\n",
    "    [\"mean\", \"median\", \"min\", \"max\", \"std\"],\n",
    ")"
   ]
  },
  {
   "cell_type": "code",
   "execution_count": null,
   "metadata": {},
   "outputs": [],
   "source": [
    "ndom.groupby([\"NUM_CIR\"], [\"SUPERFICIE\"], [\"mean\", \"median\"])"
   ]
  },
  {
   "cell_type": "markdown",
   "metadata": {},
   "source": [
    "#### MUNICIPI"
   ]
  },
  {
   "cell_type": "code",
   "execution_count": null,
   "metadata": {},
   "outputs": [],
   "source": [
    "ndom.df.boxplot(column=\"IMPORTO_CONTRATTO\", by=\"NUM_CIR\")"
   ]
  },
  {
   "cell_type": "code",
   "execution_count": null,
   "metadata": {},
   "outputs": [],
   "source": [
    "sns.displot(\n",
    "    data=ndom.df.query(\"IMPORTO_CONTRATTO>0 & IMPORTO_CONTRATTO<10000\"),\n",
    "    x=\"IMPORTO_CONTRATTO\",\n",
    "    hue=\"NUM_CIR\",\n",
    "    kind=\"hist\",\n",
    "    bins=100,\n",
    "    rug=False,\n",
    ")"
   ]
  },
  {
   "cell_type": "code",
   "execution_count": null,
   "metadata": {},
   "outputs": [],
   "source": [
    "ndom.print_municipi()"
   ]
  },
  {
   "cell_type": "code",
   "execution_count": null,
   "metadata": {},
   "outputs": [],
   "source": [
    "x = list()\n",
    "for i, m in enumerate(ndom.df[\"NUM_CIR\"].unique()):\n",
    "    d = ndom.df.query(f\"NUM_CIR == '{m}'\")[\"IMPORTO_CONTRATTO\"].to_list()\n",
    "    x.append(d)\n",
    "    if i == 1:\n",
    "        break\n",
    "\n",
    "len(x)"
   ]
  },
  {
   "cell_type": "code",
   "execution_count": null,
   "metadata": {},
   "outputs": [],
   "source": [
    "stats.kruskal(*x)"
   ]
  },
  {
   "cell_type": "code",
   "execution_count": null,
   "metadata": {},
   "outputs": [],
   "source": [
    "sp.posthoc_dunn(x, p_adjust=\"holm\") < 0.05"
   ]
  },
  {
   "cell_type": "markdown",
   "metadata": {},
   "source": [
    "#### UTZ_TARIFTYP"
   ]
  },
  {
   "cell_type": "code",
   "execution_count": null,
   "metadata": {},
   "outputs": [],
   "source": [
    "ndom.print_importi(columns=[\"CNT_TCN_COD\", \"MOTIVO_PAREGGIO\", \"UTZ_TARIFTYP\"], query=\"MOTIVO_PAREGGIO.isnull()\")\n",
    "# FLAG_ESENTE==0 & FLAG_RATE==0"
   ]
  },
  {
   "cell_type": "markdown",
   "metadata": {},
   "source": [
    "#### SUPERFICIE"
   ]
  },
  {
   "cell_type": "code",
   "execution_count": null,
   "metadata": {},
   "outputs": [],
   "source": [
    "ndom.df[\"SUPERFICIE\"].describe()"
   ]
  },
  {
   "cell_type": "code",
   "execution_count": null,
   "metadata": {},
   "outputs": [],
   "source": [
    "pd.cut(ndom.df[\"SUPERFICIE\"], 10)"
   ]
  },
  {
   "cell_type": "code",
   "execution_count": null,
   "metadata": {},
   "outputs": [],
   "source": [
    "importo_gb(\n",
    "    ndom.df.query(\"IMPORTO_CONTRATTO > 0\"),  # .query(\"SUPERFICIE > 25000\"),\n",
    "    cols=[\"CNT_TCN_COD\", \"MOTIVO_PAREGGIO\", \"SUPERFICIE\"],\n",
    "    query=\"IMPORTO_DELTA != 0\",\n",
    "    sort=True,\n",
    "    bins=10,\n",
    ")"
   ]
  },
  {
   "cell_type": "code",
   "execution_count": null,
   "metadata": {},
   "outputs": [],
   "source": [
    "ndom.query(\"SUPERFICIE > 50000 & MOTIVO_PAREGGIO.isnull()\")"
   ]
  },
  {
   "cell_type": "code",
   "execution_count": null,
   "metadata": {},
   "outputs": [],
   "source": [
    "ndom.query(\"FLAG_ESENTE == True & FLAG_RATE == True\")"
   ]
  },
  {
   "cell_type": "code",
   "execution_count": null,
   "metadata": {},
   "outputs": [],
   "source": [
    "ndom.pivot_table(\n",
    "    [\"FLAG_ESENTE\", \"FLAG_RATE\"],\n",
    "    \"FLAG_PEC_COMB\",\n",
    "    \"IMPORTO_CONTRATTO\",\n",
    "    [\"sum\", \"mean\"],\n",
    ")"
   ]
  },
  {
   "cell_type": "markdown",
   "metadata": {},
   "source": [
    "## CONTRATTI"
   ]
  },
  {
   "cell_type": "code",
   "execution_count": null,
   "metadata": {},
   "outputs": [],
   "source": [
    "cnt = ENR_CONTRATTI()"
   ]
  },
  {
   "cell_type": "code",
   "execution_count": null,
   "metadata": {},
   "outputs": [],
   "source": [
    "cnt.merge_DOM_NDOM()"
   ]
  },
  {
   "cell_type": "code",
   "execution_count": null,
   "metadata": {},
   "outputs": [],
   "source": [
    "cnt.query(\"CNT_TCN_COD.isnull()\")"
   ]
  },
  {
   "cell_type": "code",
   "execution_count": null,
   "metadata": {},
   "outputs": [],
   "source": [
    "cnt.save()"
   ]
  },
  {
   "cell_type": "code",
   "execution_count": null,
   "metadata": {},
   "outputs": [],
   "source": [
    "cnt = ENR_CONTRATTI(\n",
    "    pickled=True,\n",
    "    pre_process=False,\n",
    "    process=False,\n",
    "    post_process=False,\n",
    "    verbose=False,\n",
    ")"
   ]
  },
  {
   "cell_type": "code",
   "execution_count": null,
   "metadata": {},
   "outputs": [],
   "source": [
    "cnt.merge_VOLTURE()"
   ]
  },
  {
   "cell_type": "code",
   "execution_count": null,
   "metadata": {},
   "outputs": [],
   "source": [
    "cnt.print_counts(\"FLAG_VOLTURA\")"
   ]
  },
  {
   "cell_type": "code",
   "execution_count": null,
   "metadata": {},
   "outputs": [],
   "source": [
    "cnt.save()"
   ]
  },
  {
   "cell_type": "markdown",
   "metadata": {},
   "source": [
    "### SUMMARY"
   ]
  },
  {
   "cell_type": "code",
   "execution_count": null,
   "metadata": {},
   "outputs": [],
   "source": [
    "cnt = ENR_CONTRATTI(\n",
    "    pickled=True,\n",
    ")"
   ]
  },
  {
   "cell_type": "code",
   "execution_count": null,
   "metadata": {},
   "outputs": [],
   "source": [
    "cnt.query(\"CNT_TCN_COD.isnull()\")"
   ]
  },
  {
   "cell_type": "code",
   "execution_count": null,
   "metadata": {},
   "outputs": [],
   "source": [
    "cnt.print_counts(\n",
    "    [\n",
    "        \"TIPO_UTZ\",\n",
    "        #         \"CATEGORIA\",\n",
    "        \"CNT_TCN_COD\",\n",
    "        \"FLAG_DECEDUTO\",\n",
    "        \"FLAG_CESSATA\",\n",
    "        \"FLAG_PAGATO\",\n",
    "        \"FLAG_VOLTURA\",\n",
    "        \"FLAG_MODESTA_VALENTI\",\n",
    "    ]\n",
    ")"
   ]
  },
  {
   "cell_type": "code",
   "execution_count": null,
   "metadata": {},
   "outputs": [],
   "source": [
    "cnt.cross_table(\n",
    "    [\n",
    "        \"TIPO_UTZ\",\n",
    "        \"CNT_TCN_COD\",\n",
    "        \"FLAG_PAGATO\",\n",
    "    ],\n",
    "    [\n",
    "        \"FLAG_DECEDUTO\",\n",
    "        \"FLAG_VOLTURA\",\n",
    "        \"FLAG_MODESTA_VALENTI\",\n",
    "        \"FLAG_CESSATA\",\n",
    "    ],\n",
    "    query=\"CNT_TCN_COD.notnull()\",\n",
    ")"
   ]
  },
  {
   "cell_type": "code",
   "execution_count": null,
   "metadata": {},
   "outputs": [],
   "source": [
    "cnt.drop_columns(\n",
    "    columns=[\n",
    "        #         \"CNT_COD\",\n",
    "        #         \"CNT_COGNOME\",\n",
    "        #         \"CNT_NOME\",\n",
    "        #         \"CNT_RAG_SOC\",\n",
    "        #         \"CNT_PAR_IVA\",\n",
    "        #         \"CNT_COD_FSC\",\n",
    "        \"NUM_FATT\",\n",
    "        \"IMPORTO_CONTRATTO\",\n",
    "        \"MOTIVO_PAREGGIO\",\n",
    "        \"IMPORTO_PAREGGIO\",\n",
    "        \"RCP_VIA_DES\",\n",
    "        \"UTZ_VIA_DES\",\n",
    "    ]\n",
    ")"
   ]
  },
  {
   "cell_type": "code",
   "execution_count": null,
   "metadata": {},
   "outputs": [],
   "source": [
    "cnt"
   ]
  },
  {
   "cell_type": "code",
   "execution_count": null,
   "metadata": {},
   "outputs": [],
   "source": [
    "cnt.save(\"CONTRATTI\", ext=\"csv\")"
   ]
  },
  {
   "cell_type": "code",
   "execution_count": null,
   "metadata": {},
   "outputs": [],
   "source": [
    "cnt.drop_columns(\n",
    "    columns=[\n",
    "        \"CNT_COD\",\n",
    "        \"CNT_COGNOME\",\n",
    "        \"CNT_NOME\",\n",
    "        \"CNT_RAG_SOC\",\n",
    "        \"CNT_PAR_IVA\",\n",
    "        \"CNT_COD_FSC\",\n",
    "        \"NUM_FATT\",\n",
    "        \"IMPORTO_CONTRATTO\",\n",
    "        \"MOTIVO_PAREGGIO\",\n",
    "        \"IMPORTO_PAREGGIO\",\n",
    "        \"RCP_VIA_DES\",\n",
    "        \"UTZ_VIA_DES\",\n",
    "    ]\n",
    ")"
   ]
  },
  {
   "cell_type": "code",
   "execution_count": null,
   "metadata": {},
   "outputs": [],
   "source": [
    "cnt"
   ]
  },
  {
   "cell_type": "code",
   "execution_count": null,
   "metadata": {},
   "outputs": [],
   "source": [
    "cnt.save(\"CONTRATTI_NO_DP\", ext=\"csv\")"
   ]
  },
  {
   "cell_type": "markdown",
   "metadata": {},
   "source": [
    "## FLUSSI"
   ]
  },
  {
   "cell_type": "markdown",
   "metadata": {},
   "source": [
    "### RECAPITI"
   ]
  },
  {
   "cell_type": "code",
   "execution_count": null,
   "metadata": {},
   "outputs": [],
   "source": [
    "dom_rec = ENR_DOM_RECAPITI(\n",
    "    pre_process=True,\n",
    "    process=True,\n",
    "    post_process=True,\n",
    ")"
   ]
  },
  {
   "cell_type": "code",
   "execution_count": null,
   "metadata": {},
   "outputs": [],
   "source": [
    "dom_rec.print_counts(\"FLAG_RECAPITO\")"
   ]
  },
  {
   "cell_type": "code",
   "execution_count": null,
   "metadata": {},
   "outputs": [],
   "source": [
    "dom_rec.print_counts(\"RCP_CMN_DES\")"
   ]
  },
  {
   "cell_type": "code",
   "execution_count": null,
   "metadata": {},
   "outputs": [],
   "source": [
    "dom_rec.df[\"RCP_CMN_DES\"].str.isalpha().value_counts()"
   ]
  },
  {
   "cell_type": "code",
   "execution_count": null,
   "metadata": {},
   "outputs": [],
   "source": [
    "dom_rec.query(\"RCP_CMN_DES == 'SUSTRI VT'\")"
   ]
  },
  {
   "cell_type": "code",
   "execution_count": null,
   "metadata": {},
   "outputs": [],
   "source": [
    "geo = ENR_COMUNI(pre_process=True, process=True, post_process=True, silent=True)"
   ]
  },
  {
   "cell_type": "code",
   "execution_count": null,
   "metadata": {},
   "outputs": [],
   "source": [
    "\"MONTERADO\" in geo.comuni()"
   ]
  },
  {
   "cell_type": "markdown",
   "metadata": {},
   "source": [
    "### PEC"
   ]
  },
  {
   "cell_type": "code",
   "execution_count": null,
   "metadata": {},
   "outputs": [],
   "source": [
    "ndom_nopec = ENR_NDOM_PEC_SAP(\n",
    "    pre_process=True,\n",
    "    process=True,\n",
    "    post_process=True,\n",
    ")"
   ]
  },
  {
   "cell_type": "code",
   "execution_count": null,
   "metadata": {},
   "outputs": [],
   "source": [
    "ndom_pec = ENR_NDOM_PEC_INVII(\n",
    "    pre_process=True,\n",
    "    process=True,\n",
    "    post_process=True,\n",
    ")"
   ]
  },
  {
   "cell_type": "code",
   "execution_count": null,
   "metadata": {},
   "outputs": [],
   "source": [
    "ndom_pec.print_counts(\"DESCRIZIONE_ERRORE_SEIPEC\")"
   ]
  },
  {
   "cell_type": "code",
   "execution_count": null,
   "metadata": {},
   "outputs": [],
   "source": [
    "ndom_pec.print_counts(\"SEMESTRE\")"
   ]
  },
  {
   "cell_type": "markdown",
   "metadata": {},
   "source": [
    "### GET"
   ]
  },
  {
   "cell_type": "code",
   "execution_count": null,
   "metadata": {},
   "outputs": [],
   "source": [
    "get_att = ENR_GET_ATTIVITA(\n",
    "    pre_process=True,\n",
    "    process=True,\n",
    "    post_process=True,\n",
    ")"
   ]
  },
  {
   "cell_type": "code",
   "execution_count": null,
   "metadata": {},
   "outputs": [],
   "source": [
    "get_att.print_counts([\"STATO\"])"
   ]
  },
  {
   "cell_type": "code",
   "execution_count": null,
   "metadata": {},
   "outputs": [],
   "source": [
    "get_prt = ENR_GET_PRATICHE(\n",
    "    pre_process=True,\n",
    "    process=True,\n",
    "    post_process=True,\n",
    ")"
   ]
  },
  {
   "cell_type": "code",
   "execution_count": null,
   "metadata": {},
   "outputs": [],
   "source": [
    "get_prt.print_counts(\"STATO_LAVORAZIONE\")"
   ]
  },
  {
   "cell_type": "code",
   "execution_count": null,
   "metadata": {},
   "outputs": [],
   "source": [
    "get_prt.df[\"DATA_PRESENTAZIONE\"].min()"
   ]
  },
  {
   "cell_type": "code",
   "execution_count": null,
   "metadata": {},
   "outputs": [],
   "source": [
    "get_prt.print_counts([\"STATO_LAVORAZIONE\"])"
   ]
  },
  {
   "cell_type": "markdown",
   "metadata": {},
   "source": [
    "### GE"
   ]
  },
  {
   "cell_type": "code",
   "execution_count": null,
   "metadata": {},
   "outputs": [],
   "source": [
    "ge_t = ENR_GE_TERRIT(\n",
    "    pre_process=True,\n",
    "    process=True,\n",
    "    post_process=True,\n",
    ")"
   ]
  },
  {
   "cell_type": "code",
   "execution_count": null,
   "metadata": {},
   "outputs": [],
   "source": [
    "ge_t.print_counts(\"COD_VIA\")"
   ]
  },
  {
   "cell_type": "code",
   "execution_count": null,
   "metadata": {},
   "outputs": [],
   "source": [
    "ge_t.print_counts(\"NUM_CIR\")"
   ]
  },
  {
   "cell_type": "code",
   "execution_count": null,
   "metadata": {},
   "outputs": [],
   "source": [
    "ge_t.print_duplicates([\"COD_VIA\"])"
   ]
  },
  {
   "cell_type": "code",
   "execution_count": null,
   "metadata": {},
   "outputs": [],
   "source": [
    "ge_t.query(\"LIM_CIV_DA == LIM_CIV_A\")"
   ]
  },
  {
   "cell_type": "code",
   "execution_count": null,
   "metadata": {},
   "outputs": [],
   "source": [
    "ge_t.query(\"COD_VIA=='100045'\")"
   ]
  },
  {
   "cell_type": "code",
   "execution_count": null,
   "metadata": {},
   "outputs": [],
   "source": [
    "ge_t.query(\"COD_VIA == '1001'\")"
   ]
  },
  {
   "cell_type": "code",
   "execution_count": null,
   "metadata": {},
   "outputs": [],
   "source": [
    "ge_t.query(\"COD_VIA == '99835'\")"
   ]
  },
  {
   "cell_type": "code",
   "execution_count": null,
   "metadata": {},
   "outputs": [],
   "source": [
    "ge_v = ENR_GE_VIE(\n",
    "    pre_process=True,\n",
    "    process=True,\n",
    "    post_process=True,\n",
    ")"
   ]
  },
  {
   "cell_type": "code",
   "execution_count": null,
   "metadata": {},
   "outputs": [],
   "source": [
    "ge_v.merge_GE_TERRIT()"
   ]
  },
  {
   "cell_type": "code",
   "execution_count": null,
   "metadata": {},
   "outputs": [],
   "source": [
    "ge_v.print_duplicates()"
   ]
  },
  {
   "cell_type": "code",
   "execution_count": null,
   "metadata": {},
   "outputs": [],
   "source": [
    "ge_v.print_counts(\"COD_VIA\")"
   ]
  },
  {
   "cell_type": "markdown",
   "metadata": {},
   "source": [
    "### DECESSI"
   ]
  },
  {
   "cell_type": "code",
   "execution_count": null,
   "metadata": {},
   "outputs": [],
   "source": [
    "dec = ENR_DECESSI(\n",
    "    pre_process=True,\n",
    "    process=True,\n",
    "    post_process=True,\n",
    ")"
   ]
  },
  {
   "cell_type": "code",
   "execution_count": null,
   "metadata": {},
   "outputs": [],
   "source": [
    "dec.query(\"COD_FISCALE == 'CMPNND35L21H501Q'\")"
   ]
  },
  {
   "cell_type": "code",
   "execution_count": null,
   "metadata": {},
   "outputs": [],
   "source": [
    "dec.print_counts(\"VERIFICA_SOGG\")"
   ]
  },
  {
   "cell_type": "markdown",
   "metadata": {},
   "source": [
    "### VOLTURE"
   ]
  },
  {
   "cell_type": "code",
   "execution_count": null,
   "metadata": {},
   "outputs": [],
   "source": [
    "vol = ENR_VOLTURE(\n",
    "    pre_process=True,\n",
    "    process=True,\n",
    "    post_process=True,\n",
    ")"
   ]
  },
  {
   "cell_type": "code",
   "execution_count": null,
   "metadata": {},
   "outputs": [],
   "source": [
    "vol.print_dtypes()"
   ]
  },
  {
   "cell_type": "code",
   "execution_count": null,
   "metadata": {},
   "outputs": [],
   "source": [
    "dec.print_counts(\"VERIFICA_SOGG\")"
   ]
  },
  {
   "cell_type": "markdown",
   "metadata": {},
   "source": [
    "### CESSAZIONI"
   ]
  },
  {
   "cell_type": "code",
   "execution_count": null,
   "metadata": {},
   "outputs": [],
   "source": [
    "ces = ENR_CESSAZIONI(\n",
    "    pre_process=True,\n",
    "    process=True,\n",
    "    post_process=True,\n",
    ")"
   ]
  },
  {
   "cell_type": "code",
   "execution_count": null,
   "metadata": {},
   "outputs": [],
   "source": [
    "ces.print_counts([\"RI_CLEAN_STA_PAR_IVA\", \"FLAG_CESSATA\"])"
   ]
  },
  {
   "cell_type": "markdown",
   "metadata": {},
   "source": [
    "### ESENZIONI"
   ]
  },
  {
   "cell_type": "code",
   "execution_count": null,
   "metadata": {},
   "outputs": [],
   "source": [
    "ese_sap = ENR_ESENZIONI_SAP(\n",
    "    pre_process=True,\n",
    "    process=True,\n",
    "    post_process=True,\n",
    ")"
   ]
  },
  {
   "cell_type": "code",
   "execution_count": null,
   "metadata": {},
   "outputs": [],
   "source": [
    "ese_r = ENR_ESENZIONI_RICHIESTE(\n",
    "    pre_process=True,\n",
    "    process=True,\n",
    "    post_process=True,\n",
    ")"
   ]
  },
  {
   "cell_type": "markdown",
   "metadata": {},
   "source": [
    "### RATEIZZAZIONI"
   ]
  },
  {
   "cell_type": "code",
   "execution_count": null,
   "metadata": {},
   "outputs": [],
   "source": [
    "rate_sap = ENR_RATEIZZAZIONI_SAP(\n",
    "    pre_process=True,\n",
    "    process=True,\n",
    "    post_process=True,\n",
    ")"
   ]
  },
  {
   "cell_type": "code",
   "execution_count": null,
   "metadata": {},
   "outputs": [],
   "source": [
    "rate_r = ENR_RATEIZZAZIONI_RICHIESTE(\n",
    "    pre_process=True,\n",
    "    process=True,\n",
    "    post_process=True,\n",
    ")"
   ]
  },
  {
   "cell_type": "code",
   "execution_count": null,
   "metadata": {},
   "outputs": [],
   "source": [
    "rate_r.print_counts(\"Stato\")"
   ]
  },
  {
   "cell_type": "markdown",
   "metadata": {},
   "source": [
    "### RECLAMI"
   ]
  },
  {
   "cell_type": "code",
   "execution_count": null,
   "metadata": {},
   "outputs": [],
   "source": [
    "reclami = ENR_RECLAMI(\n",
    "    pre_process=True,\n",
    "    process=True,\n",
    "    post_process=True,\n",
    ")"
   ]
  },
  {
   "cell_type": "code",
   "execution_count": null,
   "metadata": {},
   "outputs": [],
   "source": [
    "reclami.print_counts(\"STATO\")"
   ]
  },
  {
   "cell_type": "code",
   "execution_count": null,
   "metadata": {},
   "outputs": [],
   "source": [
    "reclami.groupby([\"CATEGORIA\", \"CANALEDITRASMISSIONE\", \"RAGGRUPPAMENTO\"], [\"ID\"], [\"count\"])"
   ]
  },
  {
   "cell_type": "markdown",
   "metadata": {},
   "source": [
    "### PAGAMENTI"
   ]
  },
  {
   "cell_type": "code",
   "execution_count": null,
   "metadata": {},
   "outputs": [],
   "source": [
    "pag = ENR_PAGAMENTI(\n",
    "    pre_process=True,\n",
    "    process=True,\n",
    "    post_process=True,\n",
    ")"
   ]
  },
  {
   "cell_type": "markdown",
   "metadata": {},
   "source": [
    "### NDOM"
   ]
  },
  {
   "cell_type": "code",
   "execution_count": null,
   "metadata": {},
   "outputs": [],
   "source": [
    "ndom = ENR_NDOM(\n",
    "    pre_process=True,\n",
    "    process=True,\n",
    "    post_process=True,\n",
    ")"
   ]
  },
  {
   "cell_type": "code",
   "execution_count": null,
   "metadata": {},
   "outputs": [],
   "source": [
    "ndom.merge_PAGAMENTI()"
   ]
  },
  {
   "cell_type": "code",
   "execution_count": null,
   "metadata": {},
   "outputs": [],
   "source": [
    "ndom.df[\"IMPORTO_PAREGGIO\"].sum()"
   ]
  },
  {
   "cell_type": "code",
   "execution_count": null,
   "metadata": {},
   "outputs": [],
   "source": [
    "ndom.df[\"IMPORTO_PAGAMENTO\"].sum()"
   ]
  },
  {
   "cell_type": "code",
   "execution_count": null,
   "metadata": {},
   "outputs": [],
   "source": [
    "ndom.query(\"IMPORTO_PAREGGIO != IMPORTO_PAGAMENTO & IMPORTO_PAGAMENTO != 0\")"
   ]
  },
  {
   "cell_type": "code",
   "execution_count": null,
   "metadata": {},
   "outputs": [],
   "source": [
    "ndom2.df[\"PAREGGIO\"] = ~ndom2.df[\"DATA_PAREGGIO\"].isna()\n",
    "ndom2.df[\"PAGAMENTO\"] = ~ndom2.df[\"DATA_PAGAMENTO\"].isna()\n",
    "\n",
    "ndom2.print_counts(\"PAREGGIO\")\n",
    "ndom2.print_counts(\"PAGAMENTO\")"
   ]
  },
  {
   "cell_type": "code",
   "execution_count": null,
   "metadata": {},
   "outputs": [],
   "source": [
    "ndom2.df[(ndom2.df[\"PAGAMENTO\"] == True) & (ndom2.df[\"PAREGGIO\"] == False)]"
   ]
  },
  {
   "cell_type": "code",
   "execution_count": null,
   "metadata": {},
   "outputs": [],
   "source": [
    "ndom2.df[(ndom2.df[\"PAGAMENTO\"] == True) & (ndom2.df[\"IMPORTO_PAREGGIO\"] == 0)]"
   ]
  },
  {
   "cell_type": "code",
   "execution_count": null,
   "metadata": {},
   "outputs": [],
   "source": [
    "(ndom2.df[(ndom2.df[\"PAGAMENTO\"] == True) & (ndom2.df[\"IMPORTO_PAREGGIO\"] == 0)]).value_counts(\n",
    "    \"MOTIVO_PAREGGIO\", dropna=False\n",
    ")"
   ]
  },
  {
   "cell_type": "markdown",
   "metadata": {},
   "source": [
    "### BONIFICI"
   ]
  },
  {
   "cell_type": "code",
   "execution_count": null,
   "metadata": {},
   "outputs": [],
   "source": [
    "bnf = ENR_PAGAMENTI_BONIFICI(\n",
    "    pre_process=True,\n",
    "    process=True,\n",
    "    post_process=True,\n",
    ")"
   ]
  },
  {
   "cell_type": "code",
   "execution_count": null,
   "metadata": {},
   "outputs": [],
   "source": [
    "bnf.groupby([\"CCP\"], [\"IMPORTO_BON\"], [\"sum\"])"
   ]
  },
  {
   "cell_type": "code",
   "execution_count": null,
   "metadata": {},
   "outputs": [],
   "source": [
    "bnf_ = bnf.df.query(\n",
    "    \"NOTE.str.contains('TA[., ]?RI',regex=True,case=False) & NOTE.str.contains('sem',regex=True,case=False)\"\n",
    ")\n",
    "bnf_ = bnf_.query(\n",
    "    \"~NOTE.str.contains('II',regex=True,case=False) & ~NOTE.str.contains('2o',regex=True,case=False) & ~NOTE.str.contains('[\\s]sec',regex=True,case=False)\"\n",
    ")\n",
    "display(bnf_)\n",
    "bnf_.groupby(\"CCP\", dropna=False)[\"IMPORTO_BON\"].agg(\"sum\").to_frame()"
   ]
  },
  {
   "cell_type": "code",
   "execution_count": null,
   "metadata": {},
   "outputs": [],
   "source": [
    "note = bnf_[\"NOTE\"]\n",
    "with pd.option_context(\"display.max_rows\", None, \"display.max_colwidth\", None):\n",
    "    display(note.values)"
   ]
  },
  {
   "cell_type": "markdown",
   "metadata": {},
   "source": [
    "### F24"
   ]
  },
  {
   "cell_type": "code",
   "execution_count": null,
   "metadata": {},
   "outputs": [],
   "source": [
    "f24 = ENR_PAGAMENTI_F24(\n",
    "    pre_process=True,\n",
    "    process=True,\n",
    "    post_process=True,\n",
    ")"
   ]
  },
  {
   "cell_type": "code",
   "execution_count": null,
   "metadata": {},
   "outputs": [],
   "source": [
    "f24.print_counts(\"Rateaz\")"
   ]
  },
  {
   "cell_type": "code",
   "execution_count": null,
   "metadata": {},
   "outputs": [],
   "source": [
    "sorted(f24.df.value_counts(\"Rateaz\").index)"
   ]
  },
  {
   "cell_type": "code",
   "execution_count": null,
   "metadata": {},
   "outputs": [],
   "source": [
    "f24.groupby([\"CodTrib\"], [\"IMPORTO_F24\"], [\"sum\"])"
   ]
  },
  {
   "cell_type": "code",
   "execution_count": null,
   "metadata": {},
   "outputs": [],
   "source": [
    "f24.query(\"CodFis=='04069160580'\")"
   ]
  },
  {
   "cell_type": "markdown",
   "metadata": {},
   "source": [
    "### PAGO PA"
   ]
  },
  {
   "cell_type": "code",
   "execution_count": null,
   "metadata": {},
   "outputs": [],
   "source": [
    "rp = ENR_PAGAMENTI_PAGOPA(\n",
    "    nrows=10000,\n",
    "    #     dry=True,\n",
    "    #     verbose=False,\n",
    "    pre_process=True,\n",
    "    process=True,\n",
    "    post_process=True,\n",
    ")"
   ]
  },
  {
   "cell_type": "code",
   "execution_count": null,
   "metadata": {},
   "outputs": [],
   "source": [
    "rp.groupby(\n",
    "    [\"RETEINCASSO\"],\n",
    "    [\"IMPORTO_AVVISO\", \"IMPORTO_PAGOPA\", \"IMPORTOTOTALEACCREDITATO\"],\n",
    "    [\"sum\"],\n",
    ")"
   ]
  },
  {
   "cell_type": "markdown",
   "metadata": {},
   "source": [
    "### BOLLETTINI"
   ]
  },
  {
   "cell_type": "code",
   "execution_count": null,
   "metadata": {},
   "outputs": [],
   "source": [
    "bol = ENR_BOLLETTINI_WEB(\n",
    "    pre_process=True,\n",
    "    process=True,\n",
    "    post_process=True,\n",
    ")"
   ]
  },
  {
   "cell_type": "code",
   "execution_count": null,
   "metadata": {},
   "outputs": [],
   "source": [
    "bol.print_duplicates(\"keys\")"
   ]
  },
  {
   "cell_type": "code",
   "execution_count": null,
   "metadata": {},
   "outputs": [],
   "source": [
    "cc = ENR_BOLLETTINI_CC(\n",
    "    pre_process=True,\n",
    "    process=True,\n",
    "    post_process=True,\n",
    ")"
   ]
  },
  {
   "cell_type": "code",
   "execution_count": null,
   "metadata": {},
   "outputs": [],
   "source": [
    "bol.print_duplicates(\"keys\")"
   ]
  }
 ],
 "metadata": {
  "anaconda-cloud": {},
  "kernelspec": {
   "display_name": "Python 3 (ipykernel)",
   "language": "python",
   "name": "python3"
  },
  "language_info": {
   "codemirror_mode": {
    "name": "ipython",
    "version": 3
   },
   "file_extension": ".py",
   "mimetype": "text/x-python",
   "name": "python",
   "nbconvert_exporter": "python",
   "pygments_lexer": "ipython3",
   "version": "3.9.13"
  },
  "toc": {
   "base_numbering": 1,
   "nav_menu": {},
   "number_sections": true,
   "sideBar": true,
   "skip_h1_title": false,
   "title_cell": "Table of Contents",
   "title_sidebar": "Contents",
   "toc_cell": false,
   "toc_position": {
    "height": "calc(100% - 180px)",
    "left": "10px",
    "top": "150px",
    "width": "307.188px"
   },
   "toc_section_display": true,
   "toc_window_display": true
  },
  "varInspector": {
   "cols": {
    "lenName": 16,
    "lenType": 16,
    "lenVar": 40
   },
   "kernels_config": {
    "python": {
     "delete_cmd_postfix": "",
     "delete_cmd_prefix": "del ",
     "library": "var_list.py",
     "varRefreshCmd": "print(var_dic_list())"
    },
    "r": {
     "delete_cmd_postfix": ") ",
     "delete_cmd_prefix": "rm(",
     "library": "var_list.r",
     "varRefreshCmd": "cat(var_dic_list()) "
    }
   },
   "position": {
    "height": "532.844px",
    "left": "1479px",
    "right": "20px",
    "top": "120px",
    "width": "355px"
   },
   "types_to_exclude": [
    "module",
    "function",
    "builtin_function_or_method",
    "instance",
    "_Feature"
   ],
   "window_display": false
  }
 },
 "nbformat": 4,
 "nbformat_minor": 4
}
