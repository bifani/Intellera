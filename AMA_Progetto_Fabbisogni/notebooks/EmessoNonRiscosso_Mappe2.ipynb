{
 "cells": [
  {
   "cell_type": "code",
   "execution_count": null,
   "id": "648d62ae",
   "metadata": {},
   "outputs": [],
   "source": [
    "# pip install geopy"
   ]
  },
  {
   "cell_type": "code",
   "execution_count": null,
   "id": "925dbbe2",
   "metadata": {},
   "outputs": [],
   "source": [
    "# pip install geopandas"
   ]
  },
  {
   "cell_type": "code",
   "execution_count": null,
   "id": "ffc60b6a",
   "metadata": {},
   "outputs": [],
   "source": [
    "# pip install folium"
   ]
  },
  {
   "cell_type": "code",
   "execution_count": null,
   "id": "287178e1",
   "metadata": {},
   "outputs": [],
   "source": [
    "import pandas as pd\n",
    "import numpy as np\n",
    "import folium\n",
    "import time\n",
    "import geopy\n",
    "from geopy.extra.rate_limiter import RateLimiter\n",
    "from folium.plugins import HeatMap\n",
    "import matplotlib as mpl"
   ]
  },
  {
   "cell_type": "markdown",
   "id": "e2ce4ee0",
   "metadata": {},
   "source": [
    "l'equivalente NdomConParticelle in xlsx è DOM_Contratti_Attivi_20220929\n",
    "\n",
    "DOM_Contratti_Attivi_20220929.tsv"
   ]
  },
  {
   "cell_type": "code",
   "execution_count": null,
   "id": "e1477cf8",
   "metadata": {},
   "outputs": [],
   "source": [
    "df = pd.read_csv(\n",
    "    \"C:/Users/gmauri01/Intellera/Progetto Fabbisogni Ta.Ri. SIR Gescan2 - Documenti/Dati/Analisi-Emesso-Non-Riscosso/dati-acquisiti/FornitureAMA/DOM_Contratti_Attivi_20220929.tsv\",\n",
    "    sep=\"\\t\",\n",
    ")"
   ]
  },
  {
   "cell_type": "code",
   "execution_count": null,
   "id": "da612d7a",
   "metadata": {},
   "outputs": [],
   "source": [
    "df.columns"
   ]
  },
  {
   "cell_type": "code",
   "execution_count": null,
   "id": "ce7180cc",
   "metadata": {},
   "outputs": [],
   "source": [
    "# m = folium.Map(location=[41.9109, 12.4818], tiles=\"cartodbpositron\", zoom_start = 11)\n",
    "m = folium.Map(location=[41.9109, 12.4818], zoom_start=11)\n",
    "folium.GeoJson(\"C:/Users/gmauri01/intellera_code/progetto_comune_roma/municipi.geojson\").add_to(m)\n",
    "m"
   ]
  },
  {
   "cell_type": "code",
   "execution_count": null,
   "id": "8b18e19f",
   "metadata": {},
   "outputs": [],
   "source": [
    "locator = geopy.Nominatim(user_agent=\"myGeocoder\")\n",
    "# 1 - conveneint function to delay between geocoding calls\n",
    "geocode = RateLimiter(locator.geocode, min_delay_seconds=0.01)\n",
    "geocode = locator.geocode"
   ]
  },
  {
   "cell_type": "code",
   "execution_count": null,
   "id": "2004e05c",
   "metadata": {},
   "outputs": [],
   "source": [
    "# start_time = time.time()\n",
    "# bla=df['UTZ_VIA_DES'][0:100].apply(geocode)\n",
    "# print(\"--- %s seconds ---\" % (time.time() - start_time))"
   ]
  },
  {
   "cell_type": "code",
   "execution_count": null,
   "id": "03d3d430",
   "metadata": {},
   "outputs": [],
   "source": [
    "vie = df[\"UTZ_VIA_DES\"].drop_duplicates().reset_index(drop=True)"
   ]
  },
  {
   "cell_type": "code",
   "execution_count": null,
   "id": "07112623",
   "metadata": {},
   "outputs": [],
   "source": [
    "vie = vie + \" ROMA\""
   ]
  },
  {
   "cell_type": "code",
   "execution_count": null,
   "id": "8f21670d",
   "metadata": {},
   "outputs": [],
   "source": [
    "vie"
   ]
  },
  {
   "cell_type": "markdown",
   "id": "f70e7b97",
   "metadata": {},
   "source": [
    "Fatto così mi ci vogliono 10291 minuti, cioè 172 ore.\n",
    "Se utilizzo 20 pc differenti o parallelizzo mi ci vogliono 8.6 ore.\n",
    "Se lo fai con le risorse free di Google bisognerebbe spezzare in almeno 6 parti ciascun runtime sulle macchine. \n",
    "Daremmo a Google solo le vie e gli diremmo di trovare i CAP. "
   ]
  },
  {
   "cell_type": "markdown",
   "id": "1a2a83a1",
   "metadata": {},
   "source": [
    "Prepariamo intanto un modello giocattolo per poter mettere i punti sulla mappa. 1000 punti."
   ]
  },
  {
   "cell_type": "code",
   "execution_count": null,
   "id": "c8f6ced7",
   "metadata": {},
   "outputs": [],
   "source": [
    "# start_time = time.time()\n",
    "# coord_vie=vie.apply(geocode)\n",
    "# print(\"--- %s seconds ---\" % (time.time() - start_time))"
   ]
  },
  {
   "cell_type": "code",
   "execution_count": null,
   "id": "f3fe0d65",
   "metadata": {},
   "outputs": [],
   "source": [
    "# indirizzo=[]\n",
    "# lat=[]\n",
    "# long=[]\n",
    "# for i in range(len(coord_vie)):\n",
    "#     if coord_vie[i] is None :\n",
    "#         print(i)\n",
    "#         indirizzo.append(np.nan)\n",
    "#         lat.append(np.nan)\n",
    "#         long.append(np.nan)\n",
    "#     else:\n",
    "#         indirizzo.append(coord_vie[i][0])\n",
    "#         lat.append(coord_vie[i][1][0])\n",
    "#         long.append(coord_vie[i][1][1])"
   ]
  },
  {
   "cell_type": "markdown",
   "id": "21cc883f",
   "metadata": {},
   "source": [
    "# indici da cercare\n",
    "334\n",
    "1241\n",
    "1479\n",
    "2445\n",
    "2482\n",
    "2528\n",
    "2607\n",
    "2706\n",
    "3241\n",
    "3322\n",
    "4128\n",
    "4202\n",
    "4299\n",
    "4625\n",
    "4730\n",
    "5278\n",
    "5679\n",
    "5783\n",
    "5948\n",
    "6197\n",
    "6336\n",
    "6447\n",
    "6633\n",
    "6763\n",
    "6837\n",
    "7142\n",
    "7343\n",
    "7713\n",
    "8394\n",
    "8687\n",
    "8724\n",
    "9073\n",
    "9200\n",
    "9231\n",
    "9694\n",
    "9720\n",
    "9843\n",
    "10012\n",
    "10255\n",
    "10453\n",
    "10709\n",
    "10905\n",
    "11002\n",
    "11262\n",
    "11319\n",
    "11487\n",
    "11691\n",
    "11950\n",
    "12012\n",
    "12426\n",
    "12529\n",
    "12612\n",
    "12691\n",
    "12754\n",
    "12856\n",
    "12938\n",
    "13033\n",
    "13036\n",
    "13290\n",
    "13323\n",
    "13419\n",
    "13465\n",
    "13624"
   ]
  },
  {
   "cell_type": "code",
   "execution_count": null,
   "id": "b614b20e",
   "metadata": {},
   "outputs": [],
   "source": [
    "# df=pd.DataFrame()\n",
    "# df['vie']=vie\n",
    "# df['indirizzo']=indirizzo\n",
    "# df['lat']=lat\n",
    "# df['long']=long\n",
    "# df.to_csv('DISTINCT_vie.csv')"
   ]
  },
  {
   "cell_type": "code",
   "execution_count": null,
   "id": "d2b7fd29",
   "metadata": {},
   "outputs": [],
   "source": [
    "# df.indirizzo.isnull().sum()"
   ]
  },
  {
   "cell_type": "code",
   "execution_count": null,
   "id": "7e330865",
   "metadata": {},
   "outputs": [],
   "source": [
    "data_vie = pd.read_csv(\"DISTINCT_vie.csv\")"
   ]
  },
  {
   "cell_type": "code",
   "execution_count": null,
   "id": "2d30257f",
   "metadata": {},
   "outputs": [],
   "source": [
    "data_vie = data_vie.drop(columns=[\"Unnamed: 0\"])"
   ]
  },
  {
   "cell_type": "code",
   "execution_count": null,
   "id": "5506abec",
   "metadata": {},
   "outputs": [],
   "source": [
    "import regex as re"
   ]
  },
  {
   "cell_type": "code",
   "execution_count": null,
   "id": "4bea3753",
   "metadata": {},
   "outputs": [],
   "source": [
    "vie = df[\"UTZ_VIA_DES\"].drop_duplicates().reset_index(drop=True)"
   ]
  },
  {
   "cell_type": "code",
   "execution_count": null,
   "id": "922d5bdc",
   "metadata": {},
   "outputs": [],
   "source": [
    "vie"
   ]
  },
  {
   "cell_type": "code",
   "execution_count": null,
   "id": "90bdb9a0",
   "metadata": {},
   "outputs": [],
   "source": [
    "data_vie[\"vie\"] = vie"
   ]
  },
  {
   "cell_type": "code",
   "execution_count": null,
   "id": "1d2e4044",
   "metadata": {},
   "outputs": [],
   "source": [
    "data_vie"
   ]
  },
  {
   "cell_type": "code",
   "execution_count": null,
   "id": "4086f6b6",
   "metadata": {},
   "outputs": [],
   "source": [
    "indirizzo = data_vie[\"indirizzo\"]"
   ]
  },
  {
   "cell_type": "code",
   "execution_count": null,
   "id": "793377b6",
   "metadata": {},
   "outputs": [],
   "source": [
    "indir = pd.Series(indirizzo).astype(str)"
   ]
  },
  {
   "cell_type": "code",
   "execution_count": null,
   "id": "fb7bd3e3",
   "metadata": {},
   "outputs": [],
   "source": [
    "indir.apply(lambda x: re.search(\" Municipio \", x)).astype(bool).astype(\"uint8\")"
   ]
  },
  {
   "cell_type": "markdown",
   "id": "b2662762",
   "metadata": {},
   "source": [
    "I numeri romani sono sempre relativi ai municipi, mi basterebbe estrarli con flashtext"
   ]
  },
  {
   "cell_type": "code",
   "execution_count": null,
   "id": "5075aa67",
   "metadata": {},
   "outputs": [],
   "source": [
    "# pip install flashtext"
   ]
  },
  {
   "cell_type": "markdown",
   "id": "949f02f0",
   "metadata": {},
   "source": [
    "Cominciamo dai quartieri!"
   ]
  },
  {
   "cell_type": "markdown",
   "id": "6b714f49",
   "metadata": {},
   "source": [
    "Passiamo ai numeri romani legati al municipio, se inserisco anche 'Municipio Roma ' di sicuro rendo la richiesta più specifica e dunque più precisa.\n"
   ]
  },
  {
   "cell_type": "code",
   "execution_count": null,
   "id": "5c2f107e",
   "metadata": {},
   "outputs": [],
   "source": [
    "mun_list = [\n",
    "    \"Municipio Roma I\",\n",
    "    \"Municipio Roma II\",\n",
    "    \"Municipio Roma III\",\n",
    "    \"Municipio Roma IV\",\n",
    "    \"Municipio Roma V\",\n",
    "    \"Municipio Roma VI\",\n",
    "    \"Municipio Roma VII\" \"Municipio Roma VIII\",\n",
    "    \"Municipio Roma IX\",\n",
    "    \"Municipio Roma X\",\n",
    "    \"Municipio Roma XI\",\n",
    "    \"Municipio Roma XII\",\n",
    "    \"Municipio Roma XIII\",\n",
    "    \"Municipio Roma XIV\",\n",
    "    \"Municipio Roma XV\",\n",
    "]"
   ]
  },
  {
   "cell_type": "code",
   "execution_count": null,
   "id": "c1093c54",
   "metadata": {},
   "outputs": [],
   "source": [
    "from flashtext import KeywordProcessor\n",
    "\n",
    "keyword_processor = KeywordProcessor()"
   ]
  },
  {
   "cell_type": "code",
   "execution_count": null,
   "id": "6d328b60",
   "metadata": {},
   "outputs": [],
   "source": [
    "keyword_processor = KeywordProcessor(case_sensitive=False)\n",
    "keyword_processor.add_keywords_from_list(mun_list)  # .to_list()\n",
    "\n",
    "mun_text = indir.apply(lambda x: keyword_processor.extract_keywords(x)).to_list()\n",
    "\n",
    "mun_text"
   ]
  },
  {
   "cell_type": "code",
   "execution_count": null,
   "id": "c26438ae",
   "metadata": {},
   "outputs": [],
   "source": [
    "j = 0\n",
    "for i in range(len(mun_text)):\n",
    "    if mun_text[i] == []:\n",
    "        #         print(i)\n",
    "        j += 1"
   ]
  },
  {
   "cell_type": "markdown",
   "id": "af47bff4",
   "metadata": {},
   "source": [
    "j #Quindi non ho 6490 Municipi"
   ]
  },
  {
   "cell_type": "code",
   "execution_count": null,
   "id": "053d35b5",
   "metadata": {},
   "outputs": [],
   "source": [
    "for i in range(len(mun_text)):\n",
    "    if mun_text[i] == []:\n",
    "        mun_text[i] = np.nan"
   ]
  },
  {
   "cell_type": "code",
   "execution_count": null,
   "id": "95176545",
   "metadata": {},
   "outputs": [],
   "source": [
    "mun_text"
   ]
  },
  {
   "cell_type": "code",
   "execution_count": null,
   "id": "742cfe87",
   "metadata": {},
   "outputs": [],
   "source": [
    "data_vie[\"municipio\"] = mun_text"
   ]
  },
  {
   "cell_type": "code",
   "execution_count": null,
   "id": "f0bd74b4",
   "metadata": {},
   "outputs": [],
   "source": [
    "data_vie = data_vie.dropna().reset_index(drop=True)"
   ]
  },
  {
   "cell_type": "code",
   "execution_count": null,
   "id": "4e7e19fd",
   "metadata": {},
   "outputs": [],
   "source": [
    "data_vie[\"vie\"]"
   ]
  },
  {
   "cell_type": "code",
   "execution_count": null,
   "id": "e377ace4",
   "metadata": {},
   "outputs": [],
   "source": [
    "ndf = df.loc[df[\"UTZ_VIA_DES\"].isin(data_vie[\"vie\"])].reset_index(drop=True)"
   ]
  },
  {
   "cell_type": "code",
   "execution_count": null,
   "id": "2e3b1b29",
   "metadata": {},
   "outputs": [],
   "source": [
    "ndf[\"vie\"] = ndf[\"UTZ_VIA_DES\"]"
   ]
  },
  {
   "cell_type": "code",
   "execution_count": null,
   "id": "f0734bfc",
   "metadata": {},
   "outputs": [],
   "source": [
    "ndf[\"vie\"]"
   ]
  },
  {
   "cell_type": "code",
   "execution_count": null,
   "id": "958ebef7",
   "metadata": {},
   "outputs": [],
   "source": [
    "data_vie"
   ]
  },
  {
   "cell_type": "code",
   "execution_count": null,
   "id": "1263dd87",
   "metadata": {},
   "outputs": [],
   "source": [
    "data_merge = pd.merge(ndf, data_vie, on=\"vie\", how=\"left\")"
   ]
  },
  {
   "cell_type": "code",
   "execution_count": null,
   "id": "062f6b05",
   "metadata": {},
   "outputs": [],
   "source": [
    "values = np.ones(len(data_merge))"
   ]
  },
  {
   "cell_type": "code",
   "execution_count": null,
   "id": "336d3c2c",
   "metadata": {},
   "outputs": [],
   "source": [
    "data_merge[\"values\"] = values"
   ]
  },
  {
   "cell_type": "code",
   "execution_count": null,
   "id": "2f26ec12",
   "metadata": {},
   "outputs": [],
   "source": [
    "datavia = pd.DataFrame()\n",
    "\n",
    "datavia[\"lat\"] = data_merge[\"lat\"]\n",
    "datavia[\"long\"] = data_merge[\"long\"]\n",
    "datavia[\"values\"] = data_merge[\"values\"]\n",
    "\n",
    "datavia"
   ]
  },
  {
   "cell_type": "code",
   "execution_count": null,
   "id": "73da72ba",
   "metadata": {},
   "outputs": [],
   "source": []
  },
  {
   "cell_type": "code",
   "execution_count": null,
   "id": "f897bdcf",
   "metadata": {},
   "outputs": [],
   "source": [
    "datavia"
   ]
  },
  {
   "cell_type": "code",
   "execution_count": null,
   "id": "013c9188",
   "metadata": {},
   "outputs": [],
   "source": [
    "# m = folium.Map(location=[41.9109, 12.4818], tiles=\"cartodbpositron\", zoom_start = 11)\n",
    "m = folium.Map(location=[41.9109, 12.4818], zoom_start=11)\n",
    "folium.GeoJson(\"C:/Users/gmauri01/intellera_code/progetto_comune_roma/municipi.geojson\").add_to(m)\n",
    "m"
   ]
  },
  {
   "cell_type": "code",
   "execution_count": null,
   "id": "5273fcbc",
   "metadata": {},
   "outputs": [],
   "source": [
    "# import pandas as pd\n",
    "# import numpy as np\n",
    "# import folium\n",
    "# from folium.plugins import HeatMap\n",
    "# import matplotlib as mpl\n",
    "\n",
    "\n",
    "# # for elt in list(zip( datavia.lat , datavia.long, datavia.values)):\n",
    "# #     folium.Circle(elt[:2], color=\"white\", radius=elt[2]).add_to(m)\n",
    "# start_time = time.time()\n",
    "\n",
    "\n",
    "# for elt in list(zip( datavia.lat , datavia.long, datavia.values)):\n",
    "#     folium.Circle(elt[:2], color=\"white\",radius=0.001\n",
    "#                  ).add_to(m)\n",
    "# # df.values used here is a (250, 3) numpy.ndarray\n",
    "# # with (lat, lon, weight) for each data point\n",
    "# HeatMap(datavia.values, min_opacity=0.1).add_to(m)\n",
    "# print(\"--- %s seconds ---\" % (time.time() - start_time))\n",
    "# m"
   ]
  },
  {
   "cell_type": "code",
   "execution_count": null,
   "id": "26d446ca",
   "metadata": {},
   "outputs": [],
   "source": [
    "# m.save(\"prova1_dots.html\")"
   ]
  },
  {
   "cell_type": "code",
   "execution_count": null,
   "id": "ebf506a4",
   "metadata": {},
   "outputs": [],
   "source": [
    "datavia"
   ]
  },
  {
   "cell_type": "code",
   "execution_count": null,
   "id": "0caa4f27",
   "metadata": {},
   "outputs": [],
   "source": [
    "import pandas as pd\n",
    "import numpy as np\n",
    "import folium\n",
    "from folium.plugins import HeatMap\n",
    "import matplotlib as mpl\n",
    "\n",
    "\n",
    "# for elt in list(zip( datavia.lat , datavia.long, datavia.values)):\n",
    "#     folium.Circle(elt[:2], color=\"white\", radius=elt[2]).add_to(m)\n",
    "start_time = time.time()\n",
    "\n",
    "\n",
    "# for elt in list(zip( datavia.lat , datavia.long, datavia.values)):\n",
    "#     folium.Circle(elt[:2], color=\"white\",radius=0.001\n",
    "#                  ).add_to(m)\n",
    "# df.values used here is a (250, 3) numpy.ndarray\n",
    "# with (lat, lon, weight) for each data point\n",
    "HeatMap(datavia.values, min_opacity=0.1).add_to(m)\n",
    "print(\"--- %s seconds ---\" % (time.time() - start_time))\n",
    "m"
   ]
  },
  {
   "cell_type": "code",
   "execution_count": null,
   "id": "2837c445",
   "metadata": {},
   "outputs": [],
   "source": [
    "# m.save('prova1_no_dots.html')"
   ]
  },
  {
   "cell_type": "markdown",
   "id": "cd1a0150",
   "metadata": {},
   "source": [
    "A questo punto ho i municipi e posso anche sapere quanti punti ho per municipio."
   ]
  },
  {
   "cell_type": "markdown",
   "id": "f32a0415",
   "metadata": {},
   "source": [
    "## Quanti punti per municipio?"
   ]
  },
  {
   "cell_type": "code",
   "execution_count": null,
   "id": "379e7d5e",
   "metadata": {},
   "outputs": [],
   "source": [
    "data_merge.municipio[0]"
   ]
  },
  {
   "cell_type": "code",
   "execution_count": null,
   "id": "633a83a9",
   "metadata": {},
   "outputs": [],
   "source": [
    "mun = []\n",
    "for i in range(len(data_merge)):\n",
    "    mun.append(data_merge.municipio[i][0])"
   ]
  },
  {
   "cell_type": "code",
   "execution_count": null,
   "id": "3ea619bc",
   "metadata": {},
   "outputs": [],
   "source": [
    "mun.count(\"Municipio Roma I\")"
   ]
  },
  {
   "cell_type": "code",
   "execution_count": null,
   "id": "5cc758ed",
   "metadata": {},
   "outputs": [],
   "source": [
    "mun.count(\"Municipio Roma II\")"
   ]
  },
  {
   "cell_type": "code",
   "execution_count": null,
   "id": "99897fe6",
   "metadata": {},
   "outputs": [],
   "source": [
    "municipi_lista = data_merge[\"municipio\"].drop_duplicates().reset_index(drop=True)"
   ]
  },
  {
   "cell_type": "code",
   "execution_count": null,
   "id": "dba459c3",
   "metadata": {},
   "outputs": [],
   "source": [
    "for i in range(len(municipi_lista)):\n",
    "    municipi_lista[i] = municipi_lista[i][0]"
   ]
  },
  {
   "cell_type": "code",
   "execution_count": null,
   "id": "eefd0709",
   "metadata": {},
   "outputs": [],
   "source": [
    "municipi_lista"
   ]
  },
  {
   "cell_type": "markdown",
   "id": "2b186144",
   "metadata": {},
   "source": [
    "Mancano i municipi 7 ed 8"
   ]
  },
  {
   "cell_type": "code",
   "execution_count": null,
   "id": "c0cfda3a",
   "metadata": {},
   "outputs": [],
   "source": [
    "municipi_counts = np.zeros(len(municipi_lista))\n",
    "for i in range(len(municipi_lista)):\n",
    "    municipi_counts[i] = mun.count(municipi_lista[i])"
   ]
  },
  {
   "cell_type": "code",
   "execution_count": null,
   "id": "dae59b02",
   "metadata": {},
   "outputs": [],
   "source": [
    "municipi_counts"
   ]
  },
  {
   "cell_type": "code",
   "execution_count": null,
   "id": "62892143",
   "metadata": {},
   "outputs": [],
   "source": [
    "m_data = pd.DataFrame()"
   ]
  },
  {
   "cell_type": "code",
   "execution_count": null,
   "id": "aaef0658",
   "metadata": {},
   "outputs": [],
   "source": [
    "m_data[\"municipi\"] = municipi_lista\n",
    "m_data[\"counts\"] = municipi_counts"
   ]
  },
  {
   "cell_type": "code",
   "execution_count": null,
   "id": "f6bbc9cc",
   "metadata": {},
   "outputs": [],
   "source": [
    "m_data"
   ]
  },
  {
   "cell_type": "markdown",
   "id": "e0dfc40a",
   "metadata": {},
   "source": [
    "## Adesso dovrei colorare la mappa dei municipi"
   ]
  },
  {
   "cell_type": "code",
   "execution_count": null,
   "id": "7f5141d7",
   "metadata": {},
   "outputs": [],
   "source": [
    "import pandas as pd\n",
    "import geopandas as gpd\n",
    "import numpy as np\n",
    "import json\n",
    "import folium"
   ]
  },
  {
   "cell_type": "code",
   "execution_count": null,
   "id": "1d7e7c9f",
   "metadata": {},
   "outputs": [],
   "source": [
    "# FUNCTIONS\n",
    "# def json_to_geojson(data, districts):\n",
    "#     # create a geojson from a list of dictionaries\n",
    "#     # containing coordinates with the name of the polygon\n",
    "#     # in our case a polygon is a district\n",
    "#     assert type(data) == list, \"The parameter data should be a list of coordinates with a name argument!\"\n",
    "\n",
    "#     geojson = {\n",
    "#         \"type\": \"FeatureCollection\",\n",
    "#         \"features\": [\n",
    "#         {\n",
    "#             \"type\": \"Feature\",\n",
    "#             \"geometry\" : {\n",
    "#                 \"type\": \"Polygon\",\n",
    "#                 \"name\": district,\n",
    "#                 \"coordinates\": [[[d[\"lon\"], d[\"lat\"]] for d in data if d['name'] == district]],\n",
    "#                 },\n",
    "#             \"properties\" : {'name': district},\n",
    "\n",
    "#          } for district in districts]\n",
    "#     }\n",
    "\n",
    "#     return geojson\n",
    "\n",
    "# def parse_inc_tax_data(income_tax):\n",
    "#     income_tax.columns = ['district', 'num', 'inc_tax']\n",
    "#     income_tax = income_tax.dropna()\n",
    "#     income_tax = income_tax[income_tax['district'].str.contains('kerület')]\n",
    "#     income_tax['district'] = [dist.replace(\"kerület\", \"kerulet\").strip() for dist in income_tax['district'].tolist()]\n",
    "\n",
    "#     for col in ['inc_tax', 'num']:\n",
    "#         income_tax[col] = [float(f.replace(\" \", \"\")) for f in income_tax[col].tolist()]\n",
    "\n",
    "#     income_tax['inc_tax_per_capita'] = income_tax['inc_tax'] * 1000 / income_tax['num']\n",
    "#     income_tax = income_tax.drop(['inc_tax', 'num'], axis = 1)\n",
    "#     return income_tax"
   ]
  },
  {
   "cell_type": "code",
   "execution_count": null,
   "id": "e9b0408c",
   "metadata": {},
   "outputs": [],
   "source": [
    "# load data\n",
    "# with open('data/district_coords.txt', 'r') as fp:\n",
    "#     district_coords = json.loads(fp.read())"
   ]
  },
  {
   "cell_type": "code",
   "execution_count": null,
   "id": "1ea8a9a0",
   "metadata": {},
   "outputs": [],
   "source": [
    "# get a list of districts\n",
    "# districts = list(set([district_coord['name'] for district_coord in district_coords]))"
   ]
  },
  {
   "cell_type": "code",
   "execution_count": null,
   "id": "76cae99b",
   "metadata": {},
   "outputs": [],
   "source": [
    "# create a geojson\n",
    "# geojson = json_to_geojson(district_coords, districts)"
   ]
  },
  {
   "cell_type": "code",
   "execution_count": null,
   "id": "19dd7779",
   "metadata": {},
   "outputs": [],
   "source": [
    "# geojson='C:/Users/gmauri01/intellera_code/progetto_comune_roma/municipi.geojson'"
   ]
  },
  {
   "cell_type": "code",
   "execution_count": null,
   "id": "6197d78b",
   "metadata": {},
   "outputs": [],
   "source": [
    "# # create geodataframe and add centroids\n",
    "# gdf = gpd.GeoDataFrame.from_features(geojson)\n",
    "# gdf['centroid_lon'] = gdf['geometry'].centroid.x\n",
    "# gdf['centroid_lat'] = gdf['geometry'].centroid.y\n",
    "# gdf.crs = {'init' :'epsg:4326'}\n",
    "# gdf.head()"
   ]
  },
  {
   "cell_type": "code",
   "execution_count": null,
   "id": "0afc6a19",
   "metadata": {},
   "outputs": [],
   "source": [
    "# # get income tax per capita by districts\n",
    "# income_tax = pd.read_csv('data/income_tax_data.csv', sep=';')\n",
    "# income_tax = parse_inc_tax_data(income_tax)\n",
    "# income_tax.head()"
   ]
  },
  {
   "cell_type": "code",
   "execution_count": null,
   "id": "f5ed9b59",
   "metadata": {},
   "outputs": [],
   "source": [
    "# merge with inc_tax data\n",
    "# gdf_income_tax = gdf.merge(income_tax, left_on='name', right_on='district')\n",
    "# gdf_income_tax.head()\n",
    "# geometry\tname\tcentroid_lon\tcentroid_lat\tdistrict\tinc_tax_per_capita\n",
    "# 0\tPOLYGON ((19.0172675 47.532714, 19.0173049 47....\tIII. kerulet\t19.034511\t47.569678\tIII. kerulet\t484713.119515\n",
    "# 1\tPOLYGON ((19.0345509 47.438895, 19.0352686 47....\tXI. kerulet\t19.019072\t47.460257\tXI. kerulet\t543127.162188\n",
    "# 2\tPOLYGON ((19.1574138 47.4383984, 19.1581105 47...\tXVIII. kerulet\t19.201757\t47.430279\tXVIII. kerulet\t374651.283307\n",
    "# 3\tPOLYGON ((19.0633281 47.5176955, 19.0635358 47...\tVI. kerulet\t19.065279\t47.509549\tVI. kerulet\t494609.969605\n",
    "# 4\tPOLYGON ((19.2207833 47.4925469, 19.2216553 47...\tX. kerulet\t19.158684\t47.483381\tX. kerulet\t333391.725328"
   ]
  },
  {
   "cell_type": "code",
   "execution_count": null,
   "id": "4524e239",
   "metadata": {},
   "outputs": [],
   "source": [
    "# CREATE A MAP IN FOLIUM\n",
    "# # create a map\n",
    "# m = folium.Map(location=[np.median(gdf_income_tax['centroid_lat'].tolist()), np.median(gdf_income_tax['centroid_lon'].tolist())], tiles='Stamen Toner', zoom_start=12)"
   ]
  },
  {
   "cell_type": "code",
   "execution_count": null,
   "id": "751d8e98",
   "metadata": {},
   "outputs": [],
   "source": []
  },
  {
   "cell_type": "code",
   "execution_count": null,
   "id": "0d84ab94",
   "metadata": {},
   "outputs": [],
   "source": [
    "m_data"
   ]
  },
  {
   "cell_type": "code",
   "execution_count": null,
   "id": "7e69fb4e",
   "metadata": {},
   "outputs": [],
   "source": [
    "import json"
   ]
  },
  {
   "cell_type": "code",
   "execution_count": null,
   "id": "f30ade5b",
   "metadata": {},
   "outputs": [],
   "source": [
    "# Opening JSON file\n",
    "f = open(\"C:/Users/gmauri01/intellera_code/progetto_comune_roma/municipi.geojson\")\n",
    "\n",
    "data = json.load(f)"
   ]
  },
  {
   "cell_type": "code",
   "execution_count": null,
   "id": "882009d0",
   "metadata": {},
   "outputs": [],
   "source": [
    "# municipio_geojson={ \"type\": \"Feature\",\n",
    "#                     \"bbox\": it_geojson[\"bbox\"],\n",
    "#                     \"features\": [\n",
    "#                                elem\n",
    "#                                for elem in it_geojson[\"features\"]\n",
    "#                                if elem[\"properties\"][\"reg_name\"] == nome_regione\n",
    "#                            ],\n",
    "#                       }"
   ]
  },
  {
   "cell_type": "code",
   "execution_count": null,
   "id": "14dcb671",
   "metadata": {},
   "outputs": [],
   "source": [
    "# def load_geojson(doc, nome_regione):\n",
    "#     with open(os.path.join(APP_DATA_PATH, doc)) as f:\n",
    "#         it_geojson = json.load(f)\n",
    "#         regione_geojson = {        \"type\": \"Feature\",\n",
    "#                            \"bbox\": it_geojson[\"bbox\"],\n",
    "#                            \"features\": [\n",
    "#                                elem\n",
    "#                                for elem in it_geojson[\"features\"]\n",
    "#                                if elem[\"properties\"][\"reg_name\"] == nome_regione\n",
    "#                            ],\n",
    "#                           }\n",
    "#         return regione_geojson\n",
    "#     def province_map(df_annunci_provincia, regione_geojson):\n",
    "#         map = px.choropleth_mapbox(\n",
    "#             df_annunci_provincia,\n",
    "#             geojson=regione_geojson,\n",
    "#             featureidkey=\"properties.prov_name\",\n",
    "#             locations=\"Provincia\",\n",
    "#             color=\"N° annunci\",\n",
    "#             range_color=(df_annunci_provincia[\"N° annunci\"].min(),\n",
    "#                          df_annunci_provincia[\"N° annunci\"].max()),\n",
    "#             color_continuous_scale=px.colors.sequential.Reds,\n",
    "#             mapbox_style=\"carto-positron\",\n",
    "#             zoom=5.4,        center={\"lat\": 43.31, \"lon\": 11.33},\n",
    "#             opacity=0.4,        height=330,        width=500,\n",
    "#             custom_data=[\n",
    "#                 df_annunci_provincia[\"Provincia\"],\n",
    "\n",
    "#                 df_annunci_provincia[\"N° annunci\"],\n",
    "#             ],    )    map.update_traces(\n",
    "#             hovertemplate=\"<b>Provincia: </b> %{customdata[0]} <br>\"        + \"<b>N° annunci: </b> %{customdata[1]:,} <br><extra></extra>\",    )    map.update_coloraxes(colorbar_tickformat=\",\")    map.update_layout(        {\"margin\": {\"t\": 0}},        hoverlabel=dict(bgcolor=\"white\", font_size=12, namelength=-1),    )    return map"
   ]
  },
  {
   "cell_type": "code",
   "execution_count": null,
   "id": "ec723b2f",
   "metadata": {},
   "outputs": [],
   "source": [
    "# def load_geojson(doc, nome_regione):\n",
    "#     with open(os.path.join(APP_DATA_PATH, doc)) as f:\n",
    "#         it_geojson = json.load(f)\n",
    "#         regione_geojson = {        \"type\": \"FeatureCollection\",\n",
    "#                            \"bbox\": it_geojson[\"bbox\"],\n",
    "#                            \"features\": [\n",
    "#                                elem\n",
    "#                                for elem in it_geojson[\"features\"]\n",
    "#                                if elem[\"properties\"][\"reg_name\"] == nome_regione\n",
    "#                            ],\n",
    "#                           }\n",
    "#         return regione_geojson"
   ]
  },
  {
   "cell_type": "code",
   "execution_count": null,
   "id": "f4f56262",
   "metadata": {},
   "outputs": [],
   "source": []
  },
  {
   "cell_type": "code",
   "execution_count": null,
   "id": "321513e4",
   "metadata": {},
   "outputs": [],
   "source": [
    "# data['features'][0]"
   ]
  },
  {
   "cell_type": "code",
   "execution_count": null,
   "id": "c6cab000",
   "metadata": {},
   "outputs": [],
   "source": [
    "# import os"
   ]
  },
  {
   "cell_type": "code",
   "execution_count": null,
   "id": "56855e6a",
   "metadata": {},
   "outputs": [],
   "source": [
    "# 'C:/Users/gmauri01/intellera_code/progetto_comune_roma/"
   ]
  },
  {
   "cell_type": "code",
   "execution_count": null,
   "id": "afb07818",
   "metadata": {},
   "outputs": [],
   "source": [
    "# ## add chloropleth layer\n",
    "# folium.Choropleth(\n",
    "#     geo_data=data,\n",
    "#     name='visualize',\n",
    "#     data=m_data,\n",
    "#     columns=['counts'],\n",
    "#     fill_color='YlGn',\n",
    "#     key_on='feature.geometry.coordinates',\n",
    "#     legend_name='inc'\n",
    "# ).add_to(m)"
   ]
  },
  {
   "cell_type": "code",
   "execution_count": null,
   "id": "4ca31b9c",
   "metadata": {},
   "outputs": [],
   "source": [
    "# # add markers with basic information\n",
    "# fg = folium.FeatureGroup(name='District Info')\n",
    "# for lat, lon, val, name in zip(gdf_income_tax['centroid_lat'].tolist(), gdf_income_tax['centroid_lon'].tolist(), gdf_income_tax['inc_tax_per_capita'].tolist(), gdf_income_tax['name'].tolist()):\n",
    "#     html = f\"\"\"\n",
    "#     <h2>{name}<\\h2><br>\n",
    "#     <h4>Income Tax Per Capita: {int(round(val,0))} HUF <\\h4>\n",
    "#     \"\"\"\n",
    "#     fg.add_child(folium.Marker(location=[lat, lon], popup=html))\n",
    "\n",
    "# m.add_child(fg)\n",
    "\n",
    "# # enable layers to be turned in or out\n",
    "# folium.LayerControl().add_to(m)\n",
    "\n",
    "# # save it\n",
    "# m.save('outputs/income_tax_percapita_by_districts.html')\n",
    "# m"
   ]
  }
 ],
 "metadata": {
  "kernelspec": {
   "display_name": "Python 3 (ipykernel)",
   "language": "python",
   "name": "python3"
  },
  "language_info": {
   "codemirror_mode": {
    "name": "ipython",
    "version": 3
   },
   "file_extension": ".py",
   "mimetype": "text/x-python",
   "name": "python",
   "nbconvert_exporter": "python",
   "pygments_lexer": "ipython3",
   "version": "3.9.13"
  },
  "toc": {
   "base_numbering": 1,
   "nav_menu": {},
   "number_sections": true,
   "sideBar": true,
   "skip_h1_title": false,
   "title_cell": "Table of Contents",
   "title_sidebar": "Contents",
   "toc_cell": false,
   "toc_position": {
    "height": "calc(100% - 180px)",
    "left": "10px",
    "top": "150px",
    "width": "340px"
   },
   "toc_section_display": true,
   "toc_window_display": true
  },
  "varInspector": {
   "cols": {
    "lenName": 16,
    "lenType": 16,
    "lenVar": 40
   },
   "kernels_config": {
    "python": {
     "delete_cmd_postfix": "",
     "delete_cmd_prefix": "del ",
     "library": "var_list.py",
     "varRefreshCmd": "print(var_dic_list())"
    },
    "r": {
     "delete_cmd_postfix": ") ",
     "delete_cmd_prefix": "rm(",
     "library": "var_list.r",
     "varRefreshCmd": "cat(var_dic_list()) "
    }
   },
   "types_to_exclude": [
    "module",
    "function",
    "builtin_function_or_method",
    "instance",
    "_Feature"
   ],
   "window_display": false
  }
 },
 "nbformat": 4,
 "nbformat_minor": 5
}
