{
 "cells": [
  {
   "cell_type": "markdown",
   "id": "9173cabf",
   "metadata": {},
   "source": [
    "https://g.co/kgs/UjxYzs - Se vogliamo migliorare con i colori!"
   ]
  },
  {
   "cell_type": "code",
   "execution_count": null,
   "id": "e36396ee",
   "metadata": {},
   "outputs": [],
   "source": [
    "import pandas as pd\n",
    "import json\n",
    "import folium\n",
    "import geopandas as gpd\n",
    "import plotly.graph_objects as go\n",
    "import branca.colormap as cm\n",
    "import plotly.express as px\n",
    "import numpy as np"
   ]
  },
  {
   "cell_type": "code",
   "execution_count": null,
   "id": "4152beb5",
   "metadata": {},
   "outputs": [],
   "source": [
    "# dfdom=pd.read_pickle('DOM_VIE.pkl')"
   ]
  },
  {
   "cell_type": "code",
   "execution_count": null,
   "id": "b221a85e",
   "metadata": {},
   "outputs": [],
   "source": [
    "dfndom = pd.read_pickle(\"NDOM_VIE.pkl\")"
   ]
  },
  {
   "cell_type": "code",
   "execution_count": null,
   "id": "a7596764",
   "metadata": {},
   "outputs": [],
   "source": [
    "dfndom"
   ]
  },
  {
   "cell_type": "code",
   "execution_count": null,
   "id": "79c9aeae",
   "metadata": {},
   "outputs": [],
   "source": [
    "# dfdom.groupby('NUM_CIR')[['IMPORTO_CONTRATTO','IMPORTO_PAREGGIO']].agg(\n",
    "#     ['count','sum','median','mean','min','max']\n",
    "# )"
   ]
  },
  {
   "cell_type": "code",
   "execution_count": null,
   "id": "046842b0",
   "metadata": {},
   "outputs": [],
   "source": [
    "dfndom.groupby(\"NUM_CIR\")[[\"IMPORTO_CONTRATTO\", \"IMPORTO_PAREGGIO\"]].agg(\n",
    "    [\"count\", \"sum\", \"median\", \"mean\", \"min\", \"max\"]\n",
    ")"
   ]
  },
  {
   "cell_type": "code",
   "execution_count": null,
   "id": "2bfe3cd1",
   "metadata": {},
   "outputs": [],
   "source": [
    "# dfndom.groupby('NUM_CIR')[['IMPORTO_CONTRATTO']].agg([''])"
   ]
  },
  {
   "cell_type": "markdown",
   "id": "17f65412",
   "metadata": {},
   "source": [
    "# funzione per fare la mappa, tanto non sarà interattiva."
   ]
  },
  {
   "cell_type": "code",
   "execution_count": null,
   "id": "8c98e1f2",
   "metadata": {},
   "outputs": [],
   "source": [
    "with open(\"municipi.geojson\") as f:\n",
    "    roma_geojson = json.load(f)\n",
    "roma_geojson"
   ]
  },
  {
   "cell_type": "code",
   "execution_count": null,
   "id": "964d4e17",
   "metadata": {},
   "outputs": [],
   "source": [
    "df_lat = pd.DataFrame()\n",
    "df_long = pd.DataFrame()\n",
    "\n",
    "for i in range(15):\n",
    "    df_lat = pd.concat([df_lat, pd.DataFrame(roma_geojson[\"features\"][i][\"geometry\"][\"coordinates\"][0][0])[0]])\n",
    "    df_long = pd.concat([df_long, pd.DataFrame(roma_geojson[\"features\"][i][\"geometry\"][\"coordinates\"][0][0])[1]])"
   ]
  },
  {
   "cell_type": "code",
   "execution_count": null,
   "id": "3bfce435",
   "metadata": {},
   "outputs": [],
   "source": [
    "print(df_lat.min())\n",
    "print(df_lat.max())"
   ]
  },
  {
   "cell_type": "code",
   "execution_count": null,
   "id": "7c9538e8",
   "metadata": {},
   "outputs": [],
   "source": [
    "print(df_long.min())\n",
    "print(df_long.max())"
   ]
  },
  {
   "cell_type": "code",
   "execution_count": null,
   "id": "ae5af9b7",
   "metadata": {},
   "outputs": [],
   "source": [
    "def load_municipi_geojson(doc):\n",
    "    with open(doc) as f:\n",
    "        municipi_roma_geojson = json.load(f)\n",
    "\n",
    "    return municipi_roma_geojson"
   ]
  },
  {
   "cell_type": "code",
   "execution_count": null,
   "id": "5e9f1d7a",
   "metadata": {},
   "outputs": [],
   "source": [
    "municipi_roma_geojson = load_municipi_geojson(\"municipi.geojson\")\n",
    "municipi_roma_geojson.update({\"bbox\": [df_lat.max(), df_long.max(), df_lat.min(), df_long.min()]})"
   ]
  },
  {
   "cell_type": "code",
   "execution_count": null,
   "id": "aee24bdd",
   "metadata": {},
   "outputs": [],
   "source": [
    "municipi_roma_geojson.keys()"
   ]
  },
  {
   "cell_type": "code",
   "execution_count": null,
   "id": "972bfdec",
   "metadata": {},
   "outputs": [],
   "source": [
    "data = pd.DataFrame()\n",
    "data[\"municipio\"] = [\n",
    "    \"Municipio I (ex I + ex XVII)\",\n",
    "    \"Municipio II (ex II + ex III)\",\n",
    "    \"Municipio III (ex IV)\",\n",
    "    \"Municipio IV (ex V)\",\n",
    "    \"Municipio V (ex VI + ex VII)\",\n",
    "    \"Municipio VI (ex VIII)\",\n",
    "    \"Municipio VII (ex IX + ex X)\",\n",
    "    \"Municipio VIII (ex XI)\",\n",
    "    \"Municipio IX (ex XII)\",\n",
    "    \"Municipio X (ex XIII)\",\n",
    "    \"Municipio XI (ex XV)\",\n",
    "    \"Municipio XII (ex XVI)\",\n",
    "    \"Municipio XIII (ex XVIII)\",\n",
    "    \"Municipio XIV (ex XIX)\",\n",
    "    \"Municipio XV (ex XX)\",\n",
    "]"
   ]
  },
  {
   "cell_type": "code",
   "execution_count": null,
   "id": "88bf64d0",
   "metadata": {},
   "outputs": [],
   "source": [
    "color_continuous_scale = [\"red\", \"green\"]"
   ]
  },
  {
   "cell_type": "code",
   "execution_count": null,
   "id": "f74c3298",
   "metadata": {},
   "outputs": [],
   "source": [
    "def municipi_map_r2np(data, municipi_roma_geojson, column):\n",
    "    map = px.choropleth_mapbox(\n",
    "        data,\n",
    "        geojson=municipi_roma_geojson,\n",
    "        featureidkey=\"properties.nome\",\n",
    "        locations=\"municipio\",\n",
    "        color=\"{}\".format(column),\n",
    "        range_color=(\n",
    "            data[\"{}\".format(column)].min(),\n",
    "            #             30000.,\n",
    "            data[\"{}\".format(column)].max(),\n",
    "        ),\n",
    "        color_continuous_scale=[(0.0, \"yellow\"), (1.0, \"red\")],\n",
    "        mapbox_style=\"carto-positron\",\n",
    "        zoom=9.5,\n",
    "        center={\"lat\": 41.9109, \"lon\": 12.4818},\n",
    "        #         opacity=0.2,\n",
    "        opacity=0.3,\n",
    "        height=1000,\n",
    "        width=1300,\n",
    "        custom_data=[\n",
    "            data[\"municipio\"],\n",
    "            data[\"{}\".format(column)],\n",
    "        ],\n",
    "    )\n",
    "    map.update_traces(\n",
    "        hovertemplate=\"<b>Municipio: </b> %{customdata[0]} <br>\"\n",
    "        + \"<b>counts: </b> %{customdata[1]:,} <br><extra></extra>\",\n",
    "    )\n",
    "    #     map.update_coloraxes(colorbar_ticksuffix=\",\")\n",
    "    #     map.update_layout(\n",
    "    #         {\"margin\": {\"t\": 0}},\n",
    "    #         hoverlabel=dict(\n",
    "    #             bgcolor=\"white\",\n",
    "    #             font_size=14,\n",
    "    #             namelength=-1,\n",
    "    #         ),\n",
    "    #     )\n",
    "    #     map.update_layout(title_text=titolo, title_x=0.5)\n",
    "    return map"
   ]
  },
  {
   "cell_type": "code",
   "execution_count": null,
   "id": "9cf29d0f",
   "metadata": {},
   "outputs": [],
   "source": [
    "def municipi_map_rnp(data, municipi_roma_geojson, column):\n",
    "    map = px.choropleth_mapbox(\n",
    "        data,\n",
    "        geojson=municipi_roma_geojson,\n",
    "        featureidkey=\"properties.nome\",\n",
    "        locations=\"municipio\",\n",
    "        color=\"{}\".format(column),\n",
    "        range_color=(\n",
    "            data[\"{}\".format(column)].min(),\n",
    "            #             0.,\n",
    "            #             100.\n",
    "            #             30000.,\n",
    "            data[\"{}\".format(column)].max(),\n",
    "        ),\n",
    "        color_continuous_scale=[(0.0, \"red\"), (1.0, \"yellow\")],\n",
    "        mapbox_style=\"carto-positron\",\n",
    "        zoom=9.5,\n",
    "        center={\"lat\": 41.9109, \"lon\": 12.4818},\n",
    "        #         opacity=0.2,\n",
    "        opacity=0.3,\n",
    "        height=1000,\n",
    "        width=1300,\n",
    "        custom_data=[\n",
    "            data[\"municipio\"],\n",
    "            data[\"{}\".format(column)],\n",
    "        ],\n",
    "    )\n",
    "    map.update_traces(\n",
    "        hovertemplate=\"<b>Municipio: </b> %{customdata[0]} <br>\"\n",
    "        + \"<b>counts: </b> %{customdata[1]:,} <br><extra></extra>\",\n",
    "    )\n",
    "    #     map.update_coloraxes(colorbar_ticksuffix=\",\")\n",
    "    #     map.update_layout(\n",
    "    #         {\"margin\": {\"t\": 0}},\n",
    "    #         hoverlabel=dict(\n",
    "    #             bgcolor=\"white\",\n",
    "    #             font_size=14,\n",
    "    #             namelength=-1,\n",
    "    #         ),\n",
    "    #     )\n",
    "    #     map.update_layout(\n",
    "    #     title=dict(\n",
    "    #         text=\"TITOlO MAPPA\",\n",
    "    #         xanchor='center',\n",
    "    #         x=0.5,\n",
    "    #         yref='paper',\n",
    "    #         yanchor='bottom',\n",
    "    #         y=0.9,\n",
    "    #         pad={'b': 0}\n",
    "    #     ),\n",
    "    #     margin={'r': 0, 't': 0, 'l': 0, 'b': 0},\n",
    "    #     height=850,\n",
    "    #     width=750\n",
    "    #     )\n",
    "    #     map.update_layout(title_text=titolo, title_x=0.5)\n",
    "\n",
    "    return map"
   ]
  },
  {
   "cell_type": "code",
   "execution_count": null,
   "id": "ce36431c",
   "metadata": {},
   "outputs": [],
   "source": [
    "def municipi_map_r2(data, municipi_roma_geojson, column):\n",
    "    map = px.choropleth_mapbox(\n",
    "        data,\n",
    "        geojson=municipi_roma_geojson,\n",
    "        featureidkey=\"properties.nome\",\n",
    "        locations=\"municipio\",\n",
    "        color=\"{}\".format(column),\n",
    "        range_color=(\n",
    "            data[\"{}\".format(column)].min(),\n",
    "            #             30000.,\n",
    "            data[\"{}\".format(column)].max(),\n",
    "        ),\n",
    "        color_continuous_scale=[(0.0, \"yellow\"), (1.0, \"red\")],\n",
    "        mapbox_style=\"carto-positron\",\n",
    "        zoom=9.5,\n",
    "        center={\"lat\": 41.9109, \"lon\": 12.4818},\n",
    "        #         opacity=0.2,\n",
    "        opacity=0.3,\n",
    "        height=1000,\n",
    "        width=1300,\n",
    "        custom_data=[\n",
    "            data[\"municipio\"],\n",
    "            data[\"{}\".format(column)],\n",
    "        ],\n",
    "    )\n",
    "    map.update_traces(\n",
    "        hovertemplate=\"<b>Municipio: </b> %{customdata[0]} <br>\"\n",
    "        + \"<b>counts: </b> %{customdata[1]:,} <br><extra></extra>\",\n",
    "    )\n",
    "    map.update_coloraxes(colorbar_ticksuffix=\"%\")\n",
    "    #     map.update_layout(\n",
    "    #         {\"margin\": {\"t\": 0}},\n",
    "    #         hoverlabel=dict(\n",
    "    #             bgcolor=\"white\",\n",
    "    #             font_size=14,\n",
    "    #             namelength=-1,\n",
    "    #         ),\n",
    "    #     )\n",
    "    #     map.update_layout(title_text=titolo, title_x=0.5)\n",
    "    return map"
   ]
  },
  {
   "cell_type": "code",
   "execution_count": null,
   "id": "e29b5f88",
   "metadata": {},
   "outputs": [],
   "source": [
    "def municipi_map_r(data, municipi_roma_geojson, column):\n",
    "    map = px.choropleth_mapbox(\n",
    "        data,\n",
    "        geojson=municipi_roma_geojson,\n",
    "        featureidkey=\"properties.nome\",\n",
    "        locations=\"municipio\",\n",
    "        color=\"{}\".format(column),\n",
    "        range_color=(\n",
    "            data[\"{}\".format(column)].min(),\n",
    "            #             0.,\n",
    "            #             100.\n",
    "            #             30000.,\n",
    "            data[\"{}\".format(column)].max(),\n",
    "        ),\n",
    "        color_continuous_scale=[(0.0, \"red\"), (1.0, \"yellow\")],\n",
    "        mapbox_style=\"carto-positron\",\n",
    "        zoom=9.5,\n",
    "        center={\"lat\": 41.9109, \"lon\": 12.4818},\n",
    "        #         opacity=0.2,\n",
    "        opacity=0.3,\n",
    "        height=1000,\n",
    "        width=1300,\n",
    "        custom_data=[\n",
    "            data[\"municipio\"],\n",
    "            data[\"{}\".format(column)],\n",
    "        ],\n",
    "    )\n",
    "    map.update_traces(\n",
    "        hovertemplate=\"<b>Municipio: </b> %{customdata[0]} <br>\"\n",
    "        + \"<b>counts: </b> %{customdata[1]:,} <br><extra></extra>\",\n",
    "    )\n",
    "    map.update_coloraxes(colorbar_ticksuffix=\"%\")\n",
    "    #     map.update_layout(\n",
    "    #         {\"margin\": {\"t\": 0}},\n",
    "    #         hoverlabel=dict(\n",
    "    #             bgcolor=\"white\",\n",
    "    #             font_size=14,\n",
    "    #             namelength=-1,\n",
    "    #         ),\n",
    "    #     )\n",
    "    #     map.update_layout(\n",
    "    #     title=dict(\n",
    "    #         text=\"TITOlO MAPPA\",\n",
    "    #         xanchor='center',\n",
    "    #         x=0.5,\n",
    "    #         yref='paper',\n",
    "    #         yanchor='bottom',\n",
    "    #         y=0.9,\n",
    "    #         pad={'b': 0}\n",
    "    #     ),\n",
    "    #     margin={'r': 0, 't': 0, 'l': 0, 'b': 0},\n",
    "    #     height=850,\n",
    "    #     width=750\n",
    "    #     )\n",
    "    #     map.update_layout(title_text=titolo, title_x=0.5)\n",
    "\n",
    "    return map"
   ]
  },
  {
   "cell_type": "code",
   "execution_count": null,
   "id": "7c4799d9",
   "metadata": {},
   "outputs": [],
   "source": [
    "def municipi_map_b(data, municipi_roma_geojson, column):\n",
    "    map = px.choropleth_mapbox(\n",
    "        data,\n",
    "        geojson=municipi_roma_geojson,\n",
    "        featureidkey=\"properties.nome\",\n",
    "        locations=\"municipio\",\n",
    "        color=\"{}\".format(column),\n",
    "        range_color=(\n",
    "            data[\"{}\".format(column)].min(),\n",
    "            #             30000.,\n",
    "            data[\"{}\".format(column)].max(),\n",
    "        ),\n",
    "        color_continuous_scale=[(0.0, \"#f0ffff\"), (1, \"#000080\")],\n",
    "        mapbox_style=\"carto-positron\",\n",
    "        zoom=9.5,\n",
    "        center={\"lat\": 41.9109, \"lon\": 12.4818},\n",
    "        #         opacity=0.2,\n",
    "        opacity=0.3,\n",
    "        height=1000,\n",
    "        width=1300,\n",
    "        custom_data=[\n",
    "            data[\"municipio\"],\n",
    "            data[\"{}\".format(column)],\n",
    "        ],\n",
    "    )\n",
    "    map.update_traces(\n",
    "        hovertemplate=\"<b>Municipio: </b> %{customdata[0]} <br>\"\n",
    "        + \"<b>counts: </b> %{customdata[1]:,} <br><extra></extra>\",\n",
    "    )\n",
    "    map.update_geos(fitbounds=\"locations\", visible=True)\n",
    "    #     map.update_coloraxes(colorbar_tickformat=\",\")\n",
    "    #     map.update_layout(\n",
    "    #         {\"margin\": {\"t\": 0}},\n",
    "    #         hoverlabel=dict(\n",
    "    #             bgcolor=\"white\",\n",
    "    #             font_size=14,\n",
    "    #             namelength=-1,\n",
    "    #         ),\n",
    "    #     )\n",
    "\n",
    "    #     map.update_layout(title_text=titolo, title_x=0.5)\n",
    "    return map"
   ]
  },
  {
   "cell_type": "code",
   "execution_count": null,
   "id": "cac46191",
   "metadata": {},
   "outputs": [],
   "source": [
    "def municipi_map_b1(data, municipi_roma_geojson, column):\n",
    "    map = px.choropleth_mapbox(\n",
    "        data,\n",
    "        geojson=municipi_roma_geojson,\n",
    "        featureidkey=\"properties.nome\",\n",
    "        locations=\"municipio\",\n",
    "        color=\"{}\".format(column),\n",
    "        range_color=(\n",
    "            data[\"{}\".format(column)].min(),\n",
    "            #             30000.,\n",
    "            data[\"{}\".format(column)].max(),\n",
    "        ),\n",
    "        color_continuous_scale=[(0.0, \"#f0ffff\"), (1, \"#000080\")],\n",
    "        mapbox_style=\"carto-positron\",\n",
    "        zoom=9.5,\n",
    "        center={\"lat\": 41.9109, \"lon\": 12.4818},\n",
    "        #         opacity=0.2,\n",
    "        opacity=0.3,\n",
    "        height=1000,\n",
    "        width=1300,\n",
    "        custom_data=[\n",
    "            data[\"municipio\"],\n",
    "            data[\"{}\".format(column)],\n",
    "        ],\n",
    "    )\n",
    "    map.update_traces(\n",
    "        hovertemplate=\"<b>Municipio: </b> %{customdata[0]} <br>\"\n",
    "        + \"<b>counts: </b> %{customdata[1]:,} <br><extra></extra>\",\n",
    "    )\n",
    "    map.update_geos(fitbounds=\"locations\", visible=True)\n",
    "    map.update_coloraxes(colorbar_tickformat=\"\")\n",
    "    map.update_coloraxes(colorbar_ticksuffix=\" k\")\n",
    "    #     map.update_coloraxes(colorbar_tickformat=\",\")\n",
    "\n",
    "    #     map.update_layout(\n",
    "    #         {\"margin\": {\"t\": 0}},\n",
    "    #         hoverlabel=dict(\n",
    "    #             bgcolor=\"white\",\n",
    "    #             font_size=14,\n",
    "    #             namelength=-1,\n",
    "    #         ),\n",
    "    #     )\n",
    "\n",
    "    #     map.update_layout(title_text=titolo, title_x=0.5)\n",
    "    return map"
   ]
  },
  {
   "cell_type": "code",
   "execution_count": null,
   "id": "2402a79c",
   "metadata": {},
   "outputs": [],
   "source": [
    "def municipi_map_b2(data, municipi_roma_geojson, column):\n",
    "    map = px.choropleth_mapbox(\n",
    "        data,\n",
    "        geojson=municipi_roma_geojson,\n",
    "        featureidkey=\"properties.nome\",\n",
    "        locations=\"municipio\",\n",
    "        color=\"{}\".format(column),\n",
    "        range_color=(\n",
    "            data[\"{}\".format(column)].min(),\n",
    "            #             30000.,\n",
    "            data[\"{}\".format(column)].max(),\n",
    "        ),\n",
    "        color_continuous_scale=[(0.0, \"#f0ffff\"), (1, \"#000080\")],\n",
    "        mapbox_style=\"carto-positron\",\n",
    "        zoom=9.5,\n",
    "        center={\"lat\": 41.9109, \"lon\": 12.4818},\n",
    "        #         opacity=0.2,\n",
    "        opacity=0.3,\n",
    "        height=1000,\n",
    "        width=1300,\n",
    "        custom_data=[\n",
    "            data[\"municipio\"],\n",
    "            data[\"{}\".format(column)],\n",
    "        ],\n",
    "    )\n",
    "    map.update_traces(\n",
    "        hovertemplate=\"<b>Municipio: </b> %{customdata[0]} <br>\"\n",
    "        + \"<b>counts: </b> %{customdata[1]:,} <br><extra></extra>\",\n",
    "    )\n",
    "\n",
    "    map.update_coloraxes(colorbar_tickformat=\"\")\n",
    "    map.update_coloraxes(colorbar_ticksuffix=\" Mln €\")\n",
    "    #     map.update_coloraxes(colorbar_tickformat=\",\")\n",
    "\n",
    "    #     map.update_layout(\n",
    "    #         {\"margin\": {\"t\": 0}},\n",
    "    #         hoverlabel=dict(\n",
    "    #             bgcolor=\"white\",\n",
    "    #             font_size=14,\n",
    "    #             namelength=-1,\n",
    "    #         ),\n",
    "    #     )\n",
    "\n",
    "    #     map.update_layout(title_text=titolo, title_x=0.5)\n",
    "    return map"
   ]
  },
  {
   "cell_type": "code",
   "execution_count": null,
   "id": "0f214d15",
   "metadata": {},
   "outputs": [],
   "source": [
    "# titolo=' TITOLO MAPPA '"
   ]
  },
  {
   "cell_type": "code",
   "execution_count": null,
   "id": "5070b896",
   "metadata": {},
   "outputs": [],
   "source": [
    "bdata = dfndom.groupby(\"NUM_CIR\")[[\"IMPORTO_CONTRATTO\", \"IMPORTO_PAREGGIO\"]].agg(\n",
    "    [\"count\", \"sum\", \"median\", \"mean\", \"min\", \"max\"]\n",
    ")"
   ]
  },
  {
   "cell_type": "code",
   "execution_count": null,
   "id": "51b09d0e",
   "metadata": {},
   "outputs": [],
   "source": [
    "bdata[\"IMPORTO_CONTRATTO\"].sort_values(by=\"NUM_CIR\")"
   ]
  },
  {
   "cell_type": "code",
   "execution_count": null,
   "id": "9ce2e867",
   "metadata": {},
   "outputs": [],
   "source": [
    "bdata[\"IMPORTO_CONTRATTO\"][\"count\"].sort_index()"
   ]
  },
  {
   "cell_type": "code",
   "execution_count": null,
   "id": "84e2c8b8",
   "metadata": {},
   "outputs": [],
   "source": [
    "bdata[\"NCIR\"] = [1, 10, 11, 12, 13, 14, 15, 2, 3, 4, 5, 6, 7, 8, 9]"
   ]
  },
  {
   "cell_type": "code",
   "execution_count": null,
   "id": "3e265d39",
   "metadata": {},
   "outputs": [],
   "source": [
    "bdata.sort_index(inplace=True)"
   ]
  },
  {
   "cell_type": "code",
   "execution_count": null,
   "id": "f1c254e7",
   "metadata": {},
   "outputs": [],
   "source": [
    "bdata = bdata.sort_values(by=\"NCIR\")"
   ]
  },
  {
   "cell_type": "markdown",
   "id": "0ff82ff0",
   "metadata": {},
   "source": [
    "# ELENCO MAPPE\n",
    "\n",
    "le mappe di conteggi vanno dal blu chiaro al blu scuro\n",
    "\n",
    "1) conteggi totali per municipio-blu\n",
    "2) conteggi totali per municipio / per il totale dei municipi(percentuale)-rosso\n",
    "3) numero di paganti nel municipio/ conteggi totali  stesso municipio\n",
    "\n",
    "MAPPE SUGLI IMPORTI\n",
    "\n",
    "1) importo contratto per ogni municipio- \n",
    "1*) mediana\n",
    "2) importo pareggiato nel municipio / importo contratto di tutti i municipi- \n",
    "2*) mediana dell'importo pareggiato per ogni municipio\n",
    "3) importo pareggiato nel municipio/importo contratto nel municipio"
   ]
  },
  {
   "cell_type": "markdown",
   "id": "1bc9c703",
   "metadata": {},
   "source": [
    "# Mappa 1)  Conteggi Totali per municipio"
   ]
  },
  {
   "cell_type": "code",
   "execution_count": null,
   "id": "0b3d23d1",
   "metadata": {},
   "outputs": [],
   "source": [
    "dfndom[\"NUM_CIR\"].loc[0]"
   ]
  },
  {
   "cell_type": "code",
   "execution_count": null,
   "id": "71d0e3b3",
   "metadata": {},
   "outputs": [],
   "source": [
    "len(dfndom[dfndom[\"NUM_CIR\"] == \"1\"])\n",
    "# len(dfndom[dfndom['NUM_CIR']=='2'])"
   ]
  },
  {
   "cell_type": "markdown",
   "id": "dd65de1f",
   "metadata": {},
   "source": [
    "# Ok, i valori che mi escono fuori dal groupby sono corretti!"
   ]
  },
  {
   "cell_type": "code",
   "execution_count": null,
   "id": "feb1c545",
   "metadata": {},
   "outputs": [],
   "source": [
    "bdata[\"IMPORTO_CONTRATTO\"][\"count\"]"
   ]
  },
  {
   "cell_type": "code",
   "execution_count": null,
   "id": "df3a73dd",
   "metadata": {},
   "outputs": [],
   "source": [
    "bdata[\"municipio\"] = [\n",
    "    \"Municipio I (ex I + ex XVII)\",\n",
    "    \"Municipio II (ex II + ex III)\",\n",
    "    \"Municipio III (ex IV)\",\n",
    "    \"Municipio IV (ex V)\",\n",
    "    \"Municipio V (ex VI + ex VII)\",\n",
    "    \"Municipio VI (ex VIII)\",\n",
    "    \"Municipio VII (ex IX + ex X)\",\n",
    "    \"Municipio VIII (ex XI)\",\n",
    "    \"Municipio IX (ex XII)\",\n",
    "    \"Municipio X (ex XIII)\",\n",
    "    \"Municipio XI (ex XV)\",\n",
    "    \"Municipio XII (ex XVI)\",\n",
    "    \"Municipio XIII (ex XVIII)\",\n",
    "    \"Municipio XIV (ex XIX)\",\n",
    "    \"Municipio XV (ex XX)\",\n",
    "]"
   ]
  },
  {
   "cell_type": "code",
   "execution_count": null,
   "id": "b66c5a30",
   "metadata": {},
   "outputs": [],
   "source": [
    "bdata[\"IMPORTO_CONTRATTO\"][\"count\"]"
   ]
  },
  {
   "cell_type": "markdown",
   "id": "a6b2ae79",
   "metadata": {},
   "source": [
    "intanto vediamo se funziona"
   ]
  },
  {
   "cell_type": "code",
   "execution_count": null,
   "id": "28b2ea19",
   "metadata": {},
   "outputs": [],
   "source": [
    "df1 = pd.DataFrame()"
   ]
  },
  {
   "cell_type": "code",
   "execution_count": null,
   "id": "d17001ee",
   "metadata": {},
   "outputs": [],
   "source": [
    "np.array(bdata[\"IMPORTO_CONTRATTO\"][\"count\"])"
   ]
  },
  {
   "cell_type": "code",
   "execution_count": null,
   "id": "7ad39620",
   "metadata": {},
   "outputs": [],
   "source": [
    "df1[\"municipio\"] = [\n",
    "    \"Municipio I (ex I + ex XVII)\",\n",
    "    \"Municipio II (ex II + ex III)\",\n",
    "    \"Municipio III (ex IV)\",\n",
    "    \"Municipio IV (ex V)\",\n",
    "    \"Municipio V (ex VI + ex VII)\",\n",
    "    \"Municipio VI (ex VIII)\",\n",
    "    \"Municipio VII (ex IX + ex X)\",\n",
    "    \"Municipio VIII (ex XI)\",\n",
    "    \"Municipio IX (ex XII)\",\n",
    "    \"Municipio X (ex XIII)\",\n",
    "    \"Municipio XI (ex XV)\",\n",
    "    \"Municipio XII (ex XVI)\",\n",
    "    \"Municipio XIII (ex XVIII)\",\n",
    "    \"Municipio XIV (ex XIX)\",\n",
    "    \"Municipio XV (ex XX)\",\n",
    "]\n",
    "df1[\"count\"] = np.array(bdata[\"IMPORTO_CONTRATTO\"][\"count\"])"
   ]
  },
  {
   "cell_type": "code",
   "execution_count": null,
   "id": "b49da838",
   "metadata": {},
   "outputs": [],
   "source": [
    "df1[\"count_perc\"] = df1[\"count\"] / np.sum(df1[\"count\"]) * 100"
   ]
  },
  {
   "cell_type": "code",
   "execution_count": null,
   "id": "41dd8380",
   "metadata": {},
   "outputs": [],
   "source": [
    "np.sum(df1[\"count_perc\"])"
   ]
  },
  {
   "cell_type": "code",
   "execution_count": null,
   "id": "e3b29413",
   "metadata": {},
   "outputs": [],
   "source": [
    "df1[\"count_perc\"]"
   ]
  },
  {
   "cell_type": "code",
   "execution_count": null,
   "id": "a8c85c02",
   "metadata": {},
   "outputs": [],
   "source": [
    "plotly_colorscales = px.colors.named_colorscales()\n",
    "\n",
    "# printing color scales\n",
    "print(plotly_colorscales)"
   ]
  },
  {
   "cell_type": "code",
   "execution_count": null,
   "id": "7a6c2ee0",
   "metadata": {},
   "outputs": [],
   "source": [
    "df1[\"count_mappa\"] = df1[\"count\"] / 1000"
   ]
  },
  {
   "cell_type": "code",
   "execution_count": null,
   "id": "2fa485ed",
   "metadata": {},
   "outputs": [],
   "source": [
    "municipi_map_b1(df1, municipi_roma_geojson, \"count_mappa\")"
   ]
  },
  {
   "cell_type": "markdown",
   "id": "d6557748",
   "metadata": {},
   "source": [
    "##  2) conteggi totali per municipio / per il totale dei municipi(percentuale)-rosso"
   ]
  },
  {
   "cell_type": "markdown",
   "id": "d55af065",
   "metadata": {},
   "source": [
    "# Per il momento le faccio gialle e rosse, poi vedo di risolvere"
   ]
  },
  {
   "cell_type": "code",
   "execution_count": null,
   "id": "91f6ce60",
   "metadata": {},
   "outputs": [],
   "source": [
    "municipi_map_r2(df1, municipi_roma_geojson, \"count_perc\")  # inverti i colori"
   ]
  },
  {
   "cell_type": "markdown",
   "id": "54d4a870",
   "metadata": {},
   "source": [
    "## 3) # paganti nel municipio/ conteggi totali  stesso municipio"
   ]
  },
  {
   "cell_type": "markdown",
   "id": "aedddc5d",
   "metadata": {},
   "source": [
    "Numero di paganti nel municipio sono quelli che hanno pareggiato, quindi quelli con IMPORTO_DELTA==0.00"
   ]
  },
  {
   "cell_type": "code",
   "execution_count": null,
   "id": "0cd1eb5c",
   "metadata": {},
   "outputs": [],
   "source": [
    "n_pag = []\n",
    "for i in range(len(df1)):\n",
    "    n_pag.append(np.sum((dfndom[dfndom[\"NUM_CIR\"] == str(i + 1)][\"IMPORTO_DELTA\"] == 0.00).astype(\"uint8\")))"
   ]
  },
  {
   "cell_type": "code",
   "execution_count": null,
   "id": "f52109c2",
   "metadata": {},
   "outputs": [],
   "source": [
    "str(1)"
   ]
  },
  {
   "cell_type": "code",
   "execution_count": null,
   "id": "8a00723a",
   "metadata": {},
   "outputs": [],
   "source": [
    "np.sum((dfndom[dfndom[\"NUM_CIR\"] == str(1)][\"IMPORTO_DELTA\"] == 0.00).astype(\"uint8\"))"
   ]
  },
  {
   "cell_type": "code",
   "execution_count": null,
   "id": "a0c408b8",
   "metadata": {},
   "outputs": [],
   "source": [
    "df1[\"num_pag\"] = n_pag"
   ]
  },
  {
   "cell_type": "code",
   "execution_count": null,
   "id": "b2d338d7",
   "metadata": {},
   "outputs": [],
   "source": [
    "df1"
   ]
  },
  {
   "cell_type": "code",
   "execution_count": null,
   "id": "d05caf20",
   "metadata": {},
   "outputs": [],
   "source": [
    "df1[\"num_pag_mun\"] = n_pag / df1[\"count\"] * 100"
   ]
  },
  {
   "cell_type": "code",
   "execution_count": null,
   "id": "e83e583a",
   "metadata": {},
   "outputs": [],
   "source": [
    "3810 / 9529"
   ]
  },
  {
   "cell_type": "code",
   "execution_count": null,
   "id": "621b611f",
   "metadata": {},
   "outputs": [],
   "source": [
    "df1[\"num_pag_mun\"]"
   ]
  },
  {
   "cell_type": "code",
   "execution_count": null,
   "id": "135072ef",
   "metadata": {},
   "outputs": [],
   "source": [
    "municipi_map_r(df1, municipi_roma_geojson, \"num_pag_mun\")"
   ]
  },
  {
   "cell_type": "markdown",
   "id": "b5fda9d7",
   "metadata": {},
   "source": [
    "# IMPORTI"
   ]
  },
  {
   "cell_type": "markdown",
   "id": "de8bd076",
   "metadata": {},
   "source": [
    "## 1) importo contratto per ogni municipio"
   ]
  },
  {
   "cell_type": "code",
   "execution_count": null,
   "id": "106188aa",
   "metadata": {},
   "outputs": [],
   "source": [
    "bdata = bdata.sort_values(by=\"NCIR\")"
   ]
  },
  {
   "cell_type": "code",
   "execution_count": null,
   "id": "e354ec61",
   "metadata": {},
   "outputs": [],
   "source": [
    "np.sum(np.array(bdata[\"IMPORTO_CONTRATTO\"][\"sum\"]))"
   ]
  },
  {
   "cell_type": "code",
   "execution_count": null,
   "id": "09c8776f",
   "metadata": {},
   "outputs": [],
   "source": [
    "df1[\"imp_con\"] = np.array(bdata[\"IMPORTO_CONTRATTO\"][\"sum\"])"
   ]
  },
  {
   "cell_type": "code",
   "execution_count": null,
   "id": "ec88d2c9",
   "metadata": {},
   "outputs": [],
   "source": [
    "df1"
   ]
  },
  {
   "cell_type": "code",
   "execution_count": null,
   "id": "7dc1b158",
   "metadata": {},
   "outputs": [],
   "source": [
    "df1[\"imp_con_mappa\"] = df1[\"imp_con\"] / 1000000"
   ]
  },
  {
   "cell_type": "code",
   "execution_count": null,
   "id": "101e5d00",
   "metadata": {},
   "outputs": [],
   "source": [
    "municipi_map_b2(df1, municipi_roma_geojson, \"imp_con_mappa\")"
   ]
  },
  {
   "cell_type": "markdown",
   "id": "4663d58a",
   "metadata": {},
   "source": [
    "## 1) importo contratto per ogni municipio- 1*)mediana"
   ]
  },
  {
   "cell_type": "code",
   "execution_count": null,
   "id": "2ad96531",
   "metadata": {},
   "outputs": [],
   "source": [
    "bdata[\"IMPORTO_CONTRATTO\"][\"median\"]"
   ]
  },
  {
   "cell_type": "code",
   "execution_count": null,
   "id": "ef03917b",
   "metadata": {},
   "outputs": [],
   "source": [
    "df1[\"med_imp_con\"] = np.array(bdata[\"IMPORTO_CONTRATTO\"][\"median\"])"
   ]
  },
  {
   "cell_type": "code",
   "execution_count": null,
   "id": "9cc8b4ec",
   "metadata": {},
   "outputs": [],
   "source": [
    "municipi_map_r2np(df1, municipi_roma_geojson, \"med_imp_con\")"
   ]
  },
  {
   "cell_type": "markdown",
   "id": "c1f63a98",
   "metadata": {},
   "source": [
    "## 3) importo pareggiato nel municipio/importo contratto nel municipio"
   ]
  },
  {
   "cell_type": "code",
   "execution_count": null,
   "id": "fa2eb75e",
   "metadata": {},
   "outputs": [],
   "source": [
    "np.sum(np.array(bdata[\"IMPORTO_CONTRATTO\"][\"sum\"])) - np.sum(np.array(bdata[\"IMPORTO_PAREGGIO\"][\"sum\"]))"
   ]
  },
  {
   "cell_type": "code",
   "execution_count": null,
   "id": "521abb22",
   "metadata": {},
   "outputs": [],
   "source": [
    "df1[\"imp_par\"] = np.array(bdata[\"IMPORTO_PAREGGIO\"][\"sum\"])"
   ]
  },
  {
   "cell_type": "code",
   "execution_count": null,
   "id": "a73d1684",
   "metadata": {},
   "outputs": [],
   "source": [
    "df1"
   ]
  },
  {
   "cell_type": "code",
   "execution_count": null,
   "id": "24d4b992",
   "metadata": {},
   "outputs": [],
   "source": [
    "df1[\"imp_par_su_imp_con\"] = df1[\"imp_par\"] / df1[\"imp_con\"] * 100"
   ]
  },
  {
   "cell_type": "code",
   "execution_count": null,
   "id": "e34b30f3",
   "metadata": {},
   "outputs": [],
   "source": [
    "df1[\"imp_par_su_imp_con\"]"
   ]
  },
  {
   "cell_type": "code",
   "execution_count": null,
   "id": "2519adea",
   "metadata": {},
   "outputs": [],
   "source": [
    "municipi_map_r(df1, municipi_roma_geojson, \"imp_par_su_imp_con\")"
   ]
  },
  {
   "cell_type": "markdown",
   "id": "1c9e2bcd",
   "metadata": {},
   "source": [
    "## 2*) mediana dell'importo pareggiato per ogni municipio"
   ]
  },
  {
   "cell_type": "markdown",
   "id": "2a527e6a",
   "metadata": {},
   "source": [
    "# Perché la mediana dell'importo pareggio è zero? "
   ]
  },
  {
   "cell_type": "markdown",
   "id": "d1a428cd",
   "metadata": {},
   "source": [
    "gli zeri sono quelli che non hanno pareggiato, quindi che non hanno pagato e vanno tolti nel calcolo della mediana!!"
   ]
  },
  {
   "cell_type": "code",
   "execution_count": null,
   "id": "4fd09c59",
   "metadata": {},
   "outputs": [],
   "source": [
    "np.sum((dfndom[dfndom[\"NUM_CIR\"] == str(1)][\"IMPORTO_PAREGGIO\"] == 0.00).astype(\"uint8\"))"
   ]
  },
  {
   "cell_type": "code",
   "execution_count": null,
   "id": "e575f6f2",
   "metadata": {},
   "outputs": [],
   "source": [
    "np.sum((dfndom[dfndom[\"NUM_CIR\"] == str(1)][\"IMPORTO_PAREGGIO\"] != 0.00).astype(\"uint8\"))"
   ]
  },
  {
   "cell_type": "code",
   "execution_count": null,
   "id": "706e78f6",
   "metadata": {},
   "outputs": [],
   "source": [
    "len(dfndom[dfndom[\"NUM_CIR\"] == str(1)][\"IMPORTO_PAREGGIO\"]) - 17094"
   ]
  },
  {
   "cell_type": "code",
   "execution_count": null,
   "id": "399853b1",
   "metadata": {},
   "outputs": [],
   "source": [
    "val_m = (dfndom[dfndom[\"NUM_CIR\"] == str(1)][\"IMPORTO_PAREGGIO\"] != 0.00).astype(\"uint8\").replace(0, np.nan).dropna()"
   ]
  },
  {
   "cell_type": "code",
   "execution_count": null,
   "id": "eb413b85",
   "metadata": {},
   "outputs": [],
   "source": [
    "val_m.index"
   ]
  },
  {
   "cell_type": "code",
   "execution_count": null,
   "id": "707de589",
   "metadata": {},
   "outputs": [],
   "source": [
    "dfndom.loc[val_m.index][\"IMPORTO_PAREGGIO\"].median()"
   ]
  },
  {
   "cell_type": "code",
   "execution_count": null,
   "id": "3ad2fd93",
   "metadata": {},
   "outputs": [],
   "source": [
    "(dfndom[dfndom[\"NUM_CIR\"] == str(1)][\"IMPORTO_PAREGGIO\"] != 0.00).astype(\"uint8\").replace(0, np.nan)"
   ]
  },
  {
   "cell_type": "code",
   "execution_count": null,
   "id": "fdd4aa44",
   "metadata": {},
   "outputs": [],
   "source": [
    "med_pag = []\n",
    "for i in range(len(df1)):\n",
    "    val_m = (\n",
    "        (dfndom[dfndom[\"NUM_CIR\"] == str(i + 1)][\"IMPORTO_PAREGGIO\"] != 0.00)\n",
    "        .astype(\"uint8\")\n",
    "        .replace(0, np.nan)\n",
    "        .dropna()\n",
    "    )\n",
    "    med_pag.append(dfndom.loc[val_m.index][\"IMPORTO_PAREGGIO\"].median())"
   ]
  },
  {
   "cell_type": "code",
   "execution_count": null,
   "id": "bf7b2642",
   "metadata": {},
   "outputs": [],
   "source": [
    "med_pag"
   ]
  },
  {
   "cell_type": "code",
   "execution_count": null,
   "id": "9f847534",
   "metadata": {},
   "outputs": [],
   "source": [
    "df1[\"imp_par_med\"] = med_pag"
   ]
  },
  {
   "cell_type": "code",
   "execution_count": null,
   "id": "a15899e8",
   "metadata": {},
   "outputs": [],
   "source": [
    "municipi_map_r2np(df1, municipi_roma_geojson, \"imp_par_med\")"
   ]
  },
  {
   "cell_type": "markdown",
   "id": "d8f9dad7",
   "metadata": {},
   "source": [
    "## 2) importo pareggiato nel municipio / importo contratto di tutti i municipi"
   ]
  },
  {
   "cell_type": "code",
   "execution_count": null,
   "id": "81dea510",
   "metadata": {},
   "outputs": [],
   "source": [
    "np.sum(np.array(bdata[\"IMPORTO_CONTRATTO\"][\"sum\"])) - np.sum(np.array(bdata[\"IMPORTO_PAREGGIO\"][\"sum\"]))"
   ]
  },
  {
   "cell_type": "code",
   "execution_count": null,
   "id": "4367b7e0",
   "metadata": {},
   "outputs": [],
   "source": [
    "np.sum(np.array(bdata[\"IMPORTO_CONTRATTO\"][\"sum\"]))"
   ]
  },
  {
   "cell_type": "code",
   "execution_count": null,
   "id": "b81d90a2",
   "metadata": {},
   "outputs": [],
   "source": [
    "df1[\"imp_con\"].sum()"
   ]
  },
  {
   "cell_type": "code",
   "execution_count": null,
   "id": "44f8381b",
   "metadata": {},
   "outputs": [],
   "source": [
    "df1[\"imp_par_su_imp_con_tutti\"] = df1[\"imp_par\"] / df1[\"imp_con\"].sum() * 100"
   ]
  },
  {
   "cell_type": "code",
   "execution_count": null,
   "id": "63ecb627",
   "metadata": {},
   "outputs": [],
   "source": [
    "# df1['imp_par_su_imp_con_tutti']=round(df1['imp_par_su_imp_con_tutti'],2)"
   ]
  },
  {
   "cell_type": "code",
   "execution_count": null,
   "id": "2e584d0f",
   "metadata": {},
   "outputs": [],
   "source": [
    "municipi_map_r(df1, municipi_roma_geojson, \"imp_par_su_imp_con_tutti\")"
   ]
  }
 ],
 "metadata": {
  "kernelspec": {
   "display_name": "Python 3 (ipykernel)",
   "language": "python",
   "name": "python3"
  },
  "language_info": {
   "codemirror_mode": {
    "name": "ipython",
    "version": 3
   },
   "file_extension": ".py",
   "mimetype": "text/x-python",
   "name": "python",
   "nbconvert_exporter": "python",
   "pygments_lexer": "ipython3",
   "version": "3.9.13"
  },
  "toc": {
   "base_numbering": 1,
   "nav_menu": {},
   "number_sections": true,
   "sideBar": true,
   "skip_h1_title": false,
   "title_cell": "Table of Contents",
   "title_sidebar": "Contents",
   "toc_cell": false,
   "toc_position": {
    "height": "calc(100% - 180px)",
    "left": "10px",
    "top": "150px",
    "width": "303.837px"
   },
   "toc_section_display": true,
   "toc_window_display": true
  },
  "varInspector": {
   "cols": {
    "lenName": 16,
    "lenType": 16,
    "lenVar": 40
   },
   "kernels_config": {
    "python": {
     "delete_cmd_postfix": "",
     "delete_cmd_prefix": "del ",
     "library": "var_list.py",
     "varRefreshCmd": "print(var_dic_list())"
    },
    "r": {
     "delete_cmd_postfix": ") ",
     "delete_cmd_prefix": "rm(",
     "library": "var_list.r",
     "varRefreshCmd": "cat(var_dic_list()) "
    }
   },
   "types_to_exclude": [
    "module",
    "function",
    "builtin_function_or_method",
    "instance",
    "_Feature"
   ],
   "window_display": false
  }
 },
 "nbformat": 4,
 "nbformat_minor": 5
}
