{
 "cells": [
  {
   "cell_type": "markdown",
   "metadata": {},
   "source": [
    "# AMA - Progetto Fabbisogni - Bonifica Anagrafe"
   ]
  },
  {
   "cell_type": "markdown",
   "metadata": {},
   "source": [
    "# Init"
   ]
  },
  {
   "cell_type": "code",
   "execution_count": null,
   "metadata": {
    "init_cell": true
   },
   "outputs": [
    {
     "name": "stdout",
     "output_type": "stream",
     "text": [
      "\n",
      "Repo name: AMA_Progetto_Fabbisogni\n",
      "Repo path: /home/bifani/GitHub/AMA_Progetto_Fabbisogni\n",
      "\n"
     ]
    },
    {
     "data": {
      "application/javascript": [
       "\n",
       "            setTimeout(function() {\n",
       "                var nbb_cell_id = 1;\n",
       "                var nbb_unformatted_code = \"%run Init.ipynb\";\n",
       "                var nbb_formatted_code = \"%run Init.ipynb\";\n",
       "                var nbb_cells = Jupyter.notebook.get_cells();\n",
       "                for (var i = 0; i < nbb_cells.length; ++i) {\n",
       "                    if (nbb_cells[i].input_prompt_number == nbb_cell_id) {\n",
       "                        if (nbb_cells[i].get_text() == nbb_unformatted_code) {\n",
       "                             nbb_cells[i].set_text(nbb_formatted_code);\n",
       "                        }\n",
       "                        break;\n",
       "                    }\n",
       "                }\n",
       "            }, 500);\n",
       "            "
      ],
      "text/plain": [
       "<IPython.core.display.Javascript object>"
      ]
     },
     "metadata": {},
     "output_type": "display_data"
    }
   ],
   "source": [
    "%run Init.ipynb"
   ]
  },
  {
   "cell_type": "code",
   "execution_count": null,
   "metadata": {
    "init_cell": true
   },
   "outputs": [
    {
     "data": {
      "application/javascript": [
       "\n",
       "            setTimeout(function() {\n",
       "                var nbb_cell_id = 2;\n",
       "                var nbb_unformatted_code = \"import datetime\\n\\nimport numpy as np\\nimport pandas as pd\\n\\nimport matplotlib.pyplot as plt\\n\\nfrom src.datafactory import DataFactory\\nfrom src.miscellaneous import *\\n\\nfrom src.ba import *\";\n",
       "                var nbb_formatted_code = \"import datetime\\n\\nimport numpy as np\\nimport pandas as pd\\n\\nimport matplotlib.pyplot as plt\\n\\nfrom src.datafactory import DataFactory\\nfrom src.miscellaneous import *\\n\\nfrom src.ba import *\";\n",
       "                var nbb_cells = Jupyter.notebook.get_cells();\n",
       "                for (var i = 0; i < nbb_cells.length; ++i) {\n",
       "                    if (nbb_cells[i].input_prompt_number == nbb_cell_id) {\n",
       "                        if (nbb_cells[i].get_text() == nbb_unformatted_code) {\n",
       "                             nbb_cells[i].set_text(nbb_formatted_code);\n",
       "                        }\n",
       "                        break;\n",
       "                    }\n",
       "                }\n",
       "            }, 500);\n",
       "            "
      ],
      "text/plain": [
       "<IPython.core.display.Javascript object>"
      ]
     },
     "metadata": {},
     "output_type": "display_data"
    }
   ],
   "source": [
    "import datetime\n",
    "\n",
    "import numpy as np\n",
    "import pandas as pd\n",
    "\n",
    "import matplotlib.pyplot as plt\n",
    "\n",
    "from src.datafactory import DataFactory\n",
    "from src.miscellaneous import *\n",
    "\n",
    "from src.ba import *"
   ]
  },
  {
   "cell_type": "markdown",
   "metadata": {},
   "source": [
    "# Data"
   ]
  },
  {
   "cell_type": "markdown",
   "metadata": {},
   "source": [
    "## CNT"
   ]
  },
  {
   "cell_type": "markdown",
   "metadata": {},
   "source": [
    "### Dry"
   ]
  },
  {
   "cell_type": "code",
   "execution_count": null,
   "metadata": {},
   "outputs": [],
   "source": [
    "df_cnt = BA_CNT(\n",
    "    nrows=1000,\n",
    "    dry=True,\n",
    "    debug=False,\n",
    ")"
   ]
  },
  {
   "cell_type": "markdown",
   "metadata": {},
   "source": [
    "### Process"
   ]
  },
  {
   "cell_type": "code",
   "execution_count": null,
   "metadata": {},
   "outputs": [],
   "source": [
    "df_cnt = BA_CNT(\n",
    "    #     nrows=1000,\n",
    "    pre_process=True,\n",
    "    process=False,\n",
    "    post_process=False,\n",
    "    debug=False,\n",
    ")"
   ]
  },
  {
   "cell_type": "code",
   "execution_count": null,
   "metadata": {},
   "outputs": [],
   "source": [
    "df_cnt.save()"
   ]
  },
  {
   "cell_type": "code",
   "execution_count": null,
   "metadata": {},
   "outputs": [],
   "source": [
    "df_cnt.save(ext=\"xlsx\")"
   ]
  },
  {
   "cell_type": "markdown",
   "metadata": {},
   "source": [
    "### Pickle"
   ]
  },
  {
   "cell_type": "code",
   "execution_count": null,
   "metadata": {},
   "outputs": [],
   "source": [
    "df_cnt = BA_CNT(\n",
    "    pickled=True,\n",
    "    pre_process=False,\n",
    "    process=False,\n",
    "    post_process=False,\n",
    "    debug=False,\n",
    ")"
   ]
  },
  {
   "cell_type": "markdown",
   "metadata": {},
   "source": [
    "### Analysis"
   ]
  },
  {
   "cell_type": "code",
   "execution_count": null,
   "metadata": {},
   "outputs": [],
   "source": [
    "df_cnt.print_dtypes()"
   ]
  },
  {
   "cell_type": "code",
   "execution_count": null,
   "metadata": {},
   "outputs": [],
   "source": [
    "df_cnt.print_all_columns()"
   ]
  },
  {
   "cell_type": "code",
   "execution_count": null,
   "metadata": {},
   "outputs": [],
   "source": [
    "for c in df_cnt.columns:\n",
    "    df_cnt.print_counts([c])"
   ]
  },
  {
   "cell_type": "code",
   "execution_count": null,
   "metadata": {},
   "outputs": [],
   "source": [
    "df_cnt.plot(dry=True)"
   ]
  },
  {
   "cell_type": "code",
   "execution_count": null,
   "metadata": {},
   "outputs": [],
   "source": [
    "df_cnt.plot(category=True)"
   ]
  },
  {
   "cell_type": "code",
   "execution_count": null,
   "metadata": {},
   "outputs": [],
   "source": [
    "df_cnt.plot(numeric=True)"
   ]
  },
  {
   "cell_type": "code",
   "execution_count": null,
   "metadata": {},
   "outputs": [],
   "source": [
    "df_cnt.plot(string=True)"
   ]
  },
  {
   "cell_type": "code",
   "execution_count": null,
   "metadata": {},
   "outputs": [],
   "source": [
    "df_cnt.plot(datetime=True)"
   ]
  },
  {
   "cell_type": "code",
   "execution_count": null,
   "metadata": {},
   "outputs": [],
   "source": [
    "df_cnt.print_all_query(\"CNT_TCN_COD == 'F' & (CNT_COGNOME.isnull() | CNT_NOME.isnull())\")"
   ]
  },
  {
   "cell_type": "code",
   "execution_count": null,
   "metadata": {},
   "outputs": [],
   "source": [
    "df_cnt.df[\"CNT_DAT_NSC\"].value_counts().sort_index().tail(300)  # .index.to_list()"
   ]
  },
  {
   "cell_type": "code",
   "execution_count": null,
   "metadata": {},
   "outputs": [],
   "source": [
    "plt.figure()\n",
    "df_cnt.df[\"CNT_DAT_NSC\"].value_counts().sort_index().iloc[1:].plot()\n",
    "plt.title(\"CNT_DAT_NSC\")\n",
    "plt.tight_layout()"
   ]
  },
  {
   "cell_type": "code",
   "execution_count": null,
   "metadata": {},
   "outputs": [],
   "source": [
    "df_cnt.query(\"CNT_DAT_NSC == '20220328'\")"
   ]
  },
  {
   "cell_type": "markdown",
   "metadata": {},
   "source": [
    "### Persone Fisiche"
   ]
  },
  {
   "cell_type": "code",
   "execution_count": null,
   "metadata": {},
   "outputs": [],
   "source": [
    "df_cnt.apply_query(\"CNT_TCN_COD == 'F'\")"
   ]
  },
  {
   "cell_type": "code",
   "execution_count": null,
   "metadata": {},
   "outputs": [],
   "source": [
    "for c in df_cnt.columns:\n",
    "    df_cnt.print_counts([c])"
   ]
  },
  {
   "cell_type": "code",
   "execution_count": null,
   "metadata": {},
   "outputs": [],
   "source": [
    "vc = df_cnt.df[\"CNT_COD_FSC\"].value_counts()\n",
    "vc[vc > 1]"
   ]
  },
  {
   "cell_type": "code",
   "execution_count": null,
   "metadata": {},
   "outputs": [],
   "source": [
    "df_cnt.query(\"CNT_COD_FSC == 'BRGSNT67H61H501Y'\")"
   ]
  },
  {
   "cell_type": "code",
   "execution_count": null,
   "metadata": {},
   "outputs": [],
   "source": [
    "df_cnt.query(\"CNT_COD_FSC == 'TRRNDR91E16I712Y'\")"
   ]
  },
  {
   "cell_type": "code",
   "execution_count": null,
   "metadata": {},
   "outputs": [],
   "source": [
    "df_cnt.df[\"CNT_PAR_IVA\"].value_counts()"
   ]
  },
  {
   "cell_type": "code",
   "execution_count": null,
   "metadata": {},
   "outputs": [],
   "source": [
    "df_cnt.df[~df_cnt.df[\"CNT_PAR_IVA\"].isna()]"
   ]
  },
  {
   "cell_type": "code",
   "execution_count": null,
   "metadata": {},
   "outputs": [],
   "source": [
    "df_cnt.plot(datetime=True)"
   ]
  },
  {
   "cell_type": "code",
   "execution_count": null,
   "metadata": {},
   "outputs": [],
   "source": [
    "df_cnt.query(\"CNT_SGL_NAZ != 'IT'\")"
   ]
  },
  {
   "cell_type": "markdown",
   "metadata": {},
   "source": [
    "### Persone Giuridiche"
   ]
  },
  {
   "cell_type": "code",
   "execution_count": null,
   "metadata": {},
   "outputs": [],
   "source": [
    "df_cnt.apply_query(\"CNT_TCN_COD == 'G'\")"
   ]
  },
  {
   "cell_type": "code",
   "execution_count": null,
   "metadata": {},
   "outputs": [],
   "source": [
    "for c in df_cnt.columns:\n",
    "    df_cnt.print_counts([c])"
   ]
  },
  {
   "cell_type": "code",
   "execution_count": null,
   "metadata": {},
   "outputs": [],
   "source": [
    "df_cnt.query(\"~CNT_COD_FSC.isnull() & CNT_COD_FSC != CNT_PAR_IVA\")"
   ]
  },
  {
   "cell_type": "markdown",
   "metadata": {},
   "source": [
    "## NCL"
   ]
  },
  {
   "cell_type": "markdown",
   "metadata": {},
   "source": [
    "### Dry"
   ]
  },
  {
   "cell_type": "code",
   "execution_count": null,
   "metadata": {},
   "outputs": [],
   "source": [
    "df_ncl = BA_NCL(\n",
    "    nrows=1000,\n",
    "    dry=True,\n",
    "    debug=False,\n",
    ")"
   ]
  },
  {
   "cell_type": "markdown",
   "metadata": {},
   "source": [
    "### Process"
   ]
  },
  {
   "cell_type": "code",
   "execution_count": null,
   "metadata": {},
   "outputs": [],
   "source": [
    "df_ncl = BA_NCL(\n",
    "    #     nrows=1000,\n",
    "    pre_process=True,\n",
    "    process=False,\n",
    "    post_process=False,\n",
    "    debug=False,\n",
    ")"
   ]
  },
  {
   "cell_type": "code",
   "execution_count": null,
   "metadata": {},
   "outputs": [],
   "source": [
    "df_ncl.save()"
   ]
  },
  {
   "cell_type": "code",
   "execution_count": null,
   "metadata": {},
   "outputs": [],
   "source": [
    "df_ncl.save(ext=\"xlsx\")"
   ]
  },
  {
   "cell_type": "markdown",
   "metadata": {},
   "source": [
    "### Pickle"
   ]
  },
  {
   "cell_type": "code",
   "execution_count": null,
   "metadata": {},
   "outputs": [],
   "source": [
    "df_ncl = BA_NCL(\n",
    "    pickled=True,\n",
    "    pre_process=False,\n",
    "    process=False,\n",
    "    post_process=False,\n",
    "    debug=False,\n",
    ")"
   ]
  },
  {
   "cell_type": "markdown",
   "metadata": {},
   "source": [
    "### Analysis"
   ]
  },
  {
   "cell_type": "code",
   "execution_count": null,
   "metadata": {},
   "outputs": [],
   "source": [
    "df_ncl.print_dtypes()"
   ]
  },
  {
   "cell_type": "code",
   "execution_count": null,
   "metadata": {},
   "outputs": [],
   "source": [
    "df_ncl.print_all_columns()"
   ]
  },
  {
   "cell_type": "code",
   "execution_count": null,
   "metadata": {},
   "outputs": [],
   "source": [
    "for c in df_ncl.columns:\n",
    "    df_ncl.print_counts([c])"
   ]
  },
  {
   "cell_type": "code",
   "execution_count": null,
   "metadata": {},
   "outputs": [],
   "source": [
    "df_ncl.plot(dry=True)"
   ]
  },
  {
   "cell_type": "code",
   "execution_count": null,
   "metadata": {},
   "outputs": [],
   "source": [
    "df_ncl.plot(category=True)"
   ]
  },
  {
   "cell_type": "code",
   "execution_count": null,
   "metadata": {},
   "outputs": [],
   "source": [
    "df_ncl.plot(numeric=True, logxy=False)"
   ]
  },
  {
   "cell_type": "code",
   "execution_count": null,
   "metadata": {},
   "outputs": [],
   "source": [
    "df_ncl.plot(string=True)"
   ]
  },
  {
   "cell_type": "code",
   "execution_count": null,
   "metadata": {},
   "outputs": [],
   "source": [
    "df_ncl.plot(datetime=True)"
   ]
  },
  {
   "cell_type": "code",
   "execution_count": null,
   "metadata": {},
   "outputs": [],
   "source": [
    "plt.figure()\n",
    "df_ncl.df[df_ncl.df[\"NCL_DAT_INI\"] < pd.Timestamp(\"2022-12-31\")][\"NCL_DAT_INI\"].value_counts(dropna=False).plot()\n",
    "plt.title(\"NCL_DAT_INI\")\n",
    "plt.tight_layout()"
   ]
  },
  {
   "cell_type": "code",
   "execution_count": null,
   "metadata": {},
   "outputs": [],
   "source": [
    "plt.figure()\n",
    "df_ncl.df[df_ncl.df[\"NCL_DAT_FIN\"] < pd.Timestamp(\"2022-12-31\")][\"NCL_DAT_FIN\"].value_counts(\n",
    "    dropna=False\n",
    ").sort_index().plot()\n",
    "plt.title(\"NCL_DAT_FIN\")\n",
    "plt.tight_layout()"
   ]
  },
  {
   "cell_type": "code",
   "execution_count": null,
   "metadata": {},
   "outputs": [],
   "source": [
    "df_ncl.df[\"NCL_DAT_D\"] = (df_ncl.df[\"NCL_DAT_FIN\"] - df_ncl.df[\"NCL_DAT_INI\"]).astype(\"timedelta64[D]\")\n",
    "\n",
    "df_ncl.df[\"NCL_DAT_D\"]"
   ]
  },
  {
   "cell_type": "code",
   "execution_count": null,
   "metadata": {},
   "outputs": [],
   "source": [
    "df_ncl.df[df_ncl.df[\"NCL_DAT_D\"] < 1000]"
   ]
  },
  {
   "cell_type": "code",
   "execution_count": null,
   "metadata": {},
   "outputs": [],
   "source": [
    "df_ncl.df[(df_ncl.df[\"NCL_DAT_D\"] > 0) & (df_ncl.df[\"NCL_DAT_D\"] < 1000)][\"NCL_DAT_D\"].value_counts(\n",
    "    dropna=False\n",
    ").sort_index()"
   ]
  },
  {
   "cell_type": "code",
   "execution_count": null,
   "metadata": {},
   "outputs": [],
   "source": [
    "plt.figure()\n",
    "df_ncl.df[(df_ncl.df[\"NCL_DAT_D\"] >= 0) & (df_ncl.df[\"NCL_DAT_D\"] < 2000)][\"NCL_DAT_D\"].value_counts(\n",
    "    dropna=False\n",
    ").sort_index().plot()\n",
    "plt.title(\"NCL_DAT_FIN - NCL_DAT_INI\")\n",
    "plt.tight_layout()"
   ]
  },
  {
   "cell_type": "markdown",
   "metadata": {},
   "source": [
    "## PAG"
   ]
  },
  {
   "cell_type": "markdown",
   "metadata": {},
   "source": [
    "### Dry"
   ]
  },
  {
   "cell_type": "code",
   "execution_count": null,
   "metadata": {},
   "outputs": [],
   "source": [
    "df_pag = BA_PAG(\n",
    "    nrows=1000,\n",
    "    dry=True,\n",
    "    debug=False,\n",
    ")"
   ]
  },
  {
   "cell_type": "markdown",
   "metadata": {},
   "source": [
    "### Process"
   ]
  },
  {
   "cell_type": "code",
   "execution_count": null,
   "metadata": {},
   "outputs": [],
   "source": [
    "df_pag = BA_PAG(\n",
    "    #     nrows=1000,\n",
    "    pre_process=True,\n",
    "    process=False,\n",
    "    post_process=False,\n",
    "    debug=False,\n",
    ")"
   ]
  },
  {
   "cell_type": "code",
   "execution_count": null,
   "metadata": {},
   "outputs": [],
   "source": [
    "df_pag.save()"
   ]
  },
  {
   "cell_type": "code",
   "execution_count": null,
   "metadata": {},
   "outputs": [],
   "source": [
    "df_pag.save(ext=\"xlsx\")"
   ]
  },
  {
   "cell_type": "markdown",
   "metadata": {},
   "source": [
    "### Pickle"
   ]
  },
  {
   "cell_type": "code",
   "execution_count": null,
   "metadata": {},
   "outputs": [],
   "source": [
    "df_pag = BA_PAG(\n",
    "    pickled=True,\n",
    "    pre_process=False,\n",
    "    process=False,\n",
    "    post_process=False,\n",
    "    debug=False,\n",
    ")"
   ]
  },
  {
   "cell_type": "markdown",
   "metadata": {},
   "source": [
    "### Analysis"
   ]
  },
  {
   "cell_type": "code",
   "execution_count": null,
   "metadata": {},
   "outputs": [],
   "source": [
    "df_pag.print_dtypes()"
   ]
  },
  {
   "cell_type": "code",
   "execution_count": null,
   "metadata": {},
   "outputs": [],
   "source": [
    "df_pag.print_all_columns()"
   ]
  },
  {
   "cell_type": "code",
   "execution_count": null,
   "metadata": {},
   "outputs": [],
   "source": [
    "for c in df_pag.columns:\n",
    "    df_pag.print_counts([c])"
   ]
  },
  {
   "cell_type": "code",
   "execution_count": null,
   "metadata": {},
   "outputs": [],
   "source": [
    "df_pag.plot(dry=True)"
   ]
  },
  {
   "cell_type": "code",
   "execution_count": null,
   "metadata": {},
   "outputs": [],
   "source": [
    "df_pag.plot(category=True)"
   ]
  },
  {
   "cell_type": "code",
   "execution_count": null,
   "metadata": {},
   "outputs": [],
   "source": [
    "df_pag.plot(numeric=True)"
   ]
  },
  {
   "cell_type": "code",
   "execution_count": null,
   "metadata": {},
   "outputs": [],
   "source": [
    "df_pag.plot(string=True)"
   ]
  },
  {
   "cell_type": "code",
   "execution_count": null,
   "metadata": {},
   "outputs": [],
   "source": [
    "df_pag.plot(datetime=True)"
   ]
  },
  {
   "cell_type": "markdown",
   "metadata": {},
   "source": [
    "## RCP"
   ]
  },
  {
   "cell_type": "markdown",
   "metadata": {},
   "source": [
    "### Dry"
   ]
  },
  {
   "cell_type": "code",
   "execution_count": null,
   "metadata": {},
   "outputs": [],
   "source": [
    "df_rpc = BA_RCP(\n",
    "    nrows=1000,\n",
    "    dry=True,\n",
    "    debug=False,\n",
    ")"
   ]
  },
  {
   "cell_type": "markdown",
   "metadata": {},
   "source": [
    "### Process"
   ]
  },
  {
   "cell_type": "code",
   "execution_count": null,
   "metadata": {},
   "outputs": [],
   "source": [
    "df_rpc = BA_RCP(\n",
    "    #     nrows=1000,\n",
    "    pre_process=True,\n",
    "    process=False,\n",
    "    post_process=False,\n",
    "    debug=False,\n",
    ")"
   ]
  },
  {
   "cell_type": "code",
   "execution_count": null,
   "metadata": {},
   "outputs": [],
   "source": [
    "df_rpc.save()"
   ]
  },
  {
   "cell_type": "code",
   "execution_count": null,
   "metadata": {},
   "outputs": [],
   "source": [
    "df_rpc.save(ext=\"xlsx\")"
   ]
  },
  {
   "cell_type": "markdown",
   "metadata": {},
   "source": [
    "### Pickle"
   ]
  },
  {
   "cell_type": "code",
   "execution_count": null,
   "metadata": {},
   "outputs": [],
   "source": [
    "df_rpc = BA_RCP(\n",
    "    pickled=True,\n",
    "    pre_process=False,\n",
    "    process=False,\n",
    "    post_process=False,\n",
    "    debug=False,\n",
    ")"
   ]
  },
  {
   "cell_type": "markdown",
   "metadata": {},
   "source": [
    "### Analysis"
   ]
  },
  {
   "cell_type": "code",
   "execution_count": null,
   "metadata": {},
   "outputs": [],
   "source": [
    "df_rpc.print_dtypes()"
   ]
  },
  {
   "cell_type": "code",
   "execution_count": null,
   "metadata": {},
   "outputs": [],
   "source": [
    "df_rpc.print_all_columns()"
   ]
  },
  {
   "cell_type": "code",
   "execution_count": null,
   "metadata": {},
   "outputs": [],
   "source": [
    "for c in df_rpc.columns:\n",
    "    df_rpc.print_counts([c])"
   ]
  },
  {
   "cell_type": "code",
   "execution_count": null,
   "metadata": {},
   "outputs": [],
   "source": [
    "df_rpc.plot(dry=True)"
   ]
  },
  {
   "cell_type": "code",
   "execution_count": null,
   "metadata": {},
   "outputs": [],
   "source": [
    "df_rpc.plot(category=True)"
   ]
  },
  {
   "cell_type": "code",
   "execution_count": null,
   "metadata": {},
   "outputs": [],
   "source": [
    "df_rpc.plot(numeric=True)"
   ]
  },
  {
   "cell_type": "code",
   "execution_count": null,
   "metadata": {},
   "outputs": [],
   "source": [
    "df_rpc.plot(string=True)"
   ]
  },
  {
   "cell_type": "code",
   "execution_count": null,
   "metadata": {},
   "outputs": [],
   "source": [
    "df_rpc.plot(datetime=True)"
   ]
  },
  {
   "cell_type": "markdown",
   "metadata": {},
   "source": [
    "## UTD"
   ]
  },
  {
   "cell_type": "markdown",
   "metadata": {},
   "source": [
    "### Dry"
   ]
  },
  {
   "cell_type": "code",
   "execution_count": null,
   "metadata": {},
   "outputs": [],
   "source": [
    "df_utd = BA_UTD(\n",
    "    nrows=1000,\n",
    "    dry=True,\n",
    "    debug=False,\n",
    ")"
   ]
  },
  {
   "cell_type": "markdown",
   "metadata": {},
   "source": [
    "### Process"
   ]
  },
  {
   "cell_type": "code",
   "execution_count": null,
   "metadata": {},
   "outputs": [],
   "source": [
    "df_utd = BA_UTD(\n",
    "    # nrows=1000,\n",
    "    pre_process=True,\n",
    "    process=False,\n",
    "    post_process=False,\n",
    "    debug=False,\n",
    ")"
   ]
  },
  {
   "cell_type": "code",
   "execution_count": null,
   "metadata": {},
   "outputs": [],
   "source": [
    "df_utd.save()"
   ]
  },
  {
   "cell_type": "code",
   "execution_count": null,
   "metadata": {},
   "outputs": [],
   "source": [
    "df_utd.save(ext=\"xlsx\")"
   ]
  },
  {
   "cell_type": "markdown",
   "metadata": {},
   "source": [
    "### Pickle"
   ]
  },
  {
   "cell_type": "code",
   "execution_count": null,
   "metadata": {},
   "outputs": [],
   "source": [
    "df_utd = BA_UTD(\n",
    "    pickled=True,\n",
    "    pre_process=False,\n",
    "    process=False,\n",
    "    post_process=False,\n",
    "    debug=False,\n",
    ")"
   ]
  },
  {
   "cell_type": "markdown",
   "metadata": {},
   "source": [
    "### Analysis"
   ]
  },
  {
   "cell_type": "code",
   "execution_count": null,
   "metadata": {},
   "outputs": [],
   "source": [
    "df_utd.print_dtypes()"
   ]
  },
  {
   "cell_type": "code",
   "execution_count": null,
   "metadata": {},
   "outputs": [],
   "source": [
    "df_utd.print_all_columns()"
   ]
  },
  {
   "cell_type": "code",
   "execution_count": null,
   "metadata": {},
   "outputs": [],
   "source": [
    "for c in df_utd.columns:\n",
    "    df_utd.print_counts([c])"
   ]
  },
  {
   "cell_type": "code",
   "execution_count": null,
   "metadata": {},
   "outputs": [],
   "source": [
    "df_utd.print_counts(\"UTD_SPF_IMM_ALT\")"
   ]
  },
  {
   "cell_type": "code",
   "execution_count": null,
   "metadata": {},
   "outputs": [],
   "source": [
    "df_utd.query(\"UTD_IMM_FOGLIO.isnull() or UTD_IMM_PARTICELLA.isnull() or UTD_IMM_SUBALTERNO.isnull()\")"
   ]
  },
  {
   "cell_type": "code",
   "execution_count": null,
   "metadata": {},
   "outputs": [],
   "source": [
    "1929612 / df_utd.df.shape[0]"
   ]
  },
  {
   "cell_type": "code",
   "execution_count": null,
   "metadata": {},
   "outputs": [],
   "source": [
    "df_utd.plot(dry=True)"
   ]
  },
  {
   "cell_type": "code",
   "execution_count": null,
   "metadata": {},
   "outputs": [],
   "source": [
    "df_utd.plot(category=True)"
   ]
  },
  {
   "cell_type": "code",
   "execution_count": null,
   "metadata": {},
   "outputs": [],
   "source": [
    "df_utd.plot(numeric=True, logxy=False)"
   ]
  },
  {
   "cell_type": "code",
   "execution_count": null,
   "metadata": {},
   "outputs": [],
   "source": [
    "plt.figure()\n",
    "df_utd.df[(df_utd.df[\"UTD_SPF_IMM\"] > 0) & (df_utd.df[\"UTD_SPF_IMM\"] < 1000)][\"UTD_SPF_IMM\"].plot.hist(bins=100)\n",
    "plt.title(\"UTD_SPF_IMM\")\n",
    "plt.tight_layout()"
   ]
  },
  {
   "cell_type": "code",
   "execution_count": null,
   "metadata": {},
   "outputs": [],
   "source": [
    "plt.figure()\n",
    "df_utd.df[df_utd.df[\"UTD_SPF_IMM_ALT\"] > 0][\"UTD_SPF_IMM_ALT\"].plot.hist(bins=100)\n",
    "plt.title(\"UTD_SPF_IMM_ALT\")\n",
    "plt.tight_layout()"
   ]
  },
  {
   "cell_type": "code",
   "execution_count": null,
   "metadata": {},
   "outputs": [],
   "source": [
    "plt.figure()\n",
    "df_utd.df[(df_utd.df[\"UTD_SPF_GAR\"] > 0) & (df_utd.df[\"UTD_SPF_GAR\"] < 100)][\"UTD_SPF_GAR\"].plot.hist(bins=100)\n",
    "plt.title(\"UTD_SPF_GAR\")\n",
    "plt.tight_layout()"
   ]
  },
  {
   "cell_type": "code",
   "execution_count": null,
   "metadata": {},
   "outputs": [],
   "source": [
    "plt.figure()\n",
    "df_utd.df[(df_utd.df[\"UTD_SPF_GAR_ALT\"] > 0) & (df_utd.df[\"UTD_SPF_GAR_ALT\"] < 100)][\"UTD_SPF_GAR_ALT\"].plot.hist(\n",
    "    bins=100\n",
    ")\n",
    "plt.title(\"UTD_SPF_GAR_ALT\")\n",
    "plt.tight_layout()"
   ]
  },
  {
   "cell_type": "code",
   "execution_count": null,
   "metadata": {},
   "outputs": [],
   "source": [
    "plt.figure()\n",
    "df_utd.df[(df_utd.df[\"UTD_SPF_ALT\"] > 0) & (df_utd.df[\"UTD_SPF_ALT\"] < 100)][\"UTD_SPF_ALT\"].plot.hist(bins=100)\n",
    "plt.title(\"UTD_SPF_ALT\")\n",
    "plt.tight_layout()"
   ]
  },
  {
   "cell_type": "code",
   "execution_count": null,
   "metadata": {},
   "outputs": [],
   "source": [
    "nums = [\n",
    "    \"UTD_SPF_IMM\",\n",
    "    \"UTD_SPF_IMM_ALT\",\n",
    "    \"UTD_SPF_GAR\",\n",
    "    \"UTD_SPF_GAR_ALT\",\n",
    "    \"UTD_SPF_ALT\",\n",
    "]\n",
    "for c in nums:\n",
    "    print(\n",
    "        c,\n",
    "        df_utd.df[df_utd.df[c] > 0][c].mean(),\n",
    "        df_utd.df[df_utd.df[c] > 0][c].median(),\n",
    "    )"
   ]
  },
  {
   "cell_type": "code",
   "execution_count": null,
   "metadata": {},
   "outputs": [],
   "source": [
    "df_utd.plot(string=True)"
   ]
  },
  {
   "cell_type": "code",
   "execution_count": null,
   "metadata": {},
   "outputs": [],
   "source": [
    "df_utd.plot(datetime=True)"
   ]
  },
  {
   "cell_type": "code",
   "execution_count": null,
   "metadata": {},
   "outputs": [],
   "source": [
    "plt.figure()\n",
    "df_utd.df[df_utd.df[\"UTD_DAT_ATT\"] < pd.Timestamp(\"2022-12-31\")][\"UTD_DAT_CESS\"].value_counts(dropna=False).plot()\n",
    "plt.title(\"UTD_DAT_CESS\")\n",
    "plt.tight_layout()"
   ]
  },
  {
   "cell_type": "code",
   "execution_count": null,
   "metadata": {},
   "outputs": [],
   "source": [
    "plt.figure()\n",
    "df_utd.df[(df_utd.df[\"UTD_DAT_CA\"] > 0) & (df_utd.df[\"UTD_DAT_ATT\"] < pd.Timestamp(\"2022-12-31\"))][\n",
    "    \"UTD_DAT_CA\"\n",
    "].value_counts(dropna=False).sort_index().plot(logy=False)\n",
    "plt.title(\"UTD_DAT_CREAZ - UTD_DAT_ATT\")\n",
    "plt.tight_layout()"
   ]
  },
  {
   "cell_type": "code",
   "execution_count": null,
   "metadata": {},
   "outputs": [],
   "source": [
    "df_utd.df[(df_utd.df[\"UTD_DAT_CC\"] < 0) & (df_utd.df[\"UTD_DAT_ATT\"] < pd.Timestamp(\"2022-12-31\"))]"
   ]
  },
  {
   "cell_type": "code",
   "execution_count": null,
   "metadata": {},
   "outputs": [],
   "source": [
    "df_utd.df[(df_utd.df[\"UTD_DAT_CC\"] < 0) & (df_utd.df[\"UTD_DAT_ATT\"] < pd.Timestamp(\"2022-12-31\"))].shape[\n",
    "    0\n",
    "] / df_utd.df.shape[0]"
   ]
  },
  {
   "cell_type": "code",
   "execution_count": null,
   "metadata": {},
   "outputs": [],
   "source": [
    "df_utd.df[(df_utd.df[\"UTD_DAT_CC\"] > 0) & (df_utd.df[\"UTD_DAT_ATT\"] < pd.Timestamp(\"2022-12-31\"))].shape[\n",
    "    0\n",
    "] / df_utd.df.shape[0]"
   ]
  },
  {
   "cell_type": "code",
   "execution_count": null,
   "metadata": {},
   "outputs": [],
   "source": [
    "plt.figure()\n",
    "df_utd.df[(df_utd.df[\"UTD_DAT_CC\"] > 0) & (df_utd.df[\"UTD_DAT_ATT\"] < pd.Timestamp(\"2022-12-31\"))][\n",
    "    \"UTD_DAT_CC\"\n",
    "].value_counts(dropna=False).sort_index().plot(logy=False)\n",
    "plt.title(\"UTD_DAT_CESS - UTD_DAT_CREAZ\")\n",
    "plt.tight_layout()"
   ]
  },
  {
   "cell_type": "code",
   "execution_count": null,
   "metadata": {},
   "outputs": [],
   "source": [
    "plt.figure()\n",
    "df_utd.df[(df_utd.df[\"UTD_DAT_ATT\"] < pd.Timestamp(\"2022-12-31\"))][\"UTD_DAT_CA2\"].value_counts(\n",
    "    dropna=False\n",
    ").sort_index().plot(logy=False)\n",
    "plt.title(\"UTD_DAT_CESS - UTD_DAT_ATT\")\n",
    "plt.tight_layout()"
   ]
  },
  {
   "cell_type": "code",
   "execution_count": null,
   "metadata": {},
   "outputs": [],
   "source": [
    "df_utd.df[df_utd.df[\"UTD_DAT_CA2\"] == 0].shape[0] / df_utd.df.shape[0]"
   ]
  },
  {
   "cell_type": "code",
   "execution_count": null,
   "metadata": {},
   "outputs": [],
   "source": [
    "df_utd.df[(df_utd.df[\"UTD_DAT_ATT\"] > pd.Timestamp(\"2022-12-31\"))]"
   ]
  },
  {
   "cell_type": "markdown",
   "metadata": {},
   "source": [
    "## UTN"
   ]
  },
  {
   "cell_type": "markdown",
   "metadata": {},
   "source": [
    "### Dry"
   ]
  },
  {
   "cell_type": "code",
   "execution_count": null,
   "metadata": {},
   "outputs": [],
   "source": [
    "df_utn = BA_UTN(\n",
    "    nrows=1000,\n",
    "    dry=True,\n",
    "    debug=False,\n",
    ")"
   ]
  },
  {
   "cell_type": "markdown",
   "metadata": {},
   "source": [
    "### Process"
   ]
  },
  {
   "cell_type": "code",
   "execution_count": null,
   "metadata": {},
   "outputs": [],
   "source": [
    "df_utn = BA_UTN(\n",
    "    nrows=1000,\n",
    "    pre_process=True,\n",
    "    process=False,\n",
    "    post_process=False,\n",
    "    debug=False,\n",
    ")"
   ]
  },
  {
   "cell_type": "code",
   "execution_count": null,
   "metadata": {},
   "outputs": [],
   "source": [
    "df_utn.save()"
   ]
  },
  {
   "cell_type": "code",
   "execution_count": null,
   "metadata": {},
   "outputs": [],
   "source": [
    "df_utn.save(ext=\"xlsx\")"
   ]
  },
  {
   "cell_type": "markdown",
   "metadata": {},
   "source": [
    "### Pickle"
   ]
  },
  {
   "cell_type": "code",
   "execution_count": null,
   "metadata": {},
   "outputs": [],
   "source": [
    "df_utn = BA_UTN(\n",
    "    pickled=True,\n",
    "    pre_process=False,\n",
    "    process=False,\n",
    "    post_process=False,\n",
    "    debug=False,\n",
    ")"
   ]
  },
  {
   "cell_type": "markdown",
   "metadata": {},
   "source": [
    "### Analysis"
   ]
  },
  {
   "cell_type": "code",
   "execution_count": null,
   "metadata": {},
   "outputs": [],
   "source": [
    "df_utn.print_dtypes()"
   ]
  },
  {
   "cell_type": "code",
   "execution_count": null,
   "metadata": {},
   "outputs": [],
   "source": [
    "df_utn.print_all_columns()"
   ]
  },
  {
   "cell_type": "code",
   "execution_count": null,
   "metadata": {},
   "outputs": [],
   "source": [
    "for c in df_utn.columns:\n",
    "    df_utn.print_counts([c])"
   ]
  },
  {
   "cell_type": "code",
   "execution_count": null,
   "metadata": {},
   "outputs": [],
   "source": [
    "df_utn.plot(dry=True)"
   ]
  },
  {
   "cell_type": "code",
   "execution_count": null,
   "metadata": {},
   "outputs": [],
   "source": [
    "df_utn.plot(category=True)"
   ]
  },
  {
   "cell_type": "code",
   "execution_count": null,
   "metadata": {},
   "outputs": [],
   "source": [
    "df_utn.plot(numeric=True)"
   ]
  },
  {
   "cell_type": "code",
   "execution_count": null,
   "metadata": {},
   "outputs": [],
   "source": [
    "plt.figure()\n",
    "df_utn.df[(df_utn.df[\"UTN_SPF_IMM\"] > 0) & (df_utn.df[\"UTN_SPF_IMM\"] < 1000)][\"UTN_SPF_IMM\"].plot.hist(bins=100)\n",
    "plt.title(\"UTN_SPF_IMM\")\n",
    "plt.tight_layout()"
   ]
  },
  {
   "cell_type": "code",
   "execution_count": null,
   "metadata": {},
   "outputs": [],
   "source": [
    "df_utn.df[df_utn.df[\"UTN_SPF_IMM\"] > 0][\"UTN_SPF_IMM\"].median()"
   ]
  },
  {
   "cell_type": "code",
   "execution_count": null,
   "metadata": {},
   "outputs": [],
   "source": [
    "plt.figure()\n",
    "df_utn.df[(df_utn.df[\"UTN_SPF_ESENTE\"] > 0) & (df_utn.df[\"UTN_SPF_ESENTE\"] < 1000)][\"UTN_SPF_ESENTE\"].plot.hist(\n",
    "    bins=100\n",
    ")\n",
    "plt.title(\"UTN_SPF_ESENTE\")\n",
    "plt.tight_layout()"
   ]
  },
  {
   "cell_type": "code",
   "execution_count": null,
   "metadata": {},
   "outputs": [],
   "source": [
    "df_utn.df[df_utn.df[\"UTN_SPF_ESENTE\"] > 0][\"UTN_SPF_ESENTE\"].mean()"
   ]
  },
  {
   "cell_type": "code",
   "execution_count": null,
   "metadata": {},
   "outputs": [],
   "source": [
    "df_utn.plot(string=True)"
   ]
  },
  {
   "cell_type": "code",
   "execution_count": null,
   "metadata": {},
   "outputs": [],
   "source": [
    "df_utn.plot(datetime=True)"
   ]
  },
  {
   "cell_type": "code",
   "execution_count": null,
   "metadata": {},
   "outputs": [],
   "source": [
    "plt.figure()\n",
    "df_utn.df[df_utn.df[\"UTN_DAT_ATT\"] < pd.Timestamp(\"2022-12-31\")][\"UTN_DAT_ATT\"].value_counts(dropna=False).plot()\n",
    "plt.title(\"UTN_DAT_ATT\")\n",
    "plt.tight_layout()"
   ]
  },
  {
   "cell_type": "code",
   "execution_count": null,
   "metadata": {},
   "outputs": [],
   "source": [
    "plt.figure()\n",
    "df_utn.df[df_utn.df[\"UTN_DAT_ATT\"] < pd.Timestamp(\"2022-12-31\")][\"UTN_DAT_CREAZ\"].value_counts(dropna=False).plot()\n",
    "plt.title(\"UTN_DAT_CREAZ\")\n",
    "plt.tight_layout()"
   ]
  },
  {
   "cell_type": "code",
   "execution_count": null,
   "metadata": {},
   "outputs": [],
   "source": [
    "plt.figure()\n",
    "df_utn.df[df_utn.df[\"UTN_DAT_ATT\"] < pd.Timestamp(\"2022-12-31\")][\"UTN_DAT_CESS\"].value_counts(dropna=False).plot()\n",
    "plt.title(\"UTN_DAT_CESS\")\n",
    "plt.tight_layout()"
   ]
  },
  {
   "cell_type": "code",
   "execution_count": null,
   "metadata": {},
   "outputs": [],
   "source": [
    "plt.figure()\n",
    "df_utn.df[(df_utn.df[\"UTN_DAT_CA\"] < 0) & (df_utn.df[\"UTN_DAT_ATT\"] < pd.Timestamp(\"2022-12-31\"))][\n",
    "    \"UTN_DAT_CA\"\n",
    "].value_counts(dropna=False).sort_index().plot(logy=False)\n",
    "plt.title(\"UTN_DAT_CREAZ - UTN_DAT_ATT\")\n",
    "plt.tight_layout()"
   ]
  },
  {
   "cell_type": "code",
   "execution_count": null,
   "metadata": {},
   "outputs": [],
   "source": [
    "df_utn.df[(df_utn.df[\"UTN_DAT_CA\"] < 0) & (df_utn.df[\"UTN_DAT_ATT\"] < pd.Timestamp(\"2022-12-31\"))][\"UTN_DAT_CA\"].shape[\n",
    "    0\n",
    "] / df_utn.df.shape[0]"
   ]
  },
  {
   "cell_type": "code",
   "execution_count": null,
   "metadata": {},
   "outputs": [],
   "source": [
    "df_utn.df[(df_utn.df[\"UTN_DAT_CA\"] > 0) & (df_utn.df[\"UTN_DAT_ATT\"] < pd.Timestamp(\"2022-12-31\"))][\"UTN_DAT_CA\"].shape[\n",
    "    0\n",
    "] / df_utn.df.shape[0]"
   ]
  },
  {
   "cell_type": "code",
   "execution_count": null,
   "metadata": {},
   "outputs": [],
   "source": [
    "plt.figure()\n",
    "df_utn.df[(df_utn.df[\"UTN_DAT_CC\"] < 0) & (df_utn.df[\"UTN_DAT_ATT\"] < pd.Timestamp(\"2022-12-31\"))][\n",
    "    \"UTN_DAT_CC\"\n",
    "].value_counts(dropna=False).sort_index().plot(logy=False)\n",
    "plt.title(\"UTN_DAT_CESS - UTN_DAT_CREAZ\")\n",
    "plt.tight_layout()"
   ]
  },
  {
   "cell_type": "code",
   "execution_count": null,
   "metadata": {},
   "outputs": [],
   "source": [
    "plt.figure()\n",
    "df_utn.df[(df_utn.df[\"UTN_DAT_ATT\"] < pd.Timestamp(\"2022-12-31\"))][\"UTN_DAT_CA2\"].value_counts(\n",
    "    dropna=False\n",
    ").sort_index().plot(logy=False)\n",
    "plt.title(\"UTN_DAT_CESS - UTN_DAT_ATT\")\n",
    "plt.tight_layout()"
   ]
  },
  {
   "cell_type": "code",
   "execution_count": null,
   "metadata": {},
   "outputs": [],
   "source": [
    "df_utn.df[df_utn.df[\"UTN_DAT_CA2\"] == 0].shape[0] / df_utn.df.shape[0]"
   ]
  },
  {
   "cell_type": "markdown",
   "metadata": {},
   "source": [
    "## VIE"
   ]
  },
  {
   "cell_type": "markdown",
   "metadata": {},
   "source": [
    "### Dry"
   ]
  },
  {
   "cell_type": "code",
   "execution_count": null,
   "metadata": {},
   "outputs": [],
   "source": [
    "df_vie = BA_VIE(\n",
    "    nrows=1000,\n",
    "    dry=True,\n",
    "    debug=False,\n",
    ")"
   ]
  },
  {
   "cell_type": "markdown",
   "metadata": {},
   "source": [
    "### Process"
   ]
  },
  {
   "cell_type": "code",
   "execution_count": null,
   "metadata": {},
   "outputs": [],
   "source": [
    "df_vie = BA_VIE(\n",
    "    #     nrows=1000,\n",
    "    pre_process=True,\n",
    "    process=False,\n",
    "    post_process=False,\n",
    "    debug=False,\n",
    ")"
   ]
  },
  {
   "cell_type": "code",
   "execution_count": null,
   "metadata": {},
   "outputs": [],
   "source": [
    "df_vie.save()"
   ]
  },
  {
   "cell_type": "code",
   "execution_count": null,
   "metadata": {},
   "outputs": [],
   "source": [
    "df_vie.save(ext=\"xlsx\")"
   ]
  },
  {
   "cell_type": "markdown",
   "metadata": {},
   "source": [
    "### Pickle"
   ]
  },
  {
   "cell_type": "code",
   "execution_count": null,
   "metadata": {},
   "outputs": [],
   "source": [
    "df_vie = BA_VIE(\n",
    "    pickled=True,\n",
    "    pre_process=False,\n",
    "    process=False,\n",
    "    post_process=False,\n",
    "    debug=False,\n",
    ")"
   ]
  },
  {
   "cell_type": "markdown",
   "metadata": {},
   "source": [
    "### Analysis"
   ]
  },
  {
   "cell_type": "code",
   "execution_count": null,
   "metadata": {},
   "outputs": [],
   "source": [
    "df_vie.print_dtypes()"
   ]
  },
  {
   "cell_type": "code",
   "execution_count": null,
   "metadata": {},
   "outputs": [],
   "source": [
    "df_vie.print_all_columns()"
   ]
  },
  {
   "cell_type": "code",
   "execution_count": null,
   "metadata": {},
   "outputs": [],
   "source": [
    "for c in df_vie.columns:\n",
    "    df_vie.print_counts(c)"
   ]
  },
  {
   "cell_type": "code",
   "execution_count": null,
   "metadata": {},
   "outputs": [],
   "source": [
    "df_vie.print_all_query(\"VIA_COD_CMN == '0' | VIA_COD_CMN_NBIT == '0'\")"
   ]
  },
  {
   "cell_type": "code",
   "execution_count": null,
   "metadata": {},
   "outputs": [],
   "source": [
    "df_vie.print_all_na()"
   ]
  },
  {
   "cell_type": "code",
   "execution_count": null,
   "metadata": {},
   "outputs": [],
   "source": [
    "df_vie.plot(dry=True)"
   ]
  },
  {
   "cell_type": "code",
   "execution_count": null,
   "metadata": {},
   "outputs": [],
   "source": [
    "df_vie.plot(category=True)"
   ]
  },
  {
   "cell_type": "code",
   "execution_count": null,
   "metadata": {},
   "outputs": [],
   "source": [
    "df_vie.plot(numeric=True)"
   ]
  },
  {
   "cell_type": "code",
   "execution_count": null,
   "metadata": {},
   "outputs": [],
   "source": [
    "df_vie.plot(string=True)"
   ]
  },
  {
   "cell_type": "code",
   "execution_count": null,
   "metadata": {},
   "outputs": [],
   "source": [
    "df_vie.plot(datetime=True)"
   ]
  },
  {
   "cell_type": "markdown",
   "metadata": {},
   "source": [
    "## UTD_MERGED"
   ]
  },
  {
   "cell_type": "code",
   "execution_count": null,
   "metadata": {},
   "outputs": [],
   "source": [
    "df_utd_merged = BA_UTD_MERGED(nrows=1000)"
   ]
  },
  {
   "cell_type": "code",
   "execution_count": null,
   "metadata": {},
   "outputs": [],
   "source": [
    "df_utd_merged = BA_UTD_MERGED2(pickled=True)  # , nrows=1000)"
   ]
  },
  {
   "cell_type": "code",
   "execution_count": null,
   "metadata": {},
   "outputs": [],
   "source": [
    "df_utd_merged.save(filename=\"utd_merged\")\n",
    "df_utd_merged.save(filename=\"utd_merged\", ext=\"xlsx\")"
   ]
  },
  {
   "cell_type": "code",
   "execution_count": null,
   "metadata": {},
   "outputs": [],
   "source": [
    "df_utd_merged = DataFactory(\"../../../Shared/Data/AMA_Progetto_Fabbisogni/BonificaAnagrafe/utd_merged.pkl.zip\")"
   ]
  },
  {
   "cell_type": "code",
   "execution_count": null,
   "metadata": {},
   "outputs": [],
   "source": [
    "df_utd_merged.print_counts(\"CNT_COD\")"
   ]
  },
  {
   "cell_type": "code",
   "execution_count": null,
   "metadata": {},
   "outputs": [],
   "source": [
    "df_utd_merged.query(\"CNT_COD == '0020179242'\")"
   ]
  },
  {
   "cell_type": "code",
   "execution_count": null,
   "metadata": {},
   "outputs": [],
   "source": [
    "df_utd_merged.print_all()"
   ]
  },
  {
   "cell_type": "markdown",
   "metadata": {},
   "source": [
    "### code"
   ]
  },
  {
   "cell_type": "code",
   "execution_count": null,
   "metadata": {},
   "outputs": [],
   "source": [
    "df_merge = BA_CNT(\n",
    "    nrows=1000,\n",
    "    pre_process=True,\n",
    "    process=False,\n",
    "    post_process=True,\n",
    ")"
   ]
  },
  {
   "cell_type": "code",
   "execution_count": null,
   "metadata": {},
   "outputs": [],
   "source": [
    "df_merge.query(\"CNT_COD == '0010025585'\")"
   ]
  },
  {
   "cell_type": "code",
   "execution_count": null,
   "metadata": {},
   "outputs": [],
   "source": [
    "df_rcp = BA_RCP(pickled=True, silent=True)"
   ]
  },
  {
   "cell_type": "code",
   "execution_count": null,
   "metadata": {},
   "outputs": [],
   "source": [
    "df_merge = df_merge.merge(df_rcp.df, lcolumn=\"CNT_COD\", rcolumn=\"RCP_CNT_COD\", how=\"left\", datafactory=True)"
   ]
  },
  {
   "cell_type": "code",
   "execution_count": null,
   "metadata": {},
   "outputs": [],
   "source": [
    "df_merge.query(\"CNT_COD == '0010025585'\")"
   ]
  },
  {
   "cell_type": "code",
   "execution_count": null,
   "metadata": {},
   "outputs": [],
   "source": [
    "del df_rcp"
   ]
  },
  {
   "cell_type": "code",
   "execution_count": null,
   "metadata": {},
   "outputs": [],
   "source": [
    "df_pag = BA_PAG(pickled=True, silent=True)"
   ]
  },
  {
   "cell_type": "code",
   "execution_count": null,
   "metadata": {},
   "outputs": [],
   "source": [
    "df_pag_red = DataFactory(df_pag.df.groupby([\"GPART\", \"PAG_RCP_COD\"]).nth(-1).reset_index())"
   ]
  },
  {
   "cell_type": "code",
   "execution_count": null,
   "metadata": {},
   "outputs": [],
   "source": [
    "df_merge = df_merge.merge(\n",
    "    df_pag_red.df,\n",
    "    lcolumn=\"RCP_COD\",\n",
    "    rcolumn=\"PAG_RCP_COD\",\n",
    "    how=\"left\",\n",
    "    datafactory=True,\n",
    ")"
   ]
  },
  {
   "cell_type": "code",
   "execution_count": null,
   "metadata": {},
   "outputs": [],
   "source": [
    "df_merge.query(\"CNT_COD == '0010025585'\")"
   ]
  },
  {
   "cell_type": "code",
   "execution_count": null,
   "metadata": {},
   "outputs": [],
   "source": [
    "del df_pag, df_pag_red"
   ]
  },
  {
   "cell_type": "code",
   "execution_count": null,
   "metadata": {},
   "outputs": [],
   "source": [
    "df_utd = BA_UTD(pickled=True, silent=True)"
   ]
  },
  {
   "cell_type": "code",
   "execution_count": null,
   "metadata": {},
   "outputs": [],
   "source": [
    "df_merge = df_merge.merge(\n",
    "    df_utd.df,\n",
    "    lcolumn=\"RCP_COD\",\n",
    "    rcolumn=\"UTD_RCP_COD\",\n",
    "    how=\"left\",\n",
    "    datafactory=True,\n",
    ")"
   ]
  },
  {
   "cell_type": "code",
   "execution_count": null,
   "metadata": {},
   "outputs": [],
   "source": [
    "del df_utd"
   ]
  },
  {
   "cell_type": "code",
   "execution_count": null,
   "metadata": {},
   "outputs": [],
   "source": [
    "df_merge.query(\"CNT_COD == '0010025585'\")"
   ]
  },
  {
   "cell_type": "code",
   "execution_count": null,
   "metadata": {},
   "outputs": [],
   "source": [
    "df_ncl = BA_NCL(pickled=True, silent=True)"
   ]
  },
  {
   "cell_type": "code",
   "execution_count": null,
   "metadata": {},
   "outputs": [],
   "source": [
    "df_ncl.df.sort_values([\"NCL_UTD_COD\", \"NCL_DAT_INI\"], ignore_index=True, inplace=True)"
   ]
  },
  {
   "cell_type": "code",
   "execution_count": null,
   "metadata": {},
   "outputs": [],
   "source": [
    "df_ncl_red = DataFactory(df_ncl.df.groupby([\"NCL_UTD_COD\", \"NCL_IMPIANTO\"]).nth(-1).reset_index())"
   ]
  },
  {
   "cell_type": "code",
   "execution_count": null,
   "metadata": {},
   "outputs": [],
   "source": [
    "df_merge = df_merge.merge(\n",
    "    df_ncl_red.df,\n",
    "    lcolumn=\"UTD_COD\",\n",
    "    rcolumn=\"NCL_UTD_COD\",\n",
    "    how=\"left\",\n",
    "    datafactory=True,\n",
    ")"
   ]
  },
  {
   "cell_type": "code",
   "execution_count": null,
   "metadata": {},
   "outputs": [],
   "source": [
    "del df_ncl, df_ncl_red"
   ]
  },
  {
   "cell_type": "code",
   "execution_count": null,
   "metadata": {},
   "outputs": [],
   "source": [
    "df_merge.query(\"CNT_COD == '0010025585'\")"
   ]
  },
  {
   "cell_type": "code",
   "execution_count": null,
   "metadata": {},
   "outputs": [],
   "source": [
    "df_vie = BA_VIE(pickled=True, silent=True)"
   ]
  },
  {
   "cell_type": "code",
   "execution_count": null,
   "metadata": {},
   "outputs": [],
   "source": [
    "df_merge = df_merge.merge(\n",
    "    df_vie.df,\n",
    "    lcolumn=\"CNT_VIA_COD\",\n",
    "    rcolumn=\"VIA_COD_SAP\",\n",
    "    how=\"left\",\n",
    "    datafactory=True,\n",
    ")"
   ]
  },
  {
   "cell_type": "code",
   "execution_count": null,
   "metadata": {},
   "outputs": [],
   "source": [
    "del df_vie"
   ]
  },
  {
   "cell_type": "markdown",
   "metadata": {},
   "source": [
    "## UTN_MERGED"
   ]
  },
  {
   "cell_type": "code",
   "execution_count": null,
   "metadata": {},
   "outputs": [],
   "source": [
    "df_utn_merged = BA_UTN_MERGED(nrows=1000)"
   ]
  },
  {
   "cell_type": "code",
   "execution_count": null,
   "metadata": {},
   "outputs": [],
   "source": [
    "df_utn_merged = BA_UTN_MERGED2(pickled=True)  # , nrows=1000)"
   ]
  },
  {
   "cell_type": "code",
   "execution_count": null,
   "metadata": {},
   "outputs": [],
   "source": [
    "df_utn_merged.save(filename=\"utn_merged\")\n",
    "df_utn_merged.save(filename=\"utn_merged\", ext=\"xlsx\")"
   ]
  },
  {
   "cell_type": "code",
   "execution_count": null,
   "metadata": {},
   "outputs": [],
   "source": [
    "df_utn_merged = DataFactory(\"../../../Shared/Data/AMA_Progetto_Fabbisogni/BonificaAnagrafe/utn_merged.pkl.zip\")"
   ]
  },
  {
   "cell_type": "code",
   "execution_count": null,
   "metadata": {},
   "outputs": [],
   "source": [
    "df_utn_merged.print_counts(\"CNT_COD\")"
   ]
  },
  {
   "cell_type": "code",
   "execution_count": null,
   "metadata": {},
   "outputs": [],
   "source": [
    "df_utn_merged.query(\"CNT_COD == '0020198558'\")"
   ]
  },
  {
   "cell_type": "code",
   "execution_count": null,
   "metadata": {},
   "outputs": [],
   "source": [
    "df_utn_merged.print_all()"
   ]
  }
 ],
 "metadata": {
  "anaconda-cloud": {},
  "kernelspec": {
   "display_name": "Python 3 (ipykernel)",
   "language": "python",
   "name": "python3"
  },
  "language_info": {
   "codemirror_mode": {
    "name": "ipython",
    "version": 3
   },
   "file_extension": ".py",
   "mimetype": "text/x-python",
   "name": "python",
   "nbconvert_exporter": "python",
   "pygments_lexer": "ipython3",
   "version": "3.9.13"
  },
  "toc": {
   "base_numbering": 1,
   "nav_menu": {},
   "number_sections": true,
   "sideBar": true,
   "skip_h1_title": false,
   "title_cell": "Table of Contents",
   "title_sidebar": "Contents",
   "toc_cell": false,
   "toc_position": {
    "height": "calc(100% - 180px)",
    "left": "10px",
    "top": "150px",
    "width": "307.188px"
   },
   "toc_section_display": true,
   "toc_window_display": true
  }
 },
 "nbformat": 4,
 "nbformat_minor": 4
}
