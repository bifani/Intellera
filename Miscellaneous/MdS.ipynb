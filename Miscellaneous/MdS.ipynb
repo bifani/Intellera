{
 "cells": [
  {
   "cell_type": "markdown",
   "metadata": {},
   "source": [
    "# MdS"
   ]
  },
  {
   "cell_type": "code",
   "execution_count": null,
   "metadata": {
    "init_cell": true
   },
   "outputs": [
    {
     "name": "stdout",
     "output_type": "stream",
     "text": [
      "\n",
      "Check Versions\n",
      "\n",
      "Selected Jupyter core packages...\n",
      "IPython          : 8.4.0\n",
      "ipykernel        : 6.15.2\n",
      "ipywidgets       : 7.7.2\n",
      "jupyter_client   : 7.3.4\n",
      "jupyter_core     : 4.11.1\n",
      "jupyter_server   : 1.18.1\n",
      "jupyterlab       : 3.4.3\n",
      "nbclient         : 0.6.7\n",
      "nbconvert        : 7.0.0\n",
      "nbformat         : 5.4.0\n",
      "notebook         : 6.4.12\n",
      "qtconsole        : 5.3.2\n",
      "traitlets        : 5.3.0\n",
      "\n",
      "python           : 3.9.13    \n",
      "pandas           : 1.4.3     \n",
      "numpy            : 1.23.1    \n",
      "sklearn          : 1.1.1     \n",
      "\n",
      "\n",
      "Set Path\n",
      "\n",
      "Name: Analysis\n",
      "Path: /home/bifani/GitHub/Analysis\n",
      "\n",
      "sys.path: 7\n",
      "['/home/bifani/GitHub/Analysis/scripts',\n",
      " '/home/bifani/GitHub/Analysis/notebooks',\n",
      " '/home/bifani/miniconda3/envs/analysis/lib/python39.zip',\n",
      " '/home/bifani/miniconda3/envs/analysis/lib/python3.9',\n",
      " '/home/bifani/miniconda3/envs/analysis/lib/python3.9/lib-dynload',\n",
      " '',\n",
      " '/home/bifani/miniconda3/envs/analysis/lib/python3.9/site-packages']\n",
      "\n",
      "Adding Path to sys.path: 8\n",
      "['/home/bifani/GitHub/Analysis/scripts',\n",
      " '/home/bifani/GitHub/Analysis/notebooks',\n",
      " '/home/bifani/miniconda3/envs/analysis/lib/python39.zip',\n",
      " '/home/bifani/miniconda3/envs/analysis/lib/python3.9',\n",
      " '/home/bifani/miniconda3/envs/analysis/lib/python3.9/lib-dynload',\n",
      " '',\n",
      " '/home/bifani/miniconda3/envs/analysis/lib/python3.9/site-packages',\n",
      " '/home/bifani/GitHub/Analysis']\n",
      "\n",
      "\n",
      "IPYNB\n",
      "\n",
      "%load_ext autoreload\n",
      "%autoreload 2\n",
      "%load_ext nb_black\n",
      "%matplotlib notebook\n",
      "\n"
     ]
    },
    {
     "data": {
      "application/javascript": [
       "\n",
       "            setTimeout(function() {\n",
       "                var nbb_cell_id = 1;\n",
       "                var nbb_unformatted_code = \"%run Init.ipynb\";\n",
       "                var nbb_formatted_code = \"%run Init.ipynb\";\n",
       "                var nbb_cells = Jupyter.notebook.get_cells();\n",
       "                for (var i = 0; i < nbb_cells.length; ++i) {\n",
       "                    if (nbb_cells[i].input_prompt_number == nbb_cell_id) {\n",
       "                        if (nbb_cells[i].get_text() == nbb_unformatted_code) {\n",
       "                             nbb_cells[i].set_text(nbb_formatted_code);\n",
       "                        }\n",
       "                        break;\n",
       "                    }\n",
       "                }\n",
       "            }, 500);\n",
       "            "
      ],
      "text/plain": [
       "<IPython.core.display.Javascript object>"
      ]
     },
     "metadata": {},
     "output_type": "display_data"
    }
   ],
   "source": [
    "%run Init.ipynb"
   ]
  },
  {
   "cell_type": "code",
   "execution_count": null,
   "metadata": {
    "init_cell": true
   },
   "outputs": [
    {
     "data": {
      "application/javascript": [
       "\n",
       "            setTimeout(function() {\n",
       "                var nbb_cell_id = 2;\n",
       "                var nbb_unformatted_code = \"from src.datafactory import DataFactory\";\n",
       "                var nbb_formatted_code = \"from src.datafactory import DataFactory\";\n",
       "                var nbb_cells = Jupyter.notebook.get_cells();\n",
       "                for (var i = 0; i < nbb_cells.length; ++i) {\n",
       "                    if (nbb_cells[i].input_prompt_number == nbb_cell_id) {\n",
       "                        if (nbb_cells[i].get_text() == nbb_unformatted_code) {\n",
       "                             nbb_cells[i].set_text(nbb_formatted_code);\n",
       "                        }\n",
       "                        break;\n",
       "                    }\n",
       "                }\n",
       "            }, 500);\n",
       "            "
      ],
      "text/plain": [
       "<IPython.core.display.Javascript object>"
      ]
     },
     "metadata": {},
     "output_type": "display_data"
    }
   ],
   "source": [
    "from src.datafactory import DataFactory"
   ]
  },
  {
   "cell_type": "markdown",
   "metadata": {},
   "source": [
    "## Functions"
   ]
  },
  {
   "cell_type": "code",
   "execution_count": null,
   "metadata": {
    "init_cell": true
   },
   "outputs": [
    {
     "data": {
      "application/javascript": [
       "\n",
       "            setTimeout(function() {\n",
       "                var nbb_cell_id = 3;\n",
       "                var nbb_unformatted_code = \"def map_age_class(df, column=\\\"classe_eta\\\"):\\n    string_map = {\\n        \\\"<=14\\\": \\\"1\\\",\\n        \\\"15-44\\\": \\\"2\\\",\\n        \\\"45-64\\\": \\\"3\\\",\\n        \\\"65-74\\\": \\\"4\\\",\\n        \\\"75-84\\\": \\\"5\\\",\\n        \\\">=85\\\": \\\"6\\\",\\n    }\\n    for key, value in string_map.items():\\n        df[column] = df[column].str.replace(key, value)\\n    df[column] = df[column].astype(\\\"int64\\\")\\n    return df\\n\\n\\ndef map_class_age(df, column=\\\"classe_eta\\\"):\\n    df[column] = df[column].astype(\\\"object\\\")\\n    string_map = {\\n        \\\"1\\\": \\\"<=14\\\",\\n        \\\"2\\\": \\\"15-44\\\",\\n        \\\"3\\\": \\\"45-64\\\",\\n        \\\"4\\\": \\\"65-74\\\",\\n        \\\"5\\\": \\\"75-84\\\",\\n        \\\"6\\\": \\\">=85\\\",\\n    }\\n    for key, value in string_map.items():\\n        df[column] = df[column].str.replace(key, value)\\n    return df\";\n",
       "                var nbb_formatted_code = \"def map_age_class(df, column=\\\"classe_eta\\\"):\\n    string_map = {\\n        \\\"<=14\\\": \\\"1\\\",\\n        \\\"15-44\\\": \\\"2\\\",\\n        \\\"45-64\\\": \\\"3\\\",\\n        \\\"65-74\\\": \\\"4\\\",\\n        \\\"75-84\\\": \\\"5\\\",\\n        \\\">=85\\\": \\\"6\\\",\\n    }\\n    for key, value in string_map.items():\\n        df[column] = df[column].str.replace(key, value)\\n    df[column] = df[column].astype(\\\"int64\\\")\\n    return df\\n\\n\\ndef map_class_age(df, column=\\\"classe_eta\\\"):\\n    df[column] = df[column].astype(\\\"object\\\")\\n    string_map = {\\n        \\\"1\\\": \\\"<=14\\\",\\n        \\\"2\\\": \\\"15-44\\\",\\n        \\\"3\\\": \\\"45-64\\\",\\n        \\\"4\\\": \\\"65-74\\\",\\n        \\\"5\\\": \\\"75-84\\\",\\n        \\\"6\\\": \\\">=85\\\",\\n    }\\n    for key, value in string_map.items():\\n        df[column] = df[column].str.replace(key, value)\\n    return df\";\n",
       "                var nbb_cells = Jupyter.notebook.get_cells();\n",
       "                for (var i = 0; i < nbb_cells.length; ++i) {\n",
       "                    if (nbb_cells[i].input_prompt_number == nbb_cell_id) {\n",
       "                        if (nbb_cells[i].get_text() == nbb_unformatted_code) {\n",
       "                             nbb_cells[i].set_text(nbb_formatted_code);\n",
       "                        }\n",
       "                        break;\n",
       "                    }\n",
       "                }\n",
       "            }, 500);\n",
       "            "
      ],
      "text/plain": [
       "<IPython.core.display.Javascript object>"
      ]
     },
     "metadata": {},
     "output_type": "display_data"
    }
   ],
   "source": [
    "def map_age_class(df, column=\"classe_eta\"):\n",
    "    string_map = {\n",
    "        \"<=14\": \"1\",\n",
    "        \"15-44\": \"2\",\n",
    "        \"45-64\": \"3\",\n",
    "        \"65-74\": \"4\",\n",
    "        \"75-84\": \"5\",\n",
    "        \">=85\": \"6\",\n",
    "    }\n",
    "    for key, value in string_map.items():\n",
    "        df[column] = df[column].str.replace(key, value)\n",
    "    df[column] = df[column].astype(\"int64\")\n",
    "    return df\n",
    "\n",
    "\n",
    "def map_class_age(df, column=\"classe_eta\"):\n",
    "    df[column] = df[column].astype(\"object\")\n",
    "    string_map = {\n",
    "        \"1\": \"<=14\",\n",
    "        \"2\": \"15-44\",\n",
    "        \"3\": \"45-64\",\n",
    "        \"4\": \"65-74\",\n",
    "        \"5\": \"75-84\",\n",
    "        \"6\": \">=85\",\n",
    "    }\n",
    "    for key, value in string_map.items():\n",
    "        df[column] = df[column].str.replace(key, value)\n",
    "    return df"
   ]
  },
  {
   "cell_type": "markdown",
   "metadata": {},
   "source": [
    "## Inputs"
   ]
  },
  {
   "cell_type": "code",
   "execution_count": null,
   "metadata": {
    "init_cell": true
   },
   "outputs": [
    {
     "name": "stdout",
     "output_type": "stream",
     "text": [
      "scale = 11.6607 +/- 0.0056 (0.05%)\n"
     ]
    },
    {
     "data": {
      "application/javascript": [
       "\n",
       "            setTimeout(function() {\n",
       "                var nbb_cell_id = 4;\n",
       "                var nbb_unformatted_code = \"import math\\n\\nassistiti = 46642919\\nsample = 4000000\\n\\nscale = assistiti / sample\\n\\nscale_e = math.sqrt(1 / scale * (1 - 1 / scale) / assistiti)\\nscale_e = scale_e / (1 / scale) * scale\\n\\nprint(f\\\"scale = {scale:.4f} +/- {scale_e:.4f} ({scale_e/scale:.2%})\\\")\";\n",
       "                var nbb_formatted_code = \"import math\\n\\nassistiti = 46642919\\nsample = 4000000\\n\\nscale = assistiti / sample\\n\\nscale_e = math.sqrt(1 / scale * (1 - 1 / scale) / assistiti)\\nscale_e = scale_e / (1 / scale) * scale\\n\\nprint(f\\\"scale = {scale:.4f} +/- {scale_e:.4f} ({scale_e/scale:.2%})\\\")\";\n",
       "                var nbb_cells = Jupyter.notebook.get_cells();\n",
       "                for (var i = 0; i < nbb_cells.length; ++i) {\n",
       "                    if (nbb_cells[i].input_prompt_number == nbb_cell_id) {\n",
       "                        if (nbb_cells[i].get_text() == nbb_unformatted_code) {\n",
       "                             nbb_cells[i].set_text(nbb_formatted_code);\n",
       "                        }\n",
       "                        break;\n",
       "                    }\n",
       "                }\n",
       "            }, 500);\n",
       "            "
      ],
      "text/plain": [
       "<IPython.core.display.Javascript object>"
      ]
     },
     "metadata": {},
     "output_type": "display_data"
    }
   ],
   "source": [
    "import math\n",
    "\n",
    "assistiti = 46642919\n",
    "sample = 4000000\n",
    "\n",
    "scale = assistiti / sample\n",
    "\n",
    "scale_e = math.sqrt(1 / scale * (1 - 1 / scale) / assistiti)\n",
    "scale_e = scale_e / (1 / scale) * scale\n",
    "\n",
    "print(f\"scale = {scale:.4f} +/- {scale_e:.4f} ({scale_e/scale:.2%})\")"
   ]
  },
  {
   "cell_type": "code",
   "execution_count": null,
   "metadata": {},
   "outputs": [],
   "source": [
    "# s = N / (1 + N * e**2)\n",
    "# sample = assistiti / (1 + assistiti * conf**2)\n",
    "\n",
    "print(f\"conf   = {math.sqrt((assistiti / sample - 1) / assistiti):.5f}\")\n",
    "\n",
    "conf = 0.0005\n",
    "\n",
    "print(f\"sample = {assistiti / (1 + assistiti * conf**2):.0f}\")"
   ]
  },
  {
   "cell_type": "code",
   "execution_count": null,
   "metadata": {
    "init_cell": true
   },
   "outputs": [
    {
     "ename": "FileNotFoundError",
     "evalue": "[Errno 2] No such file or directory: '../../../Shared/Data/popolazione.xlsx'",
     "output_type": "error",
     "traceback": [
      "\u001b[0;31m---------------------------------------------------------------------------\u001b[0m",
      "\u001b[0;31mFileNotFoundError\u001b[0m                         Traceback (most recent call last)",
      "Input \u001b[0;32mIn [5]\u001b[0m, in \u001b[0;36m<cell line: 1>\u001b[0;34m()\u001b[0m\n\u001b[0;32m----> 1\u001b[0m istat \u001b[38;5;241m=\u001b[39m \u001b[43mpd\u001b[49m\u001b[38;5;241;43m.\u001b[39;49m\u001b[43mread_excel\u001b[49m\u001b[43m(\u001b[49m\u001b[38;5;124;43m\"\u001b[39;49m\u001b[38;5;124;43m../../../Shared/Data/popolazione.xlsx\u001b[39;49m\u001b[38;5;124;43m\"\u001b[39;49m\u001b[43m,\u001b[49m\u001b[43m \u001b[49m\u001b[43msheet_name\u001b[49m\u001b[38;5;241;43m=\u001b[39;49m\u001b[38;5;124;43m\"\u001b[39;49m\u001b[38;5;124;43mPopolazione\u001b[39;49m\u001b[38;5;124;43m\"\u001b[39;49m\u001b[43m)\u001b[49m\n\u001b[1;32m      3\u001b[0m istat \u001b[38;5;241m=\u001b[39m istat\u001b[38;5;241m.\u001b[39mrename(columns\u001b[38;5;241m=\u001b[39m{\u001b[38;5;124m\"\u001b[39m\u001b[38;5;124mCLASSE_ETA\u001b[39m\u001b[38;5;124m\"\u001b[39m: \u001b[38;5;124m\"\u001b[39m\u001b[38;5;124mclasse_eta\u001b[39m\u001b[38;5;124m\"\u001b[39m})\n\u001b[1;32m      5\u001b[0m istat\n",
      "File \u001b[0;32m~/miniconda3/envs/analysis/lib/python3.9/site-packages/pandas/util/_decorators.py:311\u001b[0m, in \u001b[0;36mdeprecate_nonkeyword_arguments.<locals>.decorate.<locals>.wrapper\u001b[0;34m(*args, **kwargs)\u001b[0m\n\u001b[1;32m    305\u001b[0m \u001b[38;5;28;01mif\u001b[39;00m \u001b[38;5;28mlen\u001b[39m(args) \u001b[38;5;241m>\u001b[39m num_allow_args:\n\u001b[1;32m    306\u001b[0m     warnings\u001b[38;5;241m.\u001b[39mwarn(\n\u001b[1;32m    307\u001b[0m         msg\u001b[38;5;241m.\u001b[39mformat(arguments\u001b[38;5;241m=\u001b[39marguments),\n\u001b[1;32m    308\u001b[0m         \u001b[38;5;167;01mFutureWarning\u001b[39;00m,\n\u001b[1;32m    309\u001b[0m         stacklevel\u001b[38;5;241m=\u001b[39mstacklevel,\n\u001b[1;32m    310\u001b[0m     )\n\u001b[0;32m--> 311\u001b[0m \u001b[38;5;28;01mreturn\u001b[39;00m \u001b[43mfunc\u001b[49m\u001b[43m(\u001b[49m\u001b[38;5;241;43m*\u001b[39;49m\u001b[43margs\u001b[49m\u001b[43m,\u001b[49m\u001b[43m \u001b[49m\u001b[38;5;241;43m*\u001b[39;49m\u001b[38;5;241;43m*\u001b[39;49m\u001b[43mkwargs\u001b[49m\u001b[43m)\u001b[49m\n",
      "File \u001b[0;32m~/miniconda3/envs/analysis/lib/python3.9/site-packages/pandas/io/excel/_base.py:457\u001b[0m, in \u001b[0;36mread_excel\u001b[0;34m(io, sheet_name, header, names, index_col, usecols, squeeze, dtype, engine, converters, true_values, false_values, skiprows, nrows, na_values, keep_default_na, na_filter, verbose, parse_dates, date_parser, thousands, decimal, comment, skipfooter, convert_float, mangle_dupe_cols, storage_options)\u001b[0m\n\u001b[1;32m    455\u001b[0m \u001b[38;5;28;01mif\u001b[39;00m \u001b[38;5;129;01mnot\u001b[39;00m \u001b[38;5;28misinstance\u001b[39m(io, ExcelFile):\n\u001b[1;32m    456\u001b[0m     should_close \u001b[38;5;241m=\u001b[39m \u001b[38;5;28;01mTrue\u001b[39;00m\n\u001b[0;32m--> 457\u001b[0m     io \u001b[38;5;241m=\u001b[39m \u001b[43mExcelFile\u001b[49m\u001b[43m(\u001b[49m\u001b[43mio\u001b[49m\u001b[43m,\u001b[49m\u001b[43m \u001b[49m\u001b[43mstorage_options\u001b[49m\u001b[38;5;241;43m=\u001b[39;49m\u001b[43mstorage_options\u001b[49m\u001b[43m,\u001b[49m\u001b[43m \u001b[49m\u001b[43mengine\u001b[49m\u001b[38;5;241;43m=\u001b[39;49m\u001b[43mengine\u001b[49m\u001b[43m)\u001b[49m\n\u001b[1;32m    458\u001b[0m \u001b[38;5;28;01melif\u001b[39;00m engine \u001b[38;5;129;01mand\u001b[39;00m engine \u001b[38;5;241m!=\u001b[39m io\u001b[38;5;241m.\u001b[39mengine:\n\u001b[1;32m    459\u001b[0m     \u001b[38;5;28;01mraise\u001b[39;00m \u001b[38;5;167;01mValueError\u001b[39;00m(\n\u001b[1;32m    460\u001b[0m         \u001b[38;5;124m\"\u001b[39m\u001b[38;5;124mEngine should not be specified when passing \u001b[39m\u001b[38;5;124m\"\u001b[39m\n\u001b[1;32m    461\u001b[0m         \u001b[38;5;124m\"\u001b[39m\u001b[38;5;124man ExcelFile - ExcelFile already has the engine set\u001b[39m\u001b[38;5;124m\"\u001b[39m\n\u001b[1;32m    462\u001b[0m     )\n",
      "File \u001b[0;32m~/miniconda3/envs/analysis/lib/python3.9/site-packages/pandas/io/excel/_base.py:1376\u001b[0m, in \u001b[0;36mExcelFile.__init__\u001b[0;34m(self, path_or_buffer, engine, storage_options)\u001b[0m\n\u001b[1;32m   1374\u001b[0m     ext \u001b[38;5;241m=\u001b[39m \u001b[38;5;124m\"\u001b[39m\u001b[38;5;124mxls\u001b[39m\u001b[38;5;124m\"\u001b[39m\n\u001b[1;32m   1375\u001b[0m \u001b[38;5;28;01melse\u001b[39;00m:\n\u001b[0;32m-> 1376\u001b[0m     ext \u001b[38;5;241m=\u001b[39m \u001b[43minspect_excel_format\u001b[49m\u001b[43m(\u001b[49m\n\u001b[1;32m   1377\u001b[0m \u001b[43m        \u001b[49m\u001b[43mcontent_or_path\u001b[49m\u001b[38;5;241;43m=\u001b[39;49m\u001b[43mpath_or_buffer\u001b[49m\u001b[43m,\u001b[49m\u001b[43m \u001b[49m\u001b[43mstorage_options\u001b[49m\u001b[38;5;241;43m=\u001b[39;49m\u001b[43mstorage_options\u001b[49m\n\u001b[1;32m   1378\u001b[0m \u001b[43m    \u001b[49m\u001b[43m)\u001b[49m\n\u001b[1;32m   1379\u001b[0m     \u001b[38;5;28;01mif\u001b[39;00m ext \u001b[38;5;129;01mis\u001b[39;00m \u001b[38;5;28;01mNone\u001b[39;00m:\n\u001b[1;32m   1380\u001b[0m         \u001b[38;5;28;01mraise\u001b[39;00m \u001b[38;5;167;01mValueError\u001b[39;00m(\n\u001b[1;32m   1381\u001b[0m             \u001b[38;5;124m\"\u001b[39m\u001b[38;5;124mExcel file format cannot be determined, you must specify \u001b[39m\u001b[38;5;124m\"\u001b[39m\n\u001b[1;32m   1382\u001b[0m             \u001b[38;5;124m\"\u001b[39m\u001b[38;5;124man engine manually.\u001b[39m\u001b[38;5;124m\"\u001b[39m\n\u001b[1;32m   1383\u001b[0m         )\n",
      "File \u001b[0;32m~/miniconda3/envs/analysis/lib/python3.9/site-packages/pandas/io/excel/_base.py:1250\u001b[0m, in \u001b[0;36minspect_excel_format\u001b[0;34m(content_or_path, storage_options)\u001b[0m\n\u001b[1;32m   1247\u001b[0m \u001b[38;5;28;01mif\u001b[39;00m \u001b[38;5;28misinstance\u001b[39m(content_or_path, \u001b[38;5;28mbytes\u001b[39m):\n\u001b[1;32m   1248\u001b[0m     content_or_path \u001b[38;5;241m=\u001b[39m BytesIO(content_or_path)\n\u001b[0;32m-> 1250\u001b[0m \u001b[38;5;28;01mwith\u001b[39;00m \u001b[43mget_handle\u001b[49m\u001b[43m(\u001b[49m\n\u001b[1;32m   1251\u001b[0m \u001b[43m    \u001b[49m\u001b[43mcontent_or_path\u001b[49m\u001b[43m,\u001b[49m\u001b[43m \u001b[49m\u001b[38;5;124;43m\"\u001b[39;49m\u001b[38;5;124;43mrb\u001b[39;49m\u001b[38;5;124;43m\"\u001b[39;49m\u001b[43m,\u001b[49m\u001b[43m \u001b[49m\u001b[43mstorage_options\u001b[49m\u001b[38;5;241;43m=\u001b[39;49m\u001b[43mstorage_options\u001b[49m\u001b[43m,\u001b[49m\u001b[43m \u001b[49m\u001b[43mis_text\u001b[49m\u001b[38;5;241;43m=\u001b[39;49m\u001b[38;5;28;43;01mFalse\u001b[39;49;00m\n\u001b[1;32m   1252\u001b[0m \u001b[43m\u001b[49m\u001b[43m)\u001b[49m \u001b[38;5;28;01mas\u001b[39;00m handle:\n\u001b[1;32m   1253\u001b[0m     stream \u001b[38;5;241m=\u001b[39m handle\u001b[38;5;241m.\u001b[39mhandle\n\u001b[1;32m   1254\u001b[0m     stream\u001b[38;5;241m.\u001b[39mseek(\u001b[38;5;241m0\u001b[39m)\n",
      "File \u001b[0;32m~/miniconda3/envs/analysis/lib/python3.9/site-packages/pandas/io/common.py:795\u001b[0m, in \u001b[0;36mget_handle\u001b[0;34m(path_or_buf, mode, encoding, compression, memory_map, is_text, errors, storage_options)\u001b[0m\n\u001b[1;32m    786\u001b[0m         handle \u001b[38;5;241m=\u001b[39m \u001b[38;5;28mopen\u001b[39m(\n\u001b[1;32m    787\u001b[0m             handle,\n\u001b[1;32m    788\u001b[0m             ioargs\u001b[38;5;241m.\u001b[39mmode,\n\u001b[0;32m   (...)\u001b[0m\n\u001b[1;32m    791\u001b[0m             newline\u001b[38;5;241m=\u001b[39m\u001b[38;5;124m\"\u001b[39m\u001b[38;5;124m\"\u001b[39m,\n\u001b[1;32m    792\u001b[0m         )\n\u001b[1;32m    793\u001b[0m     \u001b[38;5;28;01melse\u001b[39;00m:\n\u001b[1;32m    794\u001b[0m         \u001b[38;5;66;03m# Binary mode\u001b[39;00m\n\u001b[0;32m--> 795\u001b[0m         handle \u001b[38;5;241m=\u001b[39m \u001b[38;5;28;43mopen\u001b[39;49m\u001b[43m(\u001b[49m\u001b[43mhandle\u001b[49m\u001b[43m,\u001b[49m\u001b[43m \u001b[49m\u001b[43mioargs\u001b[49m\u001b[38;5;241;43m.\u001b[39;49m\u001b[43mmode\u001b[49m\u001b[43m)\u001b[49m\n\u001b[1;32m    796\u001b[0m     handles\u001b[38;5;241m.\u001b[39mappend(handle)\n\u001b[1;32m    798\u001b[0m \u001b[38;5;66;03m# Convert BytesIO or file objects passed with an encoding\u001b[39;00m\n",
      "\u001b[0;31mFileNotFoundError\u001b[0m: [Errno 2] No such file or directory: '../../../Shared/Data/popolazione.xlsx'"
     ]
    },
    {
     "data": {
      "application/javascript": [
       "\n",
       "            setTimeout(function() {\n",
       "                var nbb_cell_id = 5;\n",
       "                var nbb_unformatted_code = \"istat = pd.read_excel(\\\"../../../Shared/Data/popolazione.xlsx\\\", sheet_name=\\\"Popolazione\\\")\\n\\nistat = istat.rename(columns={\\\"CLASSE_ETA\\\": \\\"classe_eta\\\"})\\n\\nistat\";\n",
       "                var nbb_formatted_code = \"istat = pd.read_excel(\\\"../../../Shared/Data/popolazione.xlsx\\\", sheet_name=\\\"Popolazione\\\")\\n\\nistat = istat.rename(columns={\\\"CLASSE_ETA\\\": \\\"classe_eta\\\"})\\n\\nistat\";\n",
       "                var nbb_cells = Jupyter.notebook.get_cells();\n",
       "                for (var i = 0; i < nbb_cells.length; ++i) {\n",
       "                    if (nbb_cells[i].input_prompt_number == nbb_cell_id) {\n",
       "                        if (nbb_cells[i].get_text() == nbb_unformatted_code) {\n",
       "                             nbb_cells[i].set_text(nbb_formatted_code);\n",
       "                        }\n",
       "                        break;\n",
       "                    }\n",
       "                }\n",
       "            }, 500);\n",
       "            "
      ],
      "text/plain": [
       "<IPython.core.display.Javascript object>"
      ]
     },
     "metadata": {},
     "output_type": "display_data"
    }
   ],
   "source": [
    "istat = pd.read_excel(\"../../../Shared/Data/popolazione.xlsx\", sheet_name=\"Popolazione\")\n",
    "\n",
    "istat = istat.rename(columns={\"CLASSE_ETA\": \"classe_eta\"})\n",
    "\n",
    "istat"
   ]
  },
  {
   "cell_type": "code",
   "execution_count": null,
   "metadata": {
    "init_cell": true
   },
   "outputs": [],
   "source": [
    "pop = istat[\"POPOLAZIONE\"].sum()\n",
    "\n",
    "pop2 = lambda x, y: istat.groupby(x)[\"POPOLAZIONE\"].sum().loc[y]\n",
    "\n",
    "pop"
   ]
  },
  {
   "cell_type": "code",
   "execution_count": null,
   "metadata": {},
   "outputs": [],
   "source": [
    "l1 = pd.read_excel(\"../../../Shared/Data/l1_pat_fil.xlsx\")\n",
    "l2 = pd.read_excel(\"../../../Shared/Data/l2_pat_fil.xlsx\")\n",
    "l3 = pd.read_excel(\"../../../Shared/Data/l3_pat_fil.xlsx\")\n",
    "l4 = pd.read_excel(\"../../../Shared/Data/l4_pat_fil.xlsx\")"
   ]
  },
  {
   "cell_type": "code",
   "execution_count": null,
   "metadata": {
    "init_cell": true
   },
   "outputs": [],
   "source": [
    "comb = pd.read_excel(\"../../../Shared/Data/SOGLIA0_COMBINAZIONI_SPEGN_2019_v2.xlsx\")\n",
    "\n",
    "comb = comb.rename(columns={\"CLASSE_ETA\": \"classe_eta\"})\n",
    "\n",
    "comb"
   ]
  },
  {
   "cell_type": "code",
   "execution_count": null,
   "metadata": {
    "init_cell": true
   },
   "outputs": [],
   "source": [
    "pats = list(comb[comb[\"N_PAT\"] == 1].groupby(\"COMBINAZIONE\").sum().index)\n",
    "\n",
    "print(len(pats))\n",
    "\n",
    "areas = [p[:-2] for p in pats]\n",
    "areas = sorted(list(set(areas)))\n",
    "\n",
    "print(len(areas))\n",
    "\n",
    "# 1 Nord-ovest Valle d'Aosta, Liguria, Lombardia, Piemonte\n",
    "# 2 Nord-est Trentino-Alto Adige, Veneto, Friuli-Venezia Giulia, Emilia-Romagna\n",
    "# 3Centro Toscana, Umbria, Marche, Lazio\n",
    "# 4 Sud  Abruzzo, Molise, Campania, Puglia, Basilicata, Calabria\n",
    "# 5 Isole Sicilia, Sardegna\n",
    "\n",
    "regions = sorted(set(list(comb[\"REGIONE\"])))\n",
    "\n",
    "print(len(regions), regions)\n",
    "\n",
    "sessi = sorted(set(list(comb[\"sesso\"])))\n",
    "\n",
    "print(sessi)\n",
    "\n",
    "eta = sorted(set(list(comb[\"classe_eta\"])))\n",
    "\n",
    "print(eta)"
   ]
  },
  {
   "cell_type": "code",
   "execution_count": null,
   "metadata": {},
   "outputs": [],
   "source": [
    "freqf = pd.read_excel(\"../../../Shared/Data/FREQ_FARMA.xlsx\")"
   ]
  },
  {
   "cell_type": "markdown",
   "metadata": {},
   "source": [
    "## Tracciamenti"
   ]
  },
  {
   "cell_type": "code",
   "execution_count": null,
   "metadata": {},
   "outputs": [],
   "source": [
    "print(l1.shape)\n",
    "print(l2.shape)\n",
    "print(l3.shape)\n",
    "print(l4.shape)"
   ]
  },
  {
   "cell_type": "code",
   "execution_count": null,
   "metadata": {},
   "outputs": [],
   "source": [
    "print(pdf1.dtypes)\n",
    "# print(pdf2.dtypes)\n",
    "# print(pdf3.dtypes)"
   ]
  },
  {
   "cell_type": "code",
   "execution_count": null,
   "metadata": {},
   "outputs": [],
   "source": [
    "list(pdf1.columns.values)"
   ]
  },
  {
   "cell_type": "code",
   "execution_count": null,
   "metadata": {},
   "outputs": [],
   "source": [
    "pdf1 = pdf1[\n",
    "    [\n",
    "        \"ID_CLASSIFICAZIONE\",\n",
    "        \"ID_PATOLOGIA\",\n",
    "        \"sesso\",\n",
    "        \"classe_eta\",\n",
    "        \"regione\",\n",
    "        \"num_persone\",\n",
    "    ]\n",
    "]"
   ]
  },
  {
   "cell_type": "code",
   "execution_count": null,
   "metadata": {},
   "outputs": [],
   "source": [
    "pdf1 = pdf1.drop(columns=\"ID_CLASSIFICAZIONE\")\n",
    "pdf2 = pdf2.drop(columns=\"ID_CLASSIFICAZIONE\")\n",
    "pdf3 = pdf3.drop(columns=\"ID_CLASSIFICAZIONE\")\n",
    "pdf4 = pdf4.drop(columns=\"ID_CLASSIFICAZIONE\")"
   ]
  },
  {
   "cell_type": "code",
   "execution_count": null,
   "metadata": {},
   "outputs": [],
   "source": [
    "pdf1 = pdf1.rename(columns={\"num_persone\": \"num_persone_l1\"})\n",
    "pdf2 = pdf2.rename(columns={\"num_persone\": \"num_persone_l2\", \"REGIONE\": \"regione\"})\n",
    "pdf3 = pdf3.rename(columns={\"num_persone\": \"num_persone_l3\", \"REGIONE\": \"regione\"})\n",
    "pdf4 = pdf4.rename(columns={\"num_persone\": \"num_persone_l4\", \"REGIONE\": \"regione\"})"
   ]
  },
  {
   "cell_type": "code",
   "execution_count": null,
   "metadata": {},
   "outputs": [],
   "source": [
    "print(len(pdf1[\"ID_PATOLOGIA\"].unique()))\n",
    "print(len(pdf2[\"ID_PATOLOGIA\"].unique()))\n",
    "print(len(pdf3[\"ID_PATOLOGIA\"].unique()))\n",
    "print(len(pdf4[\"ID_PATOLOGIA\"].unique()))"
   ]
  },
  {
   "cell_type": "code",
   "execution_count": null,
   "metadata": {},
   "outputs": [],
   "source": [
    "print(pdf1[[\"num_persone_l1\"]].sum())\n",
    "print(pdf2[[\"num_persone_l2\"]].sum())\n",
    "print(pdf3[[\"num_persone_l3\"]].sum())\n",
    "print(pdf4[[\"num_persone_l4\"]].sum())"
   ]
  },
  {
   "cell_type": "code",
   "execution_count": null,
   "metadata": {},
   "outputs": [],
   "source": [
    "pdf1"
   ]
  },
  {
   "cell_type": "code",
   "execution_count": null,
   "metadata": {},
   "outputs": [],
   "source": [
    "merged = pdf1.merge(pdf2, on=[\"ID_PATOLOGIA\", \"sesso\", \"classe_eta\", \"regione\"])\n",
    "merged = merged.merge(pdf3, on=[\"ID_PATOLOGIA\", \"sesso\", \"classe_eta\", \"regione\"])\n",
    "merged = merged.merge(pdf4, on=[\"ID_PATOLOGIA\", \"sesso\", \"classe_eta\", \"regione\"])"
   ]
  },
  {
   "cell_type": "code",
   "execution_count": null,
   "metadata": {},
   "outputs": [],
   "source": [
    "merged"
   ]
  },
  {
   "cell_type": "code",
   "execution_count": null,
   "metadata": {},
   "outputs": [],
   "source": [
    "merged[[\"num_persone_l1\", \"num_persone_l2\", \"num_persone_l3\", \"num_persone_l4\"]].sum()"
   ]
  },
  {
   "cell_type": "code",
   "execution_count": null,
   "metadata": {},
   "outputs": [],
   "source": [
    "merged.query(\"num_persone_l1 == num_persone_l2 & num_persone_l2 == num_persone_l3 & num_persone_l3 == num_persone_l4\")"
   ]
  },
  {
   "cell_type": "code",
   "execution_count": null,
   "metadata": {},
   "outputs": [],
   "source": [
    "merged.query(\"num_persone_l1 != num_persone_l2 | num_persone_l1 != num_persone_l3 | num_persone_l2 != num_persone_l3\")"
   ]
  },
  {
   "cell_type": "code",
   "execution_count": null,
   "metadata": {},
   "outputs": [],
   "source": [
    "pat = merged.groupby(\"ID_PATOLOGIA\").sum()\n",
    "pat = pat.drop(columns=[\"classe_eta\", \"regione\"])"
   ]
  },
  {
   "cell_type": "code",
   "execution_count": null,
   "metadata": {},
   "outputs": [],
   "source": [
    "pat"
   ]
  },
  {
   "cell_type": "code",
   "execution_count": null,
   "metadata": {},
   "outputs": [],
   "source": [
    "pat.query(\n",
    "    \"num_persone_l1 != num_persone_l2 | num_persone_l1 != num_persone_l3 | num_persone_l2 != num_persone_l3\"\n",
    ").shape"
   ]
  },
  {
   "cell_type": "code",
   "execution_count": null,
   "metadata": {},
   "outputs": [],
   "source": [
    "pat.loc[[\"DI01\", \"DI02\", \"DI03\", \"DI04\"]]"
   ]
  },
  {
   "cell_type": "code",
   "execution_count": null,
   "metadata": {},
   "outputs": [],
   "source": [
    "pat.loc[[\"DI01\", \"DI02\", \"DI03\", \"DI04\"]].sum()"
   ]
  },
  {
   "cell_type": "markdown",
   "metadata": {},
   "source": [
    "### Prevalenze"
   ]
  },
  {
   "cell_type": "code",
   "execution_count": null,
   "metadata": {},
   "outputs": [],
   "source": [
    "l4"
   ]
  },
  {
   "cell_type": "code",
   "execution_count": null,
   "metadata": {},
   "outputs": [],
   "source": [
    "prev = l4.merge(istat, on=[\"sesso\", \"classe_eta\", \"REGIONE\"])"
   ]
  },
  {
   "cell_type": "code",
   "execution_count": null,
   "metadata": {},
   "outputs": [],
   "source": [
    "prev[\"prev\"] = prev[\"num_persone\"] * scale / prev[\"POPOLAZIONE\"] * 100\n",
    "prev.sort_values(\n",
    "    [\"ID_PATOLOGIA\", \"classe_eta\", \"sesso\", \"REGIONE\"],\n",
    "    ascending=[True, True, True, True],\n",
    ")"
   ]
  },
  {
   "cell_type": "code",
   "execution_count": null,
   "metadata": {},
   "outputs": [],
   "source": [
    "prev2 = prev.groupby([\"ID_PATOLOGIA\"]).sum().reset_index().drop(columns=[\"classe_eta\", \"REGIONE\"])\n",
    "\n",
    "prev2[\"prev\"] = prev2[\"num_persone\"] * scale / prev2[\"POPOLAZIONE\"] * 100\n",
    "prev2"
   ]
  },
  {
   "cell_type": "code",
   "execution_count": null,
   "metadata": {},
   "outputs": [],
   "source": [
    "prev2[prev2[\"ID_PATOLOGIA\"].str.contains(\"DI\")]"
   ]
  },
  {
   "cell_type": "markdown",
   "metadata": {},
   "source": [
    "## Combinazioni"
   ]
  },
  {
   "cell_type": "code",
   "execution_count": null,
   "metadata": {},
   "outputs": [],
   "source": [
    "comb"
   ]
  },
  {
   "cell_type": "code",
   "execution_count": null,
   "metadata": {},
   "outputs": [],
   "source": [
    "comb.groupby(\"N_PAT\").count()"
   ]
  },
  {
   "cell_type": "code",
   "execution_count": null,
   "metadata": {},
   "outputs": [],
   "source": [
    "comb[comb[\"N_PAT\"] == 1]"
   ]
  },
  {
   "cell_type": "code",
   "execution_count": null,
   "metadata": {},
   "outputs": [],
   "source": [
    "print(len(comb[comb[\"N_PAT\"] == 1][\"COMBINAZIONE\"].unique()))\n",
    "sorted(comb[comb[\"N_PAT\"] == 1][\"COMBINAZIONE\"].unique())"
   ]
  },
  {
   "cell_type": "code",
   "execution_count": null,
   "metadata": {},
   "outputs": [],
   "source": [
    "mp = sorted(comb[comb[\"N_PAT\"] == 1][\"COMBINAZIONE\"].unique())"
   ]
  },
  {
   "cell_type": "code",
   "execution_count": null,
   "metadata": {},
   "outputs": [],
   "source": [
    "bp = list(comb[comb[\"N_PAT\"] == 2][\"COMBINAZIONE\"].unique())"
   ]
  },
  {
   "cell_type": "code",
   "execution_count": null,
   "metadata": {},
   "outputs": [],
   "source": [
    "l = [m.split(\"|\") for m in bp]"
   ]
  },
  {
   "cell_type": "code",
   "execution_count": null,
   "metadata": {},
   "outputs": [],
   "source": [
    "flat_list = [item for sublist in l for item in sublist]"
   ]
  },
  {
   "cell_type": "code",
   "execution_count": null,
   "metadata": {},
   "outputs": [],
   "source": [
    "len(set(flat_list))"
   ]
  },
  {
   "cell_type": "code",
   "execution_count": null,
   "metadata": {},
   "outputs": [],
   "source": [
    "bp = set(flat_list)"
   ]
  },
  {
   "cell_type": "code",
   "execution_count": null,
   "metadata": {},
   "outputs": [],
   "source": [
    "len(mp)"
   ]
  },
  {
   "cell_type": "code",
   "execution_count": null,
   "metadata": {},
   "outputs": [],
   "source": [
    "list(set(bp) - set(mp))"
   ]
  },
  {
   "cell_type": "code",
   "execution_count": null,
   "metadata": {},
   "outputs": [],
   "source": [
    "bp = pdf[pdf[\"N_PAT\"] == 2].groupby(\"COMBINAZIONE\").sum()\n",
    "bp"
   ]
  },
  {
   "cell_type": "code",
   "execution_count": null,
   "metadata": {},
   "outputs": [],
   "source": [
    "bp.to_excel(\"../../../Shared/BIPATOLOGICI.xlsx\")"
   ]
  },
  {
   "cell_type": "code",
   "execution_count": null,
   "metadata": {},
   "outputs": [],
   "source": [
    "# q = \"\"\"SELECT COMBINAZIONE\n",
    "#       FROM pdf\n",
    "#       LIMIT 10;\"\"\"\n",
    "# pysqldf(q)"
   ]
  },
  {
   "cell_type": "code",
   "execution_count": null,
   "metadata": {},
   "outputs": [],
   "source": [
    "# pdf[pdf[\"N_PAT\"] == 2][\"COMBINAZIONE\"].value_counts().to_frame()"
   ]
  },
  {
   "cell_type": "code",
   "execution_count": null,
   "metadata": {},
   "outputs": [],
   "source": [
    "# counts = pdf[\"COMBINAZIONE\"].value_counts().to_frame()\n",
    "#\n",
    "counts = pdf[pdf[\"N_PAT\"] == 2][\"COMBINAZIONE\"].value_counts().to_frame()"
   ]
  },
  {
   "cell_type": "code",
   "execution_count": null,
   "metadata": {},
   "outputs": [],
   "source": [
    "counts = counts.reset_index()"
   ]
  },
  {
   "cell_type": "code",
   "execution_count": null,
   "metadata": {},
   "outputs": [],
   "source": [
    "counts[\"PATOLOGIA\"] = counts[\"index\"]"
   ]
  },
  {
   "cell_type": "code",
   "execution_count": null,
   "metadata": {},
   "outputs": [],
   "source": [
    "counts.columns = [\"CODICE\", \"COMBINAZIONE\", \"PATOLOGIA\"]"
   ]
  },
  {
   "cell_type": "code",
   "execution_count": null,
   "metadata": {},
   "outputs": [],
   "source": [
    "counts"
   ]
  },
  {
   "cell_type": "code",
   "execution_count": null,
   "metadata": {},
   "outputs": [],
   "source": [
    "pdf2 = pd.read_excel(\"../../../Shared/Area_patologica.xlsx\")"
   ]
  },
  {
   "cell_type": "code",
   "execution_count": null,
   "metadata": {},
   "outputs": [],
   "source": [
    "pdf2"
   ]
  },
  {
   "cell_type": "code",
   "execution_count": null,
   "metadata": {},
   "outputs": [],
   "source": [
    "string_map = dict(zip(pdf2[\"ID_PATOLOGIA\"], pdf2[\"DESC_PATOLOGIA\"]))\n",
    "# string_map"
   ]
  },
  {
   "cell_type": "code",
   "execution_count": null,
   "metadata": {},
   "outputs": [],
   "source": [
    "for key, value in string_map.items():\n",
    "    counts[\"PATOLOGIA\"] = counts[\"PATOLOGIA\"].str.replace(key, value)"
   ]
  },
  {
   "cell_type": "code",
   "execution_count": null,
   "metadata": {},
   "outputs": [],
   "source": [
    "counts"
   ]
  },
  {
   "cell_type": "code",
   "execution_count": null,
   "metadata": {},
   "outputs": [],
   "source": [
    "counts.to_excel(\"../../../Shared/CONTEGGI_COMBINAZIONI.xlsx\")"
   ]
  },
  {
   "cell_type": "code",
   "execution_count": null,
   "metadata": {},
   "outputs": [],
   "source": [
    "pdf[pdf[\"COMBINAZIONE\"].str.contains(\"DI0\")]"
   ]
  },
  {
   "cell_type": "code",
   "execution_count": null,
   "metadata": {},
   "outputs": [],
   "source": [
    "pdf[pdf[\"COMBINAZIONE\"].str.contains(\"DI0\")][\"FREQ\"].sum()"
   ]
  },
  {
   "cell_type": "code",
   "execution_count": null,
   "metadata": {},
   "outputs": [],
   "source": [
    "pdf3 = pdf\n",
    "pdf3[\"COMBINAZIONE\"] = pdf3[\"COMBINAZIONE\"].str.rstrip(to_strip=\" |\").str.rstrip(to_strip=\"|\")\n",
    "pdf3"
   ]
  },
  {
   "cell_type": "code",
   "execution_count": null,
   "metadata": {},
   "outputs": [],
   "source": [
    "pdf4 = pdf3.groupby([\"COMBINAZIONE\", \"sesso\", \"CLASSE_ETA\", \"REGIONE\"]).sum().reset_index()"
   ]
  },
  {
   "cell_type": "code",
   "execution_count": null,
   "metadata": {},
   "outputs": [],
   "source": [
    "pdf4[pdf4[\"COMBINAZIONE\"].str.contains(\"DI0\")][\"FREQ\"].sum()"
   ]
  },
  {
   "cell_type": "markdown",
   "metadata": {},
   "source": [
    "### Prevalenze"
   ]
  },
  {
   "cell_type": "code",
   "execution_count": null,
   "metadata": {},
   "outputs": [],
   "source": [
    "prev = comb.merge(istat, on=[\"sesso\", \"classe_eta\", \"REGIONE\"])\n",
    "prev"
   ]
  },
  {
   "cell_type": "code",
   "execution_count": null,
   "metadata": {},
   "outputs": [],
   "source": [
    "prev[\"FREQ\"].sum()"
   ]
  },
  {
   "cell_type": "code",
   "execution_count": null,
   "metadata": {},
   "outputs": [],
   "source": [
    "prev[prev[\"COMBINAZIONE\"].str.contains(\"DI\")][\"FREQ\"].sum()"
   ]
  },
  {
   "cell_type": "code",
   "execution_count": null,
   "metadata": {},
   "outputs": [],
   "source": [
    "prev_oh = prev\n",
    "prev_oh = prev_oh.join(prev_oh[\"COMBINAZIONE\"].str.get_dummies(sep=\"|\"))\n",
    "prev_oh = prev_oh.join(prev_oh[\"COMBINAZIONE\"].str.replace(\"\\d+\", \"\").str.get_dummies(sep=\"|\"))\n",
    "prev_oh"
   ]
  },
  {
   "cell_type": "code",
   "execution_count": null,
   "metadata": {},
   "outputs": [],
   "source": [
    "prev_oh[\"FREQ\"].sum() * scale"
   ]
  },
  {
   "cell_type": "code",
   "execution_count": null,
   "metadata": {},
   "outputs": [],
   "source": [
    "p = prev_oh[\"FREQ\"].sum() * scale / pop\n",
    "e = math.sqrt(p * (1 - p) / pop)\n",
    "print(f\"{p:.3%} +/- {e:.3%} ({e/p:.2%})\")"
   ]
  },
  {
   "cell_type": "code",
   "execution_count": null,
   "metadata": {},
   "outputs": [],
   "source": [
    "for i in pats:  # [\"DI01\", \"DI02\", \"DI03\", \"DI04\"]:\n",
    "    n = prev_oh[prev_oh[i] == 1][\"FREQ\"].sum() * scale\n",
    "    p = prev_oh[prev_oh[i] == 1][\"FREQ\"].sum() * scale / pop\n",
    "    e = math.sqrt(p * (1 - p) / pop)\n",
    "    print(f\"{i}: {n:.1f} - {p:.3%} +/- {e:.3%} ({e/p:.2%})\")"
   ]
  },
  {
   "cell_type": "code",
   "execution_count": null,
   "metadata": {},
   "outputs": [],
   "source": [
    "for i in areas:\n",
    "    p = prev_oh[prev_oh[i] == 1][\"FREQ\"].sum() * scale / pop\n",
    "    e = math.sqrt(p * (1 - p) / pop)\n",
    "    print(f\"{i}: {p:.3%} +/- {e:.3%} ({e/p:.2%})\")"
   ]
  },
  {
   "cell_type": "code",
   "execution_count": null,
   "metadata": {},
   "outputs": [],
   "source": [
    "for i in regions:\n",
    "    p = prev_oh[prev_oh[\"REGIONE\"] == i][\"FREQ\"].sum() * scale / pop2(\"REGIONE\", i)\n",
    "    e = math.sqrt(p * (1 - p) / pop2(\"REGIONE\", i))\n",
    "    print(f\"{i}: {p:.2%} +/- {e:.2%} ({e/p:.2%})\")"
   ]
  },
  {
   "cell_type": "code",
   "execution_count": null,
   "metadata": {},
   "outputs": [],
   "source": [
    "for i in sessi:\n",
    "    n = prev_oh[prev_oh[\"sesso\"] == i][\"FREQ\"].sum() * scale\n",
    "    p = prev_oh[prev_oh[\"sesso\"] == i][\"FREQ\"].sum() * scale / pop2(\"sesso\", i)\n",
    "    e = math.sqrt(p * (1 - p) / pop2(\"sesso\", i))\n",
    "    print(f\"{i}: {n:.1f} - {p:.3%} +/- {e:.3%} ({e/p:.2%})\")"
   ]
  },
  {
   "cell_type": "code",
   "execution_count": null,
   "metadata": {},
   "outputs": [],
   "source": [
    "for i in eta:\n",
    "    p = prev_oh[prev_oh[\"classe_eta\"] == i][\"FREQ\"].sum() * scale / pop2(\"classe_eta\", i)\n",
    "    e = math.sqrt(p * (1 - p) / pop2(\"classe_eta\", i))\n",
    "    print(f\"{i}: {p:.3%} +/- {e:.3%} ({e/p:.2%})\")"
   ]
  },
  {
   "cell_type": "code",
   "execution_count": null,
   "metadata": {},
   "outputs": [],
   "source": []
  },
  {
   "cell_type": "code",
   "execution_count": null,
   "metadata": {},
   "outputs": [],
   "source": [
    "ddff = prev_oh[\"COMBINAZIONE\"].str.get_dummies(sep=\"|\")"
   ]
  },
  {
   "cell_type": "code",
   "execution_count": null,
   "metadata": {},
   "outputs": [],
   "source": [
    "ddff"
   ]
  },
  {
   "cell_type": "code",
   "execution_count": null,
   "metadata": {},
   "outputs": [],
   "source": [
    "s = pd.Series()\n",
    "\n",
    "index = 0\n",
    "for c in ddff.columns:\n",
    "    ddff[c]\n",
    "    dd = ddff[c].astype(\"string\").str.replace(\"1\", c)\n",
    "    cc = dd[dd != \"0\"]\n",
    "    print(c, len(cc))\n",
    "    s = s.append(cc)\n",
    "    index = index + 1\n",
    "#     if index == 3:\n",
    "#         break\n",
    "\n",
    "# s"
   ]
  },
  {
   "cell_type": "code",
   "execution_count": null,
   "metadata": {},
   "outputs": [],
   "source": [
    "t = s.to_frame()"
   ]
  },
  {
   "cell_type": "code",
   "execution_count": null,
   "metadata": {},
   "outputs": [],
   "source": [
    "t"
   ]
  },
  {
   "cell_type": "code",
   "execution_count": null,
   "metadata": {},
   "outputs": [],
   "source": [
    "t[0].unique()"
   ]
  },
  {
   "cell_type": "code",
   "execution_count": null,
   "metadata": {},
   "outputs": [],
   "source": [
    "t.to_csv(\"../../../Shared/index.csv\")"
   ]
  },
  {
   "cell_type": "markdown",
   "metadata": {},
   "source": [
    "## Frequenze"
   ]
  },
  {
   "cell_type": "code",
   "execution_count": null,
   "metadata": {},
   "outputs": [],
   "source": [
    "freqf"
   ]
  },
  {
   "cell_type": "code",
   "execution_count": null,
   "metadata": {},
   "outputs": [],
   "source": [
    "with pd.option_context(\"display.max_rows\", 10000):\n",
    "    display(\n",
    "        pdf.pivot_table(\n",
    "            index=\"DESC_AREA_PATOLOGICA\",\n",
    "            columns=\"id_atc\",\n",
    "            values=\"freq\",\n",
    "            aggfunc=\"sum\",\n",
    "        ).stack()\n",
    "        # .sort_values(ascending=False)\n",
    "        # .sort_index()\n",
    "    )"
   ]
  },
  {
   "cell_type": "code",
   "execution_count": null,
   "metadata": {},
   "outputs": [],
   "source": [
    "df = pdf.pivot_table(\n",
    "    index=[\"DESC_AREA_PATOLOGICA\", \"DESC_PATOLOGIA\"],\n",
    "    columns=\"id_atc\",\n",
    "    values=\"freq\",\n",
    "    aggfunc=\"sum\",\n",
    ").stack()\n",
    "df"
   ]
  },
  {
   "cell_type": "code",
   "execution_count": null,
   "metadata": {},
   "outputs": [],
   "source": [
    "with pd.option_context(\"display.max_rows\", 10000):\n",
    "    display(\n",
    "        df.reset_index()\n",
    "        .rename(columns={0: \"freq\"})\n",
    "        .sort_values(\n",
    "            [\"DESC_AREA_PATOLOGICA\", \"DESC_PATOLOGIA\", \"freq\"],\n",
    "            ascending=[True, True, False],\n",
    "        )\n",
    "        .set_index([\"DESC_AREA_PATOLOGICA\", \"DESC_PATOLOGIA\", \"id_atc\"])\n",
    "        .groupby(level=1)\n",
    "        .head(3)\n",
    "    )"
   ]
  },
  {
   "cell_type": "code",
   "execution_count": null,
   "metadata": {},
   "outputs": [],
   "source": [
    "def pivot(\n",
    "    filename,\n",
    "    index=[\"DESC_AREA_PATOLOGICA\", \"DESC_PATOLOGIA\"],\n",
    "    columns=\"id_atc\",\n",
    "    values=\"freq\",\n",
    "    aggfunc=\"sum\",\n",
    "    head=3,\n",
    "):\n",
    "    import copy\n",
    "\n",
    "    pdf = pd.read_excel(filename)\n",
    "    display(pdf.head(5))\n",
    "    df = pdf.pivot_table(\n",
    "        index=index,\n",
    "        columns=columns,\n",
    "        values=values,\n",
    "        aggfunc=aggfunc,\n",
    "    ).stack()\n",
    "    l1 = copy.deepcopy(index)\n",
    "    l1.append(values)\n",
    "    l2 = copy.deepcopy(index)\n",
    "    l2.append(columns)\n",
    "    with pd.option_context(\"display.max_rows\", 10000):\n",
    "        display(\n",
    "            df.reset_index()\n",
    "            .rename(columns={0: values})\n",
    "            .sort_values(l1, ascending=[True, True, False])\n",
    "            .set_index(l2)\n",
    "            .groupby(level=1)\n",
    "            .head(head)\n",
    "        )"
   ]
  },
  {
   "cell_type": "code",
   "execution_count": null,
   "metadata": {},
   "outputs": [],
   "source": [
    "pivot(filename=\"../../../Shared/FREQ_AMB.xlsx\", columns=\"ID_PRESTAZIONE\")"
   ]
  },
  {
   "cell_type": "code",
   "execution_count": null,
   "metadata": {},
   "outputs": [],
   "source": [
    "pivot(filename=\"../../../Shared/FREQ_FARMA.xlsx\", columns=\"id_atc\")"
   ]
  },
  {
   "cell_type": "code",
   "execution_count": null,
   "metadata": {},
   "outputs": [],
   "source": [
    "pivot(filename=\"../../../Shared/FREQ_SDO.xlsx\", columns=\"id_drg\")"
   ]
  },
  {
   "cell_type": "code",
   "execution_count": null,
   "metadata": {},
   "outputs": [],
   "source": []
  }
 ],
 "metadata": {
  "anaconda-cloud": {},
  "kernelspec": {
   "display_name": "Python 3 (ipykernel)",
   "language": "python",
   "name": "python3"
  },
  "language_info": {
   "codemirror_mode": {
    "name": "ipython",
    "version": 3
   },
   "file_extension": ".py",
   "mimetype": "text/x-python",
   "name": "python",
   "nbconvert_exporter": "python",
   "pygments_lexer": "ipython3",
   "version": "3.9.13"
  },
  "toc": {
   "base_numbering": 1,
   "nav_menu": {},
   "number_sections": true,
   "sideBar": true,
   "skip_h1_title": false,
   "title_cell": "Table of Contents",
   "title_sidebar": "Contents",
   "toc_cell": false,
   "toc_position": {
    "height": "calc(100% - 180px)",
    "left": "10px",
    "top": "150px",
    "width": "307.188px"
   },
   "toc_section_display": true,
   "toc_window_display": true
  }
 },
 "nbformat": 4,
 "nbformat_minor": 1
}
