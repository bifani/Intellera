{
 "cells": [
  {
   "cell_type": "markdown",
   "metadata": {},
   "source": [
    "# PA\n",
    "\n",
    "https://dati-noipa.mef.gov.it/cl/web/open-data/dataset"
   ]
  },
  {
   "cell_type": "markdown",
   "metadata": {},
   "source": [
    "# Init"
   ]
  },
  {
   "cell_type": "code",
   "execution_count": null,
   "metadata": {
    "init_cell": true
   },
   "outputs": [
    {
     "name": "stdout",
     "output_type": "stream",
     "text": [
      "\n",
      "Check Versions\n",
      "\n",
      "Selected Jupyter core packages...\n",
      "IPython          : 8.6.0\n",
      "ipykernel        : 6.17.0\n",
      "ipywidgets       : 7.6.5\n",
      "jupyter_client   : 7.4.4\n",
      "jupyter_core     : 4.11.2\n",
      "jupyter_server   : 1.23.0\n",
      "jupyterlab       : 3.5.0\n",
      "nbclient         : 0.7.0\n",
      "nbconvert        : 7.2.3\n",
      "nbformat         : 5.7.0\n",
      "notebook         : 6.5.2\n",
      "qtconsole        : 5.4.0\n",
      "traitlets        : 5.5.0\n",
      "\n",
      "python           : 3.9.13    \n",
      "pandas           : 1.5.1     \n",
      "numpy            : 1.22.4    \n",
      "sklearn          : 1.1.3     \n",
      "\n",
      "\n",
      "Set Path\n",
      "\n",
      "Name: Analysis\n",
      "Path: /home/bifani/GitHub/Analysis\n",
      "\n",
      "sys.path: 7\n",
      "['/home/bifani/GitHub/Analysis/scripts',\n",
      " '/home/bifani/GitHub/Analysis/notebooks',\n",
      " '/home/bifani/miniconda3/envs/ama/lib/python39.zip',\n",
      " '/home/bifani/miniconda3/envs/ama/lib/python3.9',\n",
      " '/home/bifani/miniconda3/envs/ama/lib/python3.9/lib-dynload',\n",
      " '',\n",
      " '/home/bifani/miniconda3/envs/ama/lib/python3.9/site-packages']\n",
      "\n",
      "Adding Path to sys.path: 8\n",
      "['/home/bifani/GitHub/Analysis/scripts',\n",
      " '/home/bifani/GitHub/Analysis/notebooks',\n",
      " '/home/bifani/miniconda3/envs/ama/lib/python39.zip',\n",
      " '/home/bifani/miniconda3/envs/ama/lib/python3.9',\n",
      " '/home/bifani/miniconda3/envs/ama/lib/python3.9/lib-dynload',\n",
      " '',\n",
      " '/home/bifani/miniconda3/envs/ama/lib/python3.9/site-packages',\n",
      " '/home/bifani/GitHub/Analysis']\n",
      "\n",
      "\n",
      "IPYNB\n",
      "\n",
      "%load_ext autoreload\n",
      "%autoreload 2\n",
      "%load_ext nb_black\n",
      "%matplotlib notebook\n",
      "\n"
     ]
    },
    {
     "data": {
      "application/javascript": [
       "\n",
       "            setTimeout(function() {\n",
       "                var nbb_cell_id = 1;\n",
       "                var nbb_unformatted_code = \"%run Init.ipynb\";\n",
       "                var nbb_formatted_code = \"%run Init.ipynb\";\n",
       "                var nbb_cells = Jupyter.notebook.get_cells();\n",
       "                for (var i = 0; i < nbb_cells.length; ++i) {\n",
       "                    if (nbb_cells[i].input_prompt_number == nbb_cell_id) {\n",
       "                        if (nbb_cells[i].get_text() == nbb_unformatted_code) {\n",
       "                             nbb_cells[i].set_text(nbb_formatted_code);\n",
       "                        }\n",
       "                        break;\n",
       "                    }\n",
       "                }\n",
       "            }, 500);\n",
       "            "
      ],
      "text/plain": [
       "<IPython.core.display.Javascript object>"
      ]
     },
     "metadata": {},
     "output_type": "display_data"
    }
   ],
   "source": [
    "%run Init.ipynb"
   ]
  },
  {
   "cell_type": "code",
   "execution_count": null,
   "metadata": {
    "init_cell": true
   },
   "outputs": [
    {
     "name": "stdout",
     "output_type": "stream",
     "text": [
      "Collecting sparql-dataframe\n",
      "  Using cached sparql_dataframe-0.4-py3-none-any.whl (3.5 kB)\n",
      "Collecting SPARQLWrapper>=1.8.1\n",
      "  Using cached SPARQLWrapper-2.0.0-py3-none-any.whl (28 kB)\n",
      "Requirement already satisfied: pandas>=0.22.0 in /home/bifani/miniconda3/envs/ama/lib/python3.9/site-packages (from sparql-dataframe) (1.5.1)\n",
      "Requirement already satisfied: python-dateutil>=2.8.1 in /home/bifani/miniconda3/envs/ama/lib/python3.9/site-packages (from pandas>=0.22.0->sparql-dataframe) (2.8.2)\n",
      "Requirement already satisfied: pytz>=2020.1 in /home/bifani/miniconda3/envs/ama/lib/python3.9/site-packages (from pandas>=0.22.0->sparql-dataframe) (2022.6)\n",
      "Requirement already satisfied: numpy>=1.20.3 in /home/bifani/miniconda3/envs/ama/lib/python3.9/site-packages (from pandas>=0.22.0->sparql-dataframe) (1.22.4)\n",
      "Collecting rdflib>=6.1.1\n",
      "  Using cached rdflib-6.2.0-py3-none-any.whl (500 kB)\n",
      "Requirement already satisfied: six>=1.5 in /home/bifani/miniconda3/envs/ama/lib/python3.9/site-packages (from python-dateutil>=2.8.1->pandas>=0.22.0->sparql-dataframe) (1.16.0)\n",
      "Requirement already satisfied: setuptools in /home/bifani/miniconda3/envs/ama/lib/python3.9/site-packages (from rdflib>=6.1.1->SPARQLWrapper>=1.8.1->sparql-dataframe) (65.5.1)\n",
      "Collecting isodate\n",
      "  Using cached isodate-0.6.1-py2.py3-none-any.whl (41 kB)\n",
      "Requirement already satisfied: pyparsing in /home/bifani/miniconda3/envs/ama/lib/python3.9/site-packages (from rdflib>=6.1.1->SPARQLWrapper>=1.8.1->sparql-dataframe) (3.0.9)\n",
      "Installing collected packages: isodate, rdflib, SPARQLWrapper, sparql-dataframe\n",
      "Successfully installed SPARQLWrapper-2.0.0 isodate-0.6.1 rdflib-6.2.0 sparql-dataframe-0.4\n"
     ]
    },
    {
     "data": {
      "application/javascript": [
       "\n",
       "            setTimeout(function() {\n",
       "                var nbb_cell_id = 2;\n",
       "                var nbb_unformatted_code = \"!pip install sparql-dataframe\";\n",
       "                var nbb_formatted_code = \"!pip install sparql-dataframe\";\n",
       "                var nbb_cells = Jupyter.notebook.get_cells();\n",
       "                for (var i = 0; i < nbb_cells.length; ++i) {\n",
       "                    if (nbb_cells[i].input_prompt_number == nbb_cell_id) {\n",
       "                        if (nbb_cells[i].get_text() == nbb_unformatted_code) {\n",
       "                             nbb_cells[i].set_text(nbb_formatted_code);\n",
       "                        }\n",
       "                        break;\n",
       "                    }\n",
       "                }\n",
       "            }, 500);\n",
       "            "
      ],
      "text/plain": [
       "<IPython.core.display.Javascript object>"
      ]
     },
     "metadata": {},
     "output_type": "display_data"
    }
   ],
   "source": [
    "!pip install sparql-dataframe"
   ]
  },
  {
   "cell_type": "code",
   "execution_count": null,
   "metadata": {
    "init_cell": true
   },
   "outputs": [
    {
     "ename": "ModuleNotFoundError",
     "evalue": "No module named 'pandasql'",
     "output_type": "error",
     "traceback": [
      "\u001b[0;31m---------------------------------------------------------------------------\u001b[0m",
      "\u001b[0;31mModuleNotFoundError\u001b[0m                       Traceback (most recent call last)",
      "Cell \u001b[0;32mIn [3], line 1\u001b[0m\n\u001b[0;32m----> 1\u001b[0m \u001b[38;5;28;01mfrom\u001b[39;00m \u001b[38;5;21;01msrc\u001b[39;00m\u001b[38;5;21;01m.\u001b[39;00m\u001b[38;5;21;01mdatafactory\u001b[39;00m \u001b[38;5;28;01mimport\u001b[39;00m DataFactory\n",
      "File \u001b[0;32m~/GitHub/Analysis/src/__init__.py:1\u001b[0m\n\u001b[0;32m----> 1\u001b[0m \u001b[38;5;28;01mfrom\u001b[39;00m \u001b[38;5;21;01m.\u001b[39;00m\u001b[38;5;21;01mdatafactory\u001b[39;00m \u001b[38;5;28;01mimport\u001b[39;00m \u001b[38;5;241m*\u001b[39m\n\u001b[1;32m      2\u001b[0m \u001b[38;5;28;01mfrom\u001b[39;00m \u001b[38;5;21;01m.\u001b[39;00m\u001b[38;5;21;01mmodelfactory\u001b[39;00m \u001b[38;5;28;01mimport\u001b[39;00m \u001b[38;5;241m*\u001b[39m\n\u001b[1;32m      3\u001b[0m \u001b[38;5;28;01mfrom\u001b[39;00m \u001b[38;5;21;01m.\u001b[39;00m\u001b[38;5;21;01mstatsfactory\u001b[39;00m \u001b[38;5;28;01mimport\u001b[39;00m \u001b[38;5;241m*\u001b[39m\n",
      "File \u001b[0;32m~/GitHub/Analysis/src/datafactory.py:8\u001b[0m\n\u001b[1;32m      6\u001b[0m \u001b[38;5;28;01mimport\u001b[39;00m \u001b[38;5;21;01mnumpy\u001b[39;00m \u001b[38;5;28;01mas\u001b[39;00m \u001b[38;5;21;01mnp\u001b[39;00m\n\u001b[1;32m      7\u001b[0m \u001b[38;5;28;01mimport\u001b[39;00m \u001b[38;5;21;01mpandas\u001b[39;00m \u001b[38;5;28;01mas\u001b[39;00m \u001b[38;5;21;01mpd\u001b[39;00m\n\u001b[0;32m----> 8\u001b[0m \u001b[38;5;28;01mfrom\u001b[39;00m \u001b[38;5;21;01mpandasql\u001b[39;00m \u001b[38;5;28;01mimport\u001b[39;00m sqldf\n\u001b[1;32m      9\u001b[0m \u001b[38;5;28;01mimport\u001b[39;00m \u001b[38;5;21;01msidetable\u001b[39;00m\n\u001b[1;32m     10\u001b[0m \u001b[38;5;28;01mimport\u001b[39;00m \u001b[38;5;21;01mmatplotlib\u001b[39;00m\u001b[38;5;21;01m.\u001b[39;00m\u001b[38;5;21;01mpyplot\u001b[39;00m \u001b[38;5;28;01mas\u001b[39;00m \u001b[38;5;21;01mplt\u001b[39;00m\n",
      "\u001b[0;31mModuleNotFoundError\u001b[0m: No module named 'pandasql'"
     ]
    },
    {
     "data": {
      "application/javascript": [
       "\n",
       "            setTimeout(function() {\n",
       "                var nbb_cell_id = 3;\n",
       "                var nbb_unformatted_code = \"from src.datafactory import DataFactory\";\n",
       "                var nbb_formatted_code = \"from src.datafactory import DataFactory\";\n",
       "                var nbb_cells = Jupyter.notebook.get_cells();\n",
       "                for (var i = 0; i < nbb_cells.length; ++i) {\n",
       "                    if (nbb_cells[i].input_prompt_number == nbb_cell_id) {\n",
       "                        if (nbb_cells[i].get_text() == nbb_unformatted_code) {\n",
       "                             nbb_cells[i].set_text(nbb_formatted_code);\n",
       "                        }\n",
       "                        break;\n",
       "                    }\n",
       "                }\n",
       "            }, 500);\n",
       "            "
      ],
      "text/plain": [
       "<IPython.core.display.Javascript object>"
      ]
     },
     "metadata": {},
     "output_type": "display_data"
    }
   ],
   "source": [
    "from src.datafactory import DataFactory"
   ]
  },
  {
   "cell_type": "code",
   "execution_count": null,
   "metadata": {
    "init_cell": true
   },
   "outputs": [],
   "source": [
    "import matplotlib.pyplot as plt\n",
    "import seaborn as sns\n",
    "\n",
    "import sparql_dataframe"
   ]
  },
  {
   "cell_type": "code",
   "execution_count": null,
   "metadata": {
    "init_cell": true
   },
   "outputs": [],
   "source": [
    "dir_data = \"../data/Intellera/\"\n",
    "dir_save = \"../../../Shared/Data\"\n",
    "\n",
    "date = \"2022-09-01\""
   ]
  },
  {
   "cell_type": "markdown",
   "metadata": {},
   "source": [
    "# Functions"
   ]
  },
  {
   "cell_type": "code",
   "execution_count": null,
   "metadata": {
    "init_cell": true
   },
   "outputs": [],
   "source": [
    "def get_dates(start=\"20180701\", end=\"20221001\"):\n",
    "    dateRange = pd.date_range(start=start, end=end, freq=\"M\")\n",
    "    dates = list(dateRange.strftime(\"%Y%m\"))\n",
    "    return dates"
   ]
  },
  {
   "cell_type": "code",
   "execution_count": null,
   "metadata": {
    "init_cell": true
   },
   "outputs": [],
   "source": [
    "def sparql_query(q):\n",
    "    endpoint = \"https://sparql-noipa.mef.gov.it/sparql/\"\n",
    "\n",
    "    df = sparql_dataframe.get(endpoint, q)\n",
    "    if df.shape[0] == 10000:\n",
    "        print(\"WARNING - number of rows\", df.shape[0])\n",
    "\n",
    "    if \"numero\" in df.columns:\n",
    "        if df[\"numero\"].isnull().sum().sum():\n",
    "            print(\"null\", df[\"numero\"].isnull().sum().sum())\n",
    "        print(\"numero:\", df[\"numero\"].sum())\n",
    "    return df"
   ]
  },
  {
   "cell_type": "code",
   "execution_count": null,
   "metadata": {
    "init_cell": true
   },
   "outputs": [],
   "source": [
    "def sparql_query_time(q, start=\"20180701\", end=\"20221001\", sleep=3):\n",
    "    import time\n",
    "\n",
    "    df = pd.DataFrame()\n",
    "    for d in get_dates(start=start, end=end):\n",
    "        print(\"data:\", d)\n",
    "        qq = q.replace(\"TIME\", d)\n",
    "        try:\n",
    "            time.sleep(sleep)\n",
    "            df_ = sparql_query(qq)\n",
    "            if df.empty:\n",
    "                df = df_\n",
    "            else:\n",
    "                df = pd.concat([df, df_], axis=0, ignore_index=True)\n",
    "        except Exception as e:\n",
    "            print(e)\n",
    "\n",
    "    return df"
   ]
  },
  {
   "cell_type": "code",
   "execution_count": null,
   "metadata": {
    "init_cell": true
   },
   "outputs": [],
   "source": [
    "def set_time(df, col=\"ti\"):\n",
    "    df[col] = pd.to_datetime(df[col], format=\"%Y%m\")\n",
    "    return df"
   ]
  },
  {
   "cell_type": "code",
   "execution_count": null,
   "metadata": {
    "init_cell": true
   },
   "outputs": [],
   "source": [
    "def set_age(df, col_min=\"eta_min\", col_max=\"eta_max\", group=False):\n",
    "    for c in [col_min, col_max]:\n",
    "        df[c].fillna(100, inplace=True)\n",
    "        df[c] = df[c].astype(\"int32\")\n",
    "        df[c] = df[c].astype(\"string\")\n",
    "\n",
    "    df[\"eta\"] = df[col_min] + \"-\" + df[col_max]\n",
    "    df[\"eta\"] = df[\"eta\"].astype(\"object\")\n",
    "    df = df.drop(columns=[col_min, col_max])\n",
    "\n",
    "    if group:\n",
    "        df[\"eta\"] = df[\"eta\"].str.replace(\"25-34\", \"25-44\")\n",
    "        df[\"eta\"] = df[\"eta\"].str.replace(\"35-44\", \"25-44\")\n",
    "        df[\"eta\"] = df[\"eta\"].str.replace(\"45-54\", \"45-64\")\n",
    "        df[\"eta\"] = df[\"eta\"].str.replace(\"55-64\", \"45-64\")\n",
    "\n",
    "    return df"
   ]
  },
  {
   "cell_type": "code",
   "execution_count": null,
   "metadata": {
    "init_cell": true
   },
   "outputs": [],
   "source": [
    "def set_geo(df, col=\"provincia\"):\n",
    "    #     https://www.istat.it/it/archivio/6789\n",
    "    #     dfG = pd.read_excel(\n",
    "    #         dir_data + \"Codici-statistici-e-denominazioni-al-12_08_2022.xls\"\n",
    "    #     )\n",
    "    dfG = pd.read_csv(\n",
    "        dir_data + \"Codici-statistici-e-denominazioni-al-12_08_2022.csv\",\n",
    "        sep=\";\",\n",
    "        encoding=\"latin-1\",\n",
    "    )\n",
    "    cols = [\n",
    "        \"Codice Provincia (Storico)(1)\",\n",
    "        # \"Codice Regione\",\n",
    "        \"Ripartizione geografica\",\n",
    "    ]\n",
    "    dfG = dfG[cols]\n",
    "    dfG = dfG.rename(\n",
    "        columns={\n",
    "            \"Codice Provincia (Storico)(1)\": \"provincia\",\n",
    "            \"Ripartizione geografica\": \"ripartizione\",\n",
    "        }\n",
    "    )\n",
    "    dfG[col] = dfG[col].astype(\"int32\")\n",
    "    dfG = dfG.drop_duplicates()\n",
    "\n",
    "    if df.dtypes[col] == \"O\":\n",
    "        df[col] = df[col].str.replace(\n",
    "            \"https://w3id.org/italia/controlled-vocabulary/territorial-classifications/provinces/\",\n",
    "            \"\",\n",
    "        )\n",
    "    df[col] = df[col].astype(\"int32\")\n",
    "    df = df.merge(dfG, on=col)\n",
    "\n",
    "    return df"
   ]
  },
  {
   "cell_type": "code",
   "execution_count": null,
   "metadata": {},
   "outputs": [],
   "source": [
    "def set_pop(df):\n",
    "    #     http://dati.istat.it/Index.aspx?DataSetCode=DCIS_POPRES1&Lang=it\n",
    "    dfP = pd.read_csv(\n",
    "        dir_data + \"DCIS_POPRES1_03112022120514166.csv\",\n",
    "    )\n",
    "\n",
    "    dfP = dfP[\n",
    "        (dfP[\"ETA1\"] == \"TOTAL\")\n",
    "        #     & (dfP[\"Sesso\"] == \"totale\")\n",
    "        & ((dfP[\"Sesso\"] == \"maschi\") | (dfP[\"Sesso\"] == \"femmine\"))\n",
    "        & (dfP[\"ITTER107\"].str.len() == 3)\n",
    "    ]\n",
    "    cols = [\n",
    "        \"Territorio\",\n",
    "        \"Sesso\",\n",
    "        \"Value\",\n",
    "    ]\n",
    "    dfP = dfP[cols]\n",
    "    dfP = dfP.rename(\n",
    "        columns={\n",
    "            \"Territorio\": \"ripartizione\",\n",
    "            \"Sesso\": \"sesso\",\n",
    "            \"Value\": \"popolazione\",\n",
    "        }\n",
    "    )\n",
    "    dfP[\"sesso\"] = dfP[\"sesso\"].str.replace(\"maschi\", \"M\")\n",
    "    dfP[\"sesso\"] = dfP[\"sesso\"].str.replace(\"femmine\", \"F\")\n",
    "    dfP = dfP.reset_index(drop=True)\n",
    "\n",
    "    df = df.merge(dfP, on=[\"ripartizione\", \"sesso\"])\n",
    "    df[\"numero\"] = df[\"numero\"] / df[\"popolazione\"]\n",
    "    df = df.drop(columns=\"popolazione\")\n",
    "\n",
    "    return df"
   ]
  },
  {
   "cell_type": "code",
   "execution_count": null,
   "metadata": {},
   "outputs": [],
   "source": [
    "def set_strings(df, column):\n",
    "    df[column] = df[column].str.replace(\",\", \"\")\n",
    "    if column != \"qualifica\":\n",
    "        df[column] = df[column].str.replace(\"-\", \"\")\n",
    "    df[column] = df[column].str.replace(\"  \", \" \")\n",
    "    df[column] = df[column].str.upper()\n",
    "    df[column] = df[column].str.lstrip()\n",
    "    df[column] = df[column].str.rstrip()\n",
    "    return df"
   ]
  },
  {
   "cell_type": "code",
   "execution_count": null,
   "metadata": {},
   "outputs": [],
   "source": [
    "def set_comparto(df):\n",
    "    dfCQ = pd.read_excel(\n",
    "        dir_data + \"comparto_qualifiche_con tag.xlsx\",\n",
    "        sheet_name=\"Tabella comparto finale\",\n",
    "    )\n",
    "    dfCQ = dfCQ.rename(columns={\"qualifica_contrattuale\": \"qualifica\"})\n",
    "    dfCQ = dfCQ.drop(columns=[\"NOTE\"])\n",
    "    dfCQ = set_strings(dfCQ, \"comparto\")\n",
    "    dfCQ = set_strings(dfCQ, \"qualifica\")\n",
    "\n",
    "    df = set_strings(df, \"comparto\")\n",
    "    df = set_strings(df, \"qualifica\")\n",
    "\n",
    "    df_ = df.merge(dfCQ, on=[\"comparto\", \"qualifica\"], how=\"inner\")\n",
    "    df_ = df_.drop(columns=[\"comparto\", \"qualifica\"])\n",
    "    df_ = df_.rename(columns={\"comparto_new\": \"comparto\", \"qualifica_new\": \"qualifica\"})\n",
    "    df_ = df_.drop(columns=[\"qualifica\"])\n",
    "    return df_"
   ]
  },
  {
   "cell_type": "code",
   "execution_count": null,
   "metadata": {},
   "outputs": [],
   "source": [
    "def set_livello(df, comb=False):\n",
    "    column1 = \"comparto\"\n",
    "    df = set_strings(df, column1)\n",
    "\n",
    "    if comb:\n",
    "        replace = {\n",
    "            \"AREA DIRIGENZIALE DEL CONSIGLIO DEI MINISTRI\": \"AREA DIRIGENZIALE FUNZIONI CENTRALI\",\n",
    "            \"COMPARTO DEL CONSIGLIO DEI MINISTRI\": \"COMPARTO FUNZIONI CENTRALI\",\n",
    "            \"PERSONALE DELLA MAGISTRATURA\": \"COMPARTO FUNZIONI CENTRALI\",\n",
    "        }\n",
    "        for k, v in replace.items():\n",
    "            df[column1] = df[column1].str.replace(k, v)\n",
    "\n",
    "    column2 = \"livello\"\n",
    "    df[column2] = df[column1]\n",
    "\n",
    "    replace = {\n",
    "        \" DI \": \"\",\n",
    "        \" DELLA \": \"\",\n",
    "        \"AREA DIRIGENZIALE\": \"\",\n",
    "        \"AREA DIRIRENGIALE\": \"\",\n",
    "        \"DIRIGENZA\": \"\",\n",
    "        \"COMPARTO\": \"\",\n",
    "        \"PERSONALE\": \"\",\n",
    "        \"MEDICINA SPECIALISTICA\": \"\",\n",
    "        \"MEDICINA GENERALE\": \"\",\n",
    "    }\n",
    "    for k, v in replace.items():\n",
    "        df[column1] = df[column1].str.replace(k, v)\n",
    "\n",
    "    replace = {\n",
    "        \"DIFESA SICUREZZA E SOCCORSO PUBBLICO\": \"\",\n",
    "        \"ISTRUZIONE E RICERCA\": \"\",\n",
    "        \"FUNZIONI CENTRALI\": \"\",\n",
    "        \"SANITA'\": \"\",\n",
    "        \"FUNZIONI LOCALI\": \"\",\n",
    "        \"PRESIDENZA DEL CONSIGLIO DEI MINISTRI\": \"\",\n",
    "        \"MAGISTRATURA\": \"\",\n",
    "        \"ADDETTO SISTEMAZIONE IDRAULICA FORESTALE E AGRARIA\": \"\",\n",
    "        \"ENTI PUBBLICI ECONOMICI\": \"\",\n",
    "        \"REGIONI AUTONOME\": \"\",\n",
    "        \"COLLABORAZIONE\": \"\",\n",
    "        \"PERSONALE DI\": \"PERSONALE\",\n",
    "        \"PERSONALE DELLA\": \"PERSONALE\",\n",
    "        \"COMPARTO\": \"PERSONALE\",\n",
    "        \"MEDICINA SPECIALISTICA\": \"PERSONALE\",\n",
    "        \"MEDICINA GENERALE\": \"PERSONALE\",\n",
    "        \"AUTORITA' INDIPENDENTI\": \"PERSONALE\",\n",
    "        \"AREA DIRIGENZIALE\": \"DIRIGENZA\",\n",
    "        \"AREA DIRIRENGIALE\": \"DIRIGENZA\",\n",
    "    }\n",
    "    for k, v in replace.items():\n",
    "        df[column2] = df[column2].str.replace(k, v)\n",
    "\n",
    "    df = set_strings(df, column1)\n",
    "    df = set_strings(df, column2)\n",
    "    #     df = df.sort_values(column)\n",
    "    return df"
   ]
  },
  {
   "cell_type": "code",
   "execution_count": null,
   "metadata": {
    "init_cell": true
   },
   "outputs": [],
   "source": [
    "def set_sex(df, col=\"sesso\", col_ext=\"ti\", drop=None, force=False, frac=False):\n",
    "    cols = [col]\n",
    "    if isinstance(col_ext, list):\n",
    "        cols.extend(col_ext)\n",
    "    else:\n",
    "        cols.append(col_ext)\n",
    "\n",
    "    df1 = df.groupby(cols).sum()\n",
    "    df1 = df1.reset_index()\n",
    "    df1 = df1.set_index(col_ext)\n",
    "\n",
    "    dfM = df1[df1[col] == \"M\"]\n",
    "    dfM = dfM.drop(columns=col)\n",
    "    dfM = dfM.rename(columns={\"numero\": \"M\"})\n",
    "\n",
    "    dfF = df1[df1[col] == \"F\"]\n",
    "    dfF = dfF.drop(columns=col)\n",
    "    dfF = dfF.rename(columns={\"numero\": \"F\"})\n",
    "\n",
    "    if force:\n",
    "        for c in [\"eta\", \"ripartizione\", \"provincia\"]:\n",
    "            if c not in col_ext:\n",
    "                if c in dfM.columns:\n",
    "                    dfM = dfM.drop(columns=[c])\n",
    "                if c in dfF.columns:\n",
    "                    dfF = dfF.drop(columns=[c])\n",
    "\n",
    "    df2 = dfM.join(dfF, how=\"inner\")\n",
    "    df2[\"F/M\"] = df2[\"F\"] / df2[\"M\"]\n",
    "    #     df2[\"F+M\"] = df2[\"F\"] + df2[\"M\"]\n",
    "\n",
    "    df2 = df2.reset_index()\n",
    "    if frac:\n",
    "        df2[\"T\"] = df2[\"M\"] + df2[\"F\"]\n",
    "        df2[\"M\"] = df2[\"M\"] / df2[\"T\"]\n",
    "        df2[\"F\"] = df2[\"F\"] / df2[\"T\"]\n",
    "        df2 = df2.drop(columns=[\"T\"])\n",
    "    if drop:\n",
    "        df2 = df2.drop(columns=[\"M\", \"F\"])\n",
    "    df2 = df2.set_index(col_ext).sort_index()\n",
    "\n",
    "    return df2"
   ]
  },
  {
   "cell_type": "code",
   "execution_count": null,
   "metadata": {
    "init_cell": true
   },
   "outputs": [],
   "source": [
    "def set_ral(\n",
    "    df,\n",
    "    col_imp=\"totImponibile\",\n",
    "    col_rit=\"totRitenute\",\n",
    "    col_ced=\"totCedolini\",\n",
    "    cols=[\"sesso\", \"ti\", \"eta\"],\n",
    "    tot=False,\n",
    "    ced=False,\n",
    "):\n",
    "    df[col_ced] = df[col_ced].astype(\"int32\")\n",
    "    df = df.groupby(cols).sum()\n",
    "\n",
    "    df[\"perc\"] = (df[col_imp] - df[col_rit]) / df[col_imp]\n",
    "    df[\"imponibile\"] = df[col_imp] / df[col_ced]\n",
    "    df[\"ritenute\"] = df[col_rit] / df[col_ced]\n",
    "    df[\"numero\"] = df[\"imponibile\"]\n",
    "    if tot:\n",
    "        df[\"numero\"] = df[col_imp]\n",
    "    if ced:\n",
    "        df[\"numero\"] = df[col_ced]\n",
    "    df = df.drop(columns=[col_imp, col_rit, col_ced])\n",
    "    df = df.drop(columns=[\"perc\", \"imponibile\", \"ritenute\"])\n",
    "\n",
    "    return df"
   ]
  },
  {
   "cell_type": "markdown",
   "metadata": {},
   "source": [
    "# Datasets"
   ]
  },
  {
   "cell_type": "markdown",
   "metadata": {},
   "source": [
    "## Amministrati"
   ]
  },
  {
   "cell_type": "code",
   "execution_count": null,
   "metadata": {},
   "outputs": [],
   "source": [
    "q = \"\"\"\n",
    "PREFIX agerange:<https://sparql-noipa.mef.gov.it/resources/AgeRange/>\n",
    "PREFIX geonames:<http://www.geonames.org/ontology#>\n",
    "SELECT ?provincia ?eta_min ?eta_max ?sesso ?ti (sum(?numero) as ?numero )\n",
    "WHERE {\n",
    "?entry a npont:EntryAmministrati .\n",
    "?time npont:temporalID ?ti. FILTER( ?ti=TIME )\n",
    "?entry npont:hasTime ?time .\n",
    "?time npont:temporalID ?ti.\n",
    "?entry npont:howMany ?numero .\n",
    "?entry npont:hasPlace ?p .\n",
    "?p rdfs:label ?comune .\n",
    "?p geonames:locatedIn ?provincia .\n",
    "?entry npont:genderType ?sesso .\n",
    "?entry npont:hasAgeRange ?ar .\n",
    "OPTIONAL{ ?ar npont:minAge ?eta_min . }\n",
    "OPTIONAL{ ?ar npont:maxAge ?eta_max . }\n",
    "}\n",
    "ORDER BY DESC(?amministrati)\n",
    "\"\"\"\n",
    "\n",
    "dfA = sparql_query_time(q, \"20180701\", \"20221001\", sleep=5)\n",
    "# dfA = sparql_query_time(q, \"20220101\", \"20220201\", sleep=5)\n",
    "dfA"
   ]
  },
  {
   "cell_type": "code",
   "execution_count": null,
   "metadata": {},
   "outputs": [],
   "source": [
    "dfA.to_csv(dir_data + \"Amministrati.csv\")"
   ]
  },
  {
   "cell_type": "markdown",
   "metadata": {},
   "source": [
    "## ContrattiGestiti"
   ]
  },
  {
   "cell_type": "code",
   "execution_count": null,
   "metadata": {},
   "outputs": [],
   "source": [
    "q = \"\"\"\n",
    "PREFIX provincia:<http://spcdata.digitpa.gov.it/Provincia/>\n",
    "PREFIX geonames:<http://www.geonames.org/ontology#>\n",
    "SELECT ?comparto ?qualifica ?eta_min ?eta_max ?sesso ?ti SUM(?numero) as ?numero\n",
    "WHERE {\n",
    " ?entry npont:hasTime ?time .\n",
    " ?time npont:temporalID ?ti. FILTER( ?ti=TIME )\n",
    " ?entry a npont:EntryContrattiGestiti .\n",
    " ?entry npont:hasPlace ?uri_locazione .\n",
    " ?entry npont:inEnte ?ente .\n",
    " ?ente rdfs:label ?ente_ .\n",
    " ?entry npont:conCodiceComparto ?c .\n",
    " ?c rdfs:label ?comparto .\n",
    " ?entry npont:conQualificaContrattuale ?c2 .\n",
    " ?c2 rdfs:label ?qualifica .\n",
    " ?entry npont:howMany ?numero .\n",
    " ?entry npont:hasAgeRange ?ar .\n",
    " ?entry npont:genderType ?sesso .\n",
    " OPTIONAL{ ?ar npont:minAge ?eta_min . }\n",
    " OPTIONAL{ ?ar npont:maxAge ?eta_max . }\n",
    "} \n",
    "ORDER BY DESC(?amministrati)\n",
    "\"\"\"\n",
    "\n",
    "dfCG = sparql_query_time(q, \"20180701\", \"20221001\", sleep=5)\n",
    "# dfCG = sparql_query_time(q, \"20220101\", \"20220201\", sleep=5)\n",
    "dfCG"
   ]
  },
  {
   "cell_type": "code",
   "execution_count": null,
   "metadata": {},
   "outputs": [],
   "source": [
    "dfCG.to_csv(dir_data + \"ContrattiGestiti.csv\")"
   ]
  },
  {
   "cell_type": "code",
   "execution_count": null,
   "metadata": {},
   "outputs": [],
   "source": [
    "q = \"\"\"\n",
    "PREFIX provincia:<http://spcdata.digitpa.gov.it/Provincia/>\n",
    "PREFIX geonames:<http://www.geonames.org/ontology#>\n",
    "SELECT ?provincia ?eta_min ?eta_max ?sesso ?ti SUM(?numero) as ?numero\n",
    "WHERE {\n",
    " ?entry npont:hasTime ?time .\n",
    " ?time npont:temporalID ?ti. FILTER( ?ti=TIME )\n",
    " ?entry a npont:EntryContrattiGestiti .\n",
    " ?entry npont:hasPlace ?p .\n",
    " ?p rdfs:label ?comune .\n",
    " ?p geonames:locatedIn ?provincia .\n",
    " ?entry npont:inEnte ?ente .\n",
    " ?ente rdfs:label ?ente_ .\n",
    " ?entry npont:conCodiceComparto ?c .\n",
    " ?c rdfs:label ?comparto .\n",
    " ?entry npont:conQualificaContrattuale ?c2 .\n",
    " ?c2 rdfs:label ?qualifica .\n",
    " ?entry npont:howMany ?numero .\n",
    " ?entry npont:hasAgeRange ?ar .\n",
    " ?entry npont:genderType ?sesso .\n",
    " OPTIONAL{ ?ar npont:minAge ?eta_min . }\n",
    " OPTIONAL{ ?ar npont:maxAge ?eta_max . }\n",
    "} \n",
    "ORDER BY DESC(?amministrati)\n",
    "\"\"\"\n",
    "\n",
    "dfCG_2 = sparql_query_time(q, \"20180701\", \"20221001\", sleep=5)\n",
    "# dfCG_2 = sparql_query_time(q, \"20220101\", \"20220201\", sleep=5)\n",
    "dfCG_2"
   ]
  },
  {
   "cell_type": "code",
   "execution_count": null,
   "metadata": {},
   "outputs": [],
   "source": [
    "dfCG_2.to_csv(dir_data + \"ContrattiGestiti2.csv\")"
   ]
  },
  {
   "cell_type": "markdown",
   "metadata": {},
   "source": [
    "## MotivoAssunzione"
   ]
  },
  {
   "cell_type": "code",
   "execution_count": null,
   "metadata": {},
   "outputs": [],
   "source": [
    "q = \"\"\"\n",
    "PREFIX agerange:<https://sparql-noipa.mef.gov.it/resources/AgeRange/>\n",
    "PREFIX geonames:<http://www.geonames.org/ontology#>\n",
    "SELECT ?motivo_ ?eta_min ?eta_max ?sesso ?ti SUM(?numero) as ?numero\n",
    "WHERE{\n",
    " ?entry npont:hasTime ?time .\n",
    " ?time npont:temporalID ?ti. FILTER( ?ti=TIME )\n",
    " ?entry a npont:EntryMotivoAssunzione .\n",
    " ?entry npont:howMany ?numero .\n",
    " ?entry npont:hasPlace ?uri_provincia .\n",
    " ?uri_provincia rdfs:label ?provincia .\n",
    " ?entry npont:genderType ?sesso .\n",
    " ?entry npont:hasAgeRange ?ar .\n",
    " OPTIONAL{ ?ar npont:minAge ?eta_min . }\n",
    " OPTIONAL{ ?ar npont:maxAge ?eta_max . }\n",
    " ?entry npont:motivoAssunzione ?motivo .\n",
    " ?motivo rdfs:label ?motivo_ . \n",
    "}\n",
    "ORDER BY DESC(?amministrati)\n",
    "\"\"\"\n",
    "\n",
    "dfMA = sparql_query_time(q, \"20180701\", \"20221001\", sleep=5)\n",
    "# dfMA = sparql_query_time(q, \"20220101\", \"20220201\", sleep=5)\n",
    "dfMA"
   ]
  },
  {
   "cell_type": "code",
   "execution_count": null,
   "metadata": {},
   "outputs": [],
   "source": [
    "dfMA.to_csv(dir_data + \"MotivoAssunzione.csv\")"
   ]
  },
  {
   "cell_type": "markdown",
   "metadata": {},
   "source": [
    "## MotivoCessazione"
   ]
  },
  {
   "cell_type": "code",
   "execution_count": null,
   "metadata": {},
   "outputs": [],
   "source": [
    "q = \"\"\"\n",
    "PREFIX agerange:<https://sparql-noipa.mef.gov.it/resources/AgeRange/>\n",
    "PREFIX geonames:<http://www.geonames.org/ontology#>\n",
    "SELECT ?motivo_ ?eta_min ?eta_max ?sesso ?ti SUM(?numero) as ?numero\n",
    "WHERE{\n",
    " ?entry npont:hasTime ?time .\n",
    " ?time npont:temporalID ?ti. FILTER( ?ti=TIME )\n",
    " ?entry a npont:EntryMotivoCessazione .\n",
    " ?entry npont:howMany ?numero .\n",
    " ?entry npont:hasPlace ?uri_provincia .\n",
    " ?uri_provincia rdfs:label ?provincia .\n",
    " ?entry npont:genderType ?sesso .\n",
    " ?entry npont:hasAgeRange ?ar .\n",
    " OPTIONAL{ ?ar npont:minAge ?eta_min . }\n",
    " OPTIONAL{ ?ar npont:maxAge ?eta_max . }\n",
    " ?entry npont:motivoCessazione ?motivo .\n",
    " ?motivo rdfs:label ?motivo_ . \n",
    "}\n",
    "ORDER BY DESC(?amministrati)\n",
    "\"\"\"\n",
    "\n",
    "dfMC = sparql_query_time(q, \"20180701\", \"20221001\", sleep=5)\n",
    "# dfMC = sparql_query_time(q, \"20220101\", \"20220201\", sleep=5)\n",
    "dfMC"
   ]
  },
  {
   "cell_type": "code",
   "execution_count": null,
   "metadata": {},
   "outputs": [],
   "source": [
    "dfMC.to_csv(dir_data + \"MotivoCessazione.csv\")"
   ]
  },
  {
   "cell_type": "markdown",
   "metadata": {},
   "source": [
    "## RitenuteFiscali"
   ]
  },
  {
   "cell_type": "code",
   "execution_count": null,
   "metadata": {},
   "outputs": [],
   "source": [
    "q = \"\"\"\n",
    "#Imponibile e ritenute fiscali per la mensilità corrente degli amministrati afferenti al Ministero dell'Economia e Finanze\n",
    "PREFIX ente:<https://sparql-noipa.mef.gov.it/resources/Ente/>\n",
    "SELECT ?eta_min ?eta_max ?sesso ?ti SUM(?imponibile) as ?totImponibile SUM(?ritenute) as ?totRitenute SUM(?cedolini) as ?totCedolini\n",
    "WHERE{\n",
    " ?entry npont:hasTime ?time .\n",
    " ?time npont:temporalID ?ti. FILTER( ?ti=TIME ) \n",
    " ?entry a npont:EntryCedolinoRitenuteFiscali .\n",
    " ?entry npont:hasPlace ?uri_comune .\n",
    " ?uri_comune rdfs:label ?comune .\n",
    " ?entry npont:inEnte ?ente .\n",
    " ?ente rdfs:label ?ente_ .\n",
    "# ?entry npont:conCodiceComparto ?c .\n",
    "# ?c rdfs:label ?comparto .\n",
    " ?entry npont:imponibileIrpef ?imponibile .\n",
    " ?entry npont:ritenuteIrpef ?ritenute .\n",
    " ?entry npont:howManyCedolini ?cedolini .\n",
    " ?entry npont:hasAgeRange ?ar .\n",
    " ?entry npont:genderType ?sesso .\n",
    " OPTIONAL{ ?ar npont:minAge ?eta_min . }\n",
    " OPTIONAL{ ?ar npont:maxAge ?eta_max . }\n",
    "}\n",
    "ORDER BY DESC(?totRitenute)\n",
    "\"\"\"\n",
    "\n",
    "dfCF = sparql_query_time(q, \"20180701\", \"20221001\", sleep=5)\n",
    "# dfCF = sparql_query_time(q, \"20220101\", \"20220201\", sleep=5)\n",
    "dfCF"
   ]
  },
  {
   "cell_type": "code",
   "execution_count": null,
   "metadata": {},
   "outputs": [],
   "source": [
    "dfCF.to_csv(dir_data + \"RitenuteFiscali.csv\")"
   ]
  },
  {
   "cell_type": "markdown",
   "metadata": {},
   "source": [
    "# Amministrati"
   ]
  },
  {
   "cell_type": "code",
   "execution_count": null,
   "metadata": {},
   "outputs": [],
   "source": [
    "# dfA1 = dfA.copy(deep=True)\n",
    "dfA1 = pd.read_csv(dir_data + \"Amministrati.csv\", index_col=\"Unnamed: 0\")\n",
    "dfA1"
   ]
  },
  {
   "cell_type": "code",
   "execution_count": null,
   "metadata": {},
   "outputs": [],
   "source": [
    "dfA1 = set_time(dfA1)\n",
    "dfA1 = set_age(dfA1)\n",
    "dfA1 = set_geo(dfA1)\n",
    "dfA1"
   ]
  },
  {
   "cell_type": "code",
   "execution_count": null,
   "metadata": {},
   "outputs": [],
   "source": [
    "dfA2 = set_sex(dfA1, col_ext=[\"ti\"], force=True)\n",
    "dfA2"
   ]
  },
  {
   "cell_type": "markdown",
   "metadata": {},
   "source": [
    "## Totali"
   ]
  },
  {
   "cell_type": "code",
   "execution_count": null,
   "metadata": {},
   "outputs": [],
   "source": [
    "dfA2.loc[date].to_frame().T[[\"F\", \"M\"]].reset_index()  # .plot.barh(rot=0)"
   ]
  },
  {
   "cell_type": "code",
   "execution_count": null,
   "metadata": {},
   "outputs": [],
   "source": [
    "# plt.figure()\n",
    "ax = dfA2.loc[date].to_frame().T.reset_index()[[\"F\", \"M\"]].plot.barh(xlim=(0, 1.4e6))\n",
    "\n",
    "# plt.bar_label(ax, labels=[f\"{x}\" for x in ax.datavalues])\n",
    "\n",
    "for container in ax.containers:\n",
    "    #     c = f\"{container.datavalues[0]:,}\".replace(\".0\", \"\")\n",
    "    ax.bar_label(container, fmt=\"  %d\")\n",
    "\n",
    "plt.title(\"Amministrati in PA\")\n",
    "plt.xlabel(\"Numero amministrati\")\n",
    "plt.ylabel(\"\")\n",
    "plt.tight_layout()\n",
    "\n",
    "fig = ax.get_figure()\n",
    "fig.savefig(dir_save + \"totale.jpg\")"
   ]
  },
  {
   "cell_type": "code",
   "execution_count": null,
   "metadata": {},
   "outputs": [],
   "source": [
    "# plt.figure()\n",
    "ax = dfA2.loc[date].to_frame().T.reset_index()[[\"F\", \"M\"]].T.plot.pie(subplots=True, autopct=\"%1.1f%%\")\n",
    "\n",
    "plt.title(\"Amministrati in PA\")\n",
    "# plt.xlabel(\"Numero amministrati\")\n",
    "plt.ylabel(\"\")\n",
    "plt.tight_layout()\n",
    "\n",
    "fig = ax.get_figure()\n",
    "fig.savefig(dir_save + \"totale_pie.jpg\")"
   ]
  },
  {
   "cell_type": "code",
   "execution_count": null,
   "metadata": {},
   "outputs": [],
   "source": [
    "dfA2[[\"F\", \"M\"]].plot(ylim=(0.5e6, 2.5e6))\n",
    "plt.tight_layout()"
   ]
  },
  {
   "cell_type": "code",
   "execution_count": null,
   "metadata": {},
   "outputs": [],
   "source": [
    "dfA2[[\"F/M\"]].plot(ylim=(1, 2))\n",
    "plt.tight_layout()"
   ]
  },
  {
   "cell_type": "markdown",
   "metadata": {},
   "source": [
    "## Età"
   ]
  },
  {
   "cell_type": "code",
   "execution_count": null,
   "metadata": {},
   "outputs": [],
   "source": [
    "dfA3 = set_sex(dfA1, col_ext=[\"ti\", \"eta\"], drop=True, force=True)\n",
    "dfA3"
   ]
  },
  {
   "cell_type": "code",
   "execution_count": null,
   "metadata": {},
   "outputs": [],
   "source": [
    "dfA3.unstack().plot(ylim=(0, 2.5))\n",
    "plt.legend(ncol=3)\n",
    "plt.tight_layout()"
   ]
  },
  {
   "cell_type": "code",
   "execution_count": null,
   "metadata": {},
   "outputs": [],
   "source": [
    "dfA5 = set_sex(dfA1, col_ext=[\"ti\", \"eta\"], force=True)\n",
    "dfA5"
   ]
  },
  {
   "cell_type": "code",
   "execution_count": null,
   "metadata": {},
   "outputs": [],
   "source": [
    "ax = (\n",
    "    dfA5.loc[date][[\"F\", \"M\"]]\n",
    "    .reindex(index=[\"65-100\", \"55-64\", \"45-54\", \"35-44\", \"25-34\", \"18-24\"])\n",
    "    .plot.barh(xlim=(0, 5e5))\n",
    ")\n",
    "\n",
    "for container in ax.containers:\n",
    "    ax.bar_label(container, fmt=\"  %d\")\n",
    "\n",
    "plt.title(\"Amministrati in PA\")\n",
    "plt.xlabel(\"Numero amministrati\")\n",
    "plt.ylabel(\"Fascia di età\")\n",
    "plt.tight_layout()\n",
    "\n",
    "fig = ax.get_figure()\n",
    "fig.savefig(dir_save + \"eta.jpg\")"
   ]
  },
  {
   "cell_type": "code",
   "execution_count": null,
   "metadata": {},
   "outputs": [],
   "source": [
    "for g in [\"F\", \"M\"]:\n",
    "    plt.figure()\n",
    "    fig = dfA5.loc[date][g].plot.pie(figsize=(10, 10), subplots=True, autopct=\"%1.1f%%\")\n",
    "\n",
    "    plt.title(\"Amministrati in PA (\" + g + \")\")\n",
    "    #     plt.xlabel(\"Numero amministrati\")\n",
    "    plt.ylabel(\"\")\n",
    "    plt.tight_layout()\n",
    "\n",
    "    #     fig = ax.get_figure()\n",
    "#     fig.savefig(dir_save + \"eta_\" + g + \".jpg\")"
   ]
  },
  {
   "cell_type": "markdown",
   "metadata": {},
   "source": [
    "## Regione"
   ]
  },
  {
   "cell_type": "code",
   "execution_count": null,
   "metadata": {},
   "outputs": [],
   "source": [
    "dfA6 = set_sex(dfA1, col_ext=[\"ti\", \"ripartizione\"], force=True)\n",
    "dfA6"
   ]
  },
  {
   "cell_type": "code",
   "execution_count": null,
   "metadata": {},
   "outputs": [],
   "source": [
    "dfA6[\"F/M\"].unstack(1).plot(figsize=(8, 8), ylim=(0, 3))\n",
    "plt.tight_layout()"
   ]
  },
  {
   "cell_type": "code",
   "execution_count": null,
   "metadata": {},
   "outputs": [],
   "source": [
    "ax = (\n",
    "    dfA6.loc[date][[\"F\", \"M\"]]\n",
    "    .reindex(index=[\"Nord-ovest\", \"Nord-est\", \"Centro\", \"Sud\", \"Isole\"])\n",
    "    .iloc[::-1]\n",
    "    .plot.barh(figsize=(8, 8), xlim=(0, 4.5e5))\n",
    ")\n",
    "\n",
    "for container in ax.containers:\n",
    "    ax.bar_label(container, fmt=\"  %d\")\n",
    "\n",
    "plt.title(\"Amministrati in PA\")\n",
    "plt.xlabel(\"Numero amministrati\")\n",
    "plt.ylabel(\"Gruppo di regioni\")\n",
    "plt.tight_layout()\n",
    "\n",
    "fig = ax.get_figure()\n",
    "fig.savefig(dir_save + \"regione.jpg\")"
   ]
  },
  {
   "cell_type": "code",
   "execution_count": null,
   "metadata": {},
   "outputs": [],
   "source": [
    "for g in [\"F\", \"M\"]:\n",
    "    plt.figure()\n",
    "    #     fig = dfA5.loc[date][g].plot.pie(\n",
    "    #         figsize=(10, 10), subplots=True, autopct=\"%1.1f%%\"\n",
    "    #     )\n",
    "    fig = dfA6.loc[date][g].plot.pie(figsize=(10, 10), subplots=True, autopct=\"%1.1f%%\")\n",
    "\n",
    "    plt.title(\"Amministrati in PA (\" + g + \")\")\n",
    "    #     plt.xlabel(\"Numero amministrati\")\n",
    "    plt.ylabel(\"\")\n",
    "    plt.tight_layout()\n",
    "\n",
    "    #     fig = ax.get_figure()\n",
    "#     fig.savefig(dir_save + \"eta_\" + g + \".jpg\")"
   ]
  },
  {
   "cell_type": "markdown",
   "metadata": {},
   "source": [
    "### ISTAT"
   ]
  },
  {
   "cell_type": "code",
   "execution_count": null,
   "metadata": {},
   "outputs": [],
   "source": [
    "dfA10 = pd.read_csv(dir_data + \"Amministrati.csv\", index_col=\"Unnamed: 0\")"
   ]
  },
  {
   "cell_type": "code",
   "execution_count": null,
   "metadata": {},
   "outputs": [],
   "source": [
    "dfA10 = set_time(dfA10)\n",
    "dfA10 = set_age(dfA10)\n",
    "dfA10 = set_geo(dfA10)\n",
    "dfA10 = set_pop(dfA10)\n",
    "dfA10"
   ]
  },
  {
   "cell_type": "code",
   "execution_count": null,
   "metadata": {},
   "outputs": [],
   "source": [
    "dfA11 = set_sex(dfA10, col_ext=[\"ti\", \"ripartizione\"], force=True)\n",
    "dfA11"
   ]
  },
  {
   "cell_type": "code",
   "execution_count": null,
   "metadata": {},
   "outputs": [],
   "source": [
    "dfA12 = dfA11[\"F/M\"].unstack(1)\n",
    "dfA12.plot(figsize=(8, 8), ylim=(0, 3))\n",
    "plt.tight_layout()"
   ]
  },
  {
   "cell_type": "markdown",
   "metadata": {},
   "source": [
    "# ContrattiGestiti"
   ]
  },
  {
   "cell_type": "code",
   "execution_count": null,
   "metadata": {},
   "outputs": [],
   "source": [
    "# dfCG1 = dfCG.copy(deep=True)\n",
    "dfCG1 = pd.read_csv(dir_data + \"ContrattiGestiti.csv\", index_col=\"Unnamed: 0\")\n",
    "dfCG1"
   ]
  },
  {
   "cell_type": "code",
   "execution_count": null,
   "metadata": {},
   "outputs": [],
   "source": [
    "C = sorted(dfCG1[\"comparto\"].unique())\n",
    "print(len(C))\n",
    "C"
   ]
  },
  {
   "cell_type": "code",
   "execution_count": null,
   "metadata": {},
   "outputs": [],
   "source": [
    "Q = sorted(dfCG1[\"qualifica\"].unique())\n",
    "print(len(Q))\n",
    "Q"
   ]
  },
  {
   "cell_type": "code",
   "execution_count": null,
   "metadata": {},
   "outputs": [],
   "source": [
    "dfCG1 = set_time(dfCG1)\n",
    "dfCG1 = set_age(dfCG1)\n",
    "dfCG1"
   ]
  },
  {
   "cell_type": "markdown",
   "metadata": {},
   "source": [
    "## Comparto-Qualifica"
   ]
  },
  {
   "cell_type": "code",
   "execution_count": null,
   "metadata": {},
   "outputs": [],
   "source": [
    "dfCG1 = set_strings(dfCG1, \"comparto\")\n",
    "dfCG1 = set_strings(dfCG1, \"qualifica\")"
   ]
  },
  {
   "cell_type": "code",
   "execution_count": null,
   "metadata": {},
   "outputs": [],
   "source": [
    "dfCG100 = set_comparto(dfCG1)\n",
    "dfCG100"
   ]
  },
  {
   "cell_type": "code",
   "execution_count": null,
   "metadata": {},
   "outputs": [],
   "source": [
    "def set_livello(df, comb=False):\n",
    "    column1 = \"comparto\"\n",
    "    df = set_strings(df, column1)\n",
    "\n",
    "    if comb:\n",
    "        replace = {\n",
    "            \"AREA DIRIGENZIALE DEL CONSIGLIO DEI MINISTRI\": \"AREA DIRIGENZIALE FUNZIONI CENTRALI\",\n",
    "            \"COMPARTO DEL CONSIGLIO DEI MINISTRI\": \"COMPARTO FUNZIONI CENTRALI\",\n",
    "            \"PERSONALE DELLA MAGISTRATURA\": \"COMPARTO FUNZIONI CENTRALI\",\n",
    "        }\n",
    "        for k, v in replace.items():\n",
    "            df[column1] = df[column1].str.replace(k, v)\n",
    "\n",
    "    column2 = \"livello\"\n",
    "    df[column2] = df[column1]\n",
    "\n",
    "    replace = {\n",
    "        \" DI \": \"\",\n",
    "        \" DELLA \": \"\",\n",
    "        \"AREA DIRIGENZIALE\": \"\",\n",
    "        \"AREA DIRIRENGIALE\": \"\",\n",
    "        \"DIRIGENZA\": \"\",\n",
    "        \"COMPARTO\": \"\",\n",
    "        \"PERSONALE\": \"\",\n",
    "        \"MEDICINA SPECIALISTICA\": \"\",\n",
    "        \"MEDICINA GENERALE\": \"\",\n",
    "    }\n",
    "    for k, v in replace.items():\n",
    "        df[column1] = df[column1].str.replace(k, v)\n",
    "\n",
    "    replace = {\n",
    "        \"DIFESA SICUREZZA E SOCCORSO PUBBLICO\": \"\",\n",
    "        \"ISTRUZIONE E RICERCA\": \"\",\n",
    "        \"FUNZIONI CENTRALI\": \"\",\n",
    "        \"SANITA'\": \"\",\n",
    "        \"FUNZIONI LOCALI\": \"\",\n",
    "        \"PRESIDENZA DEL CONSIGLIO DEI MINISTRI\": \"\",\n",
    "        \"MAGISTRATURA\": \"\",\n",
    "        \"ADDETTO SISTEMAZIONE IDRAULICA FORESTALE E AGRARIA\": \"\",\n",
    "        \"ENTI PUBBLICI ECONOMICI\": \"\",\n",
    "        \"REGIONI AUTONOME\": \"\",\n",
    "        \"COLLABORAZIONE\": \"\",\n",
    "        \"PERSONALE DI\": \"PERSONALE\",\n",
    "        \"PERSONALE DELLA\": \"PERSONALE\",\n",
    "        \"COMPARTO\": \"PERSONALE\",\n",
    "        \"MEDICINA SPECIALISTICA\": \"PERSONALE\",\n",
    "        \"MEDICINA GENERALE\": \"PERSONALE\",\n",
    "        \"AUTORITA' INDIPENDENTI\": \"PERSONALE\",\n",
    "        \"AREA DIRIGENZIALE\": \"DIRIGENZA\",\n",
    "        \"AREA DIRIRENGIALE\": \"DIRIGENZA\",\n",
    "    }\n",
    "    for k, v in replace.items():\n",
    "        df[column2] = df[column2].str.replace(k, v)\n",
    "\n",
    "    df = set_strings(df, column1)\n",
    "    df = set_strings(df, column2)\n",
    "    #     df = df.sort_values(column)\n",
    "    return df"
   ]
  },
  {
   "cell_type": "code",
   "execution_count": null,
   "metadata": {},
   "outputs": [],
   "source": [
    "dfCG101 = set_livello(dfCG100, comb=True)\n",
    "dfCG101"
   ]
  },
  {
   "cell_type": "code",
   "execution_count": null,
   "metadata": {},
   "outputs": [],
   "source": [
    "dfCG101"
   ]
  },
  {
   "cell_type": "markdown",
   "metadata": {},
   "source": [
    "## Time"
   ]
  },
  {
   "cell_type": "code",
   "execution_count": null,
   "metadata": {},
   "outputs": [],
   "source": [
    "dfCG1 = dfCG1.groupby([\"comparto\", \"ti\", \"sesso\"]).sum().reset_index()\n",
    "dfCG1"
   ]
  },
  {
   "cell_type": "code",
   "execution_count": null,
   "metadata": {},
   "outputs": [],
   "source": [
    "dfCG2 = set_sex(dfCG1, col_ext=[\"comparto\", \"ti\"], drop=True)\n",
    "dfCG2"
   ]
  },
  {
   "cell_type": "code",
   "execution_count": null,
   "metadata": {},
   "outputs": [],
   "source": [
    "dfCG3 = dfCG2.unstack(0)"
   ]
  },
  {
   "cell_type": "code",
   "execution_count": null,
   "metadata": {},
   "outputs": [],
   "source": [
    "for c in CC:\n",
    "    print(c)\n",
    "    dfCG3.iloc[:, dfCG3.columns.get_level_values(1).str.startswith(c)].plot(ylim=(0, 5))\n",
    "    plt.tight_layout()"
   ]
  },
  {
   "cell_type": "code",
   "execution_count": null,
   "metadata": {},
   "outputs": [],
   "source": [
    "for c in CCC:\n",
    "    print(c)\n",
    "    dfCG3.iloc[:, dfCG3.columns.get_level_values(1).str.contains(c)].plot(ylim=(0, 5))\n",
    "    plt.tight_layout()"
   ]
  },
  {
   "cell_type": "code",
   "execution_count": null,
   "metadata": {},
   "outputs": [],
   "source": [
    "dfCG3.plot(figsize=(8, 8), ylim=(0, 6), colormap=\"tab20\")\n",
    "plt.legend(ncol=2, fontsize=\"xx-small\")\n",
    "plt.tight_layout()"
   ]
  },
  {
   "cell_type": "markdown",
   "metadata": {},
   "source": [
    "## Time 2"
   ]
  },
  {
   "cell_type": "code",
   "execution_count": null,
   "metadata": {},
   "outputs": [],
   "source": [
    "dfCG1_ = dfCG101.groupby([\"comparto\", \"ti\", \"sesso\"]).sum().reset_index()\n",
    "dfCG1_"
   ]
  },
  {
   "cell_type": "code",
   "execution_count": null,
   "metadata": {},
   "outputs": [],
   "source": [
    "dfCG102 = set_sex(dfCG1_, col_ext=[\"comparto\", \"ti\"], drop=False, frac=False)\n",
    "dfCG102"
   ]
  },
  {
   "cell_type": "code",
   "execution_count": null,
   "metadata": {},
   "outputs": [],
   "source": [
    "dfCG102.reset_index()[\"comparto\"].value_counts()"
   ]
  },
  {
   "cell_type": "code",
   "execution_count": null,
   "metadata": {},
   "outputs": [],
   "source": [
    "c = \"COMPARTO FUNZIONI CENTRALI\"\n",
    "idx = pd.IndexSlice\n",
    "ax = dfCG102.unstack(0).loc[:, idx[[\"F\", \"M\"], c]].plot()\n",
    "ax.legend([\"F\", \"M\"])\n",
    "\n",
    "plt.title(\"Amministrati in PA - \" + c)\n",
    "plt.xlabel(\"\")\n",
    "plt.ylabel(\"Numero amministrati\")\n",
    "plt.tight_layout()"
   ]
  },
  {
   "cell_type": "code",
   "execution_count": null,
   "metadata": {},
   "outputs": [],
   "source": [
    "c = \"COMPARTO ISTRUZIONE E RICERCA\"\n",
    "idx = pd.IndexSlice\n",
    "ax = dfCG102.unstack(0).loc[:, idx[[\"F\", \"M\"], c]].plot()\n",
    "ax.legend([\"F\", \"M\"])\n",
    "\n",
    "plt.title(\"Amministrati in PA - \" + c)\n",
    "plt.xlabel(\"\")\n",
    "plt.ylabel(\"Numero amministrati\")\n",
    "plt.tight_layout()"
   ]
  },
  {
   "cell_type": "markdown",
   "metadata": {},
   "source": [
    "## Bars"
   ]
  },
  {
   "cell_type": "code",
   "execution_count": null,
   "metadata": {},
   "outputs": [],
   "source": [
    "dfCG5 = set_sex(dfCG1, col_ext=[\"comparto\", \"ti\"], drop=False)\n",
    "dfCG5 = dfCG5.drop(columns=\"F/M\")\n",
    "dfCG5 = dfCG5.reset_index()\n",
    "dfCG5 = dfCG5[[\"comparto\", \"ti\", \"F\", \"M\"]]\n",
    "dfCG5 = dfCG5[dfCG5[\"ti\"] == date]\n",
    "dfCG5 = dfCG5.drop(columns=\"ti\")\n",
    "dfCG5"
   ]
  },
  {
   "cell_type": "code",
   "execution_count": null,
   "metadata": {},
   "outputs": [],
   "source": [
    "dfCG5 = set_livello(dfCG5)\n",
    "dfCG5[\"comparto\"]"
   ]
  },
  {
   "cell_type": "code",
   "execution_count": null,
   "metadata": {},
   "outputs": [],
   "source": [
    "dfCG5 = dfCG5.set_index(\"comparto\")\n",
    "# dfCG5\n",
    "dfCG5.plot.bar(figsize=(10, 10), rot=90, logy=True)\n",
    "plt.tight_layout()"
   ]
  },
  {
   "cell_type": "code",
   "execution_count": null,
   "metadata": {},
   "outputs": [],
   "source": [
    "dfCG6 = pd.DataFrame(columns=dfCG5.columns)\n",
    "for c in [\n",
    "    \"DIRIGENZA\",\n",
    "    \"PERSONALE\",\n",
    "]:\n",
    "    dfCG6.loc[c] = dfCG5.loc[dfCG5.index.str.contains(c), :].sum()\n",
    "\n",
    "dfCG6"
   ]
  },
  {
   "cell_type": "code",
   "execution_count": null,
   "metadata": {},
   "outputs": [],
   "source": [
    "ax = dfCG6.reindex(\n",
    "    index=[\n",
    "        \"PERSONALE\",\n",
    "        \"DIRIGENZA\",\n",
    "    ]\n",
    ").plot.barh(xlim=(0, 2.5e6), logx=False)\n",
    "\n",
    "for container in ax.containers:\n",
    "    ax.bar_label(container, fmt=\"  %d\")\n",
    "\n",
    "plt.title(\"Amministrati in PA\")\n",
    "plt.xlabel(\"Numero amministrati\")\n",
    "plt.ylabel(\"\")\n",
    "plt.tight_layout()\n",
    "\n",
    "fig = ax.get_figure()\n",
    "fig.savefig(dir_save + \"comparto.jpg\")"
   ]
  },
  {
   "cell_type": "code",
   "execution_count": null,
   "metadata": {},
   "outputs": [],
   "source": [
    "for c in [\"FUNZIONI C\", \"FUNZIONI L\", \"ISTRUZIONE\", \"PRESIDENZA\", \"SANITA\", \"ENTI P\"]:\n",
    "    print(c)\n",
    "    dfCG5.loc[dfCG5.index.str.contains(c), :].plot.bar(figsize=(8, 6), rot=45, logy=True)\n",
    "    plt.tight_layout()"
   ]
  },
  {
   "cell_type": "code",
   "execution_count": null,
   "metadata": {},
   "outputs": [],
   "source": [
    "c = \"FUNZIONI CENTRALI\"\n",
    "ax = (\n",
    "    dfCG5.loc[dfCG5.index.str.contains(c), :]\n",
    "    .reindex(\n",
    "        index=[\n",
    "            \"PERSONALE - \" + c,\n",
    "            \"DIRIGENZA - \" + c,\n",
    "        ]\n",
    "    )\n",
    "    .plot.barh(xlim=(0, 1.1e5), logy=False)\n",
    ")\n",
    "for container in ax.containers:\n",
    "    ax.bar_label(container, fmt=\"  %d\")\n",
    "\n",
    "plt.title(\"Amministrati in PA - \" + c)\n",
    "plt.xlabel(\"Numero amministrati\")\n",
    "plt.ylabel(\"\")\n",
    "labels = [t.get_text().replace(\" - \" + c, \"\") for t in ax.get_yticklabels()]\n",
    "ax.set_yticklabels(labels)\n",
    "plt.tight_layout()\n",
    "\n",
    "fig = ax.get_figure()\n",
    "fig.savefig(dir_save + \"comparto_\" + c + \".jpg\")"
   ]
  },
  {
   "cell_type": "code",
   "execution_count": null,
   "metadata": {},
   "outputs": [],
   "source": [
    "c = \"FUNZIONI LOCALI\"\n",
    "ax = (\n",
    "    dfCG5.loc[dfCG5.index.str.contains(c), :]\n",
    "    .reindex(\n",
    "        index=[\n",
    "            \"PERSONALE - \" + c,\n",
    "            \"DIRIGENZA - \" + c,\n",
    "        ]\n",
    "    )\n",
    "    .plot.barh(xlim=(0, 3.5e3), logy=False)\n",
    ")\n",
    "for container in ax.containers:\n",
    "    ax.bar_label(container, fmt=\"  %d\")\n",
    "\n",
    "plt.title(\"Amministrati in PA - \" + c)\n",
    "plt.xlabel(\"Numero amministrati\")\n",
    "plt.ylabel(\"\")\n",
    "labels = [t.get_text().replace(\" - \" + c, \"\") for t in ax.get_yticklabels()]\n",
    "ax.set_yticklabels(labels)\n",
    "plt.tight_layout()\n",
    "\n",
    "fig = ax.get_figure()\n",
    "fig.savefig(dir_save + \"comparto_\" + c + \".jpg\")"
   ]
  },
  {
   "cell_type": "code",
   "execution_count": null,
   "metadata": {},
   "outputs": [],
   "source": [
    "c = \"ISTRUZIONE E RICERCA\"\n",
    "ax = (\n",
    "    dfCG5.loc[dfCG5.index.str.contains(c), :]\n",
    "    .reindex(\n",
    "        index=[\n",
    "            \"PERSONALE - \" + c,\n",
    "            \"DIRIGENZA - \" + c,\n",
    "        ]\n",
    "    )\n",
    "    .plot.barh(xlim=(0, 2.0e6), logy=False)\n",
    ")\n",
    "for container in ax.containers:\n",
    "    ax.bar_label(container, fmt=\"  %d\")\n",
    "\n",
    "plt.title(\"Amministrati in PA - ISTRUZIONE E RICERCA\")\n",
    "plt.xlabel(\"Numero amministrati\")\n",
    "plt.ylabel(\"\")\n",
    "labels = [t.get_text().replace(\" - \" + c, \"\") for t in ax.get_yticklabels()]\n",
    "ax.set_yticklabels(labels)\n",
    "plt.tight_layout()\n",
    "\n",
    "fig = ax.get_figure()\n",
    "fig.savefig(dir_save + \"comparto_\" + c + \".jpg\")"
   ]
  },
  {
   "cell_type": "code",
   "execution_count": null,
   "metadata": {},
   "outputs": [],
   "source": [
    "c = \"PRESIDENZA DEL CONSIGLIO DEI MINISTRI\"\n",
    "ax = (\n",
    "    dfCG5.loc[dfCG5.index.str.contains(c), :]\n",
    "    .reindex(\n",
    "        index=[\n",
    "            \"PERSONALE - \" + c,\n",
    "            \"DIRIGENZA - \" + c,\n",
    "        ]\n",
    "    )\n",
    "    .plot.barh(figsize=(7, 5), xlim=(0, 1.2e3), logy=False)\n",
    ")\n",
    "for container in ax.containers:\n",
    "    ax.bar_label(container, fmt=\"  %d\")\n",
    "\n",
    "plt.title(\"Amministrati in PA - \" + c)\n",
    "plt.xlabel(\"Numero amministrati\")\n",
    "plt.ylabel(\"\")\n",
    "labels = [t.get_text().replace(\" - \" + c, \"\") for t in ax.get_yticklabels()]\n",
    "ax.set_yticklabels(labels)\n",
    "plt.tight_layout()\n",
    "\n",
    "fig = ax.get_figure()\n",
    "fig.savefig(dir_save + \"comparto_\" + c + \".jpg\")"
   ]
  },
  {
   "cell_type": "code",
   "execution_count": null,
   "metadata": {},
   "outputs": [],
   "source": [
    "c = \"SANITA'\"\n",
    "ax = (\n",
    "    dfCG5.loc[dfCG5.index.str.contains(c), :]\n",
    "    .reindex(\n",
    "        index=[\n",
    "            \"PERSONALE - \" + c,\n",
    "            \"DIRIGENZA - \" + c,\n",
    "        ]\n",
    "    )\n",
    "    .plot.barh(xlim=(0, 2.5e4), logy=False)\n",
    ")\n",
    "for container in ax.containers:\n",
    "    ax.bar_label(container, fmt=\"  %d\")\n",
    "\n",
    "plt.title(\"Amministrati in PA - \" + c)\n",
    "plt.xlabel(\"Numero amministrati\")\n",
    "plt.ylabel(\"\")\n",
    "labels = [t.get_text().replace(\" - \" + c, \"\") for t in ax.get_yticklabels()]\n",
    "ax.set_yticklabels(labels)\n",
    "plt.tight_layout()\n",
    "\n",
    "fig = ax.get_figure()\n",
    "fig.savefig(dir_save + \"comparto_\" + c + \".jpg\")"
   ]
  },
  {
   "cell_type": "code",
   "execution_count": null,
   "metadata": {},
   "outputs": [],
   "source": [
    "c = \"ENTI PUBBLICI ECONOMICI\"\n",
    "ax = (\n",
    "    dfCG5.loc[dfCG5.index.str.contains(c), :]\n",
    "    .reindex(\n",
    "        index=[\n",
    "            \"PERSONALE - \" + c,\n",
    "            \"DIRIGENZA - \" + c,\n",
    "        ]\n",
    "    )\n",
    "    .plot.barh(xlim=(0, 0.7e3), logy=False)\n",
    ")\n",
    "\n",
    "for container in ax.containers:\n",
    "    ax.bar_label(container, fmt=\"  %d\")\n",
    "\n",
    "plt.title(\"Amministrati in PA - \" + c)\n",
    "plt.xlabel(\"Numero amministrati\")\n",
    "plt.ylabel(\"\")\n",
    "labels = [t.get_text().replace(\" - \" + c, \"\") for t in ax.get_yticklabels()]\n",
    "ax.set_yticklabels(labels)\n",
    "plt.tight_layout()\n",
    "\n",
    "fig = ax.get_figure()\n",
    "fig.savefig(dir_save + \"comparto_\" + c + \".jpg\")"
   ]
  },
  {
   "cell_type": "code",
   "execution_count": null,
   "metadata": {},
   "outputs": [],
   "source": [
    "dfCG10 = pd.read_csv(dir_data + \"ContrattiGestiti.csv\", index_col=\"Unnamed: 0\")\n",
    "dfCG10"
   ]
  },
  {
   "cell_type": "code",
   "execution_count": null,
   "metadata": {},
   "outputs": [],
   "source": [
    "dfCG10 = set_time(dfCG10)\n",
    "dfCG10 = set_age(dfCG10)\n",
    "dfCG10"
   ]
  },
  {
   "cell_type": "code",
   "execution_count": null,
   "metadata": {},
   "outputs": [],
   "source": [
    "dfCG10 = dfCG10.groupby([\"comparto\", \"ti\", \"sesso\"]).sum().reset_index()\n",
    "dfCG10 = dfCG10.drop(columns=\"comparto\")\n",
    "dfCG10"
   ]
  },
  {
   "cell_type": "code",
   "execution_count": null,
   "metadata": {},
   "outputs": [],
   "source": [
    "dfCG11 = set_sex(dfCG10, col_ext=[\"ti\"], drop=False)\n",
    "dfCG11"
   ]
  },
  {
   "cell_type": "code",
   "execution_count": null,
   "metadata": {},
   "outputs": [],
   "source": [
    "dfCG11[[\"F\", \"M\"]].plot(ylim=(0.5e6, 2.5e6))\n",
    "plt.tight_layout()"
   ]
  },
  {
   "cell_type": "markdown",
   "metadata": {},
   "source": [
    "# MotivoAssunzione"
   ]
  },
  {
   "cell_type": "code",
   "execution_count": null,
   "metadata": {},
   "outputs": [],
   "source": [
    "# dfMA1 = dfMA.copy(deep=True)\n",
    "dfMA1 = pd.read_csv(dir_data + \"MotivoAssunzione.csv\", index_col=\"Unnamed: 0\")\n",
    "dfMA1"
   ]
  },
  {
   "cell_type": "code",
   "execution_count": null,
   "metadata": {},
   "outputs": [],
   "source": [
    "MA = sorted(dfMA[\"motivo_\"].unique())\n",
    "print(len(MA))\n",
    "MA"
   ]
  },
  {
   "cell_type": "code",
   "execution_count": null,
   "metadata": {},
   "outputs": [],
   "source": [
    "dfMA1 = set_time(dfMA1)\n",
    "dfMA1 = set_age(dfMA1)\n",
    "dfMA1"
   ]
  },
  {
   "cell_type": "code",
   "execution_count": null,
   "metadata": {},
   "outputs": [],
   "source": [
    "dfMA2 = set_sex(dfMA1, col_ext=[\"motivo_\", \"ti\"], drop=True, force=True)\n",
    "dfMA2"
   ]
  },
  {
   "cell_type": "code",
   "execution_count": null,
   "metadata": {},
   "outputs": [],
   "source": [
    "dfMA3 = dfMA2.unstack(0)"
   ]
  },
  {
   "cell_type": "markdown",
   "metadata": {},
   "source": [
    "## Time"
   ]
  },
  {
   "cell_type": "code",
   "execution_count": null,
   "metadata": {},
   "outputs": [],
   "source": [
    "dfMA3.plot(figsize=(8, 8), ylim=(0, 4), colormap=\"tab20\")\n",
    "plt.legend(ncol=3, fontsize=\"x-small\")\n",
    "plt.tight_layout()"
   ]
  },
  {
   "cell_type": "markdown",
   "metadata": {},
   "source": [
    "# MotivoCessazione"
   ]
  },
  {
   "cell_type": "code",
   "execution_count": null,
   "metadata": {},
   "outputs": [],
   "source": [
    "# dfMC1 = dfMC.copy(deep=True)\n",
    "dfMC1 = pd.read_csv(dir_data + \"MotivoCessazione.csv\", index_col=\"Unnamed: 0\")\n",
    "dfMC1"
   ]
  },
  {
   "cell_type": "code",
   "execution_count": null,
   "metadata": {},
   "outputs": [],
   "source": [
    "MC = sorted(dfMC[\"motivo_\"].unique())\n",
    "print(len(MC))\n",
    "MC"
   ]
  },
  {
   "cell_type": "code",
   "execution_count": null,
   "metadata": {},
   "outputs": [],
   "source": [
    "dfMC1 = set_time(dfMC1)\n",
    "dfMC1 = set_age(dfMC1)\n",
    "dfMC1"
   ]
  },
  {
   "cell_type": "code",
   "execution_count": null,
   "metadata": {},
   "outputs": [],
   "source": [
    "dfMC2 = set_sex(dfMC1, col_ext=[\"motivo_\", \"ti\"], drop=False, force=True)\n",
    "dfMC2"
   ]
  },
  {
   "cell_type": "code",
   "execution_count": null,
   "metadata": {},
   "outputs": [],
   "source": [
    "dfMC3 = dfMC2.unstack(0)\n",
    "dfMC3"
   ]
  },
  {
   "cell_type": "markdown",
   "metadata": {},
   "source": [
    "## Time"
   ]
  },
  {
   "cell_type": "code",
   "execution_count": null,
   "metadata": {},
   "outputs": [],
   "source": [
    "idx = pd.IndexSlice\n",
    "dfMC3.loc[:, idx[\"F/M\"]].plot(figsize=(8, 8), ylim=(0, 4), colormap=\"tab20\")\n",
    "plt.legend(ncol=2, fontsize=\"xx-small\")\n",
    "plt.tight_layout()"
   ]
  },
  {
   "cell_type": "code",
   "execution_count": null,
   "metadata": {},
   "outputs": [],
   "source": [
    "cols = [\n",
    "    #  'ALTRO MOTIVO',\n",
    "    #  'CAMBIO COMPARTO/CONTRATTO',\n",
    "    #  'COLLOCAMENTO ANTICIPATO (DLGS 503/92)',\n",
    "    #  \"DECADENZA DALL'IMPIEGO PER ACCETTAZIONE INCARICO A TEMPO DETERMINATO\",\n",
    "    #  'DECESSO',\n",
    "    \"DESTITUZIONE\",\n",
    "    #     \"DIMISSIONI VOLONTARIE/RECESSO DEL DIPENDENTE\",\n",
    "    #  \"DISPENSA DAL SERVIZIO PER INABILITA' ASSOLUTA PERMANENTE AD OGNI PROFICUO LAVORO\",\n",
    "    #  \"DISPENSA DAL SERVIZIO PER INABILITA' PERMANENTE ALLE MANSIONI\",\n",
    "    #  \"DISPENSA DAL SERVIZIO PER INVALIDITA' (ART. 2, COMMA 12, L. 335/95)\",\n",
    "    #     \"FINE COMANDO\",\n",
    "    #     \"FINE INCARICO\",\n",
    "    #  'FINE INCARICO DIRIGENZIALE (DLGS 165/01- ART.19,6)',\n",
    "    \"LICENZIAMENTO\",\n",
    "    #     \"LIMITI DI ETA'\",\n",
    "    #     \"LIMITI DI SERVIZIO\",\n",
    "    #  'MALATTIE DOVUTE A CAUSA DI SERVIZIO',\n",
    "    \"MOBILITA'\",\n",
    "    \"PASSAGGIO A DIRIGENTE\",\n",
    "    #  'PASSAGGIO AD ALTRA AMMINISTRAZIONE',\n",
    "    #  'PASSAGGIO ALTRA AMMINISTRAZIONE PER COMANDO',\n",
    "    #  'PERDITA DELLA CITTADINANZA NEL RISPETTO DELLA NORMATIVA COMUNITARIA ',\n",
    "    \"RECESSO O MANCATO SUPERAMENTO PERIODO DI PROVA\",\n",
    "    #     \"RIDUZIONE DOTAZIONE ORGANICA\",\n",
    "    #     \"RISOLUZIONE CONSENSUALE PER I DIRIGENTI \",\n",
    "    #  'SOSPESO - ASPETT. PER PERCORSO FIT - DL73'\n",
    "]"
   ]
  },
  {
   "cell_type": "code",
   "execution_count": null,
   "metadata": {},
   "outputs": [],
   "source": [
    "idx = pd.IndexSlice\n",
    "for c in cols:\n",
    "    dfMC3.loc[:, idx[[\"F/M\"], c]].plot(ylim=(0, 2))\n",
    "    plt.tight_layout()"
   ]
  },
  {
   "cell_type": "code",
   "execution_count": null,
   "metadata": {},
   "outputs": [],
   "source": [
    "idx = pd.IndexSlice\n",
    "for c in cols:\n",
    "    dfMC3.loc[:, idx[[\"F\", \"M\"], c]].plot()\n",
    "    plt.tight_layout()"
   ]
  },
  {
   "cell_type": "code",
   "execution_count": null,
   "metadata": {},
   "outputs": [],
   "source": [
    "idx = pd.IndexSlice\n",
    "ax = dfMC3.loc[:, idx[[\"F\", \"M\"], \"PASSAGGIO A DIRIGENTE\"]].plot()\n",
    "ax.legend([\"F\", \"M\"])\n",
    "\n",
    "for container in ax.containers:\n",
    "    ax.bar_label(container, fmt=\"  %d\")\n",
    "\n",
    "plt.title(\"Amministrati in PA - PASSAGGIO A DIRIGENTE\")\n",
    "plt.xlabel(\"\")\n",
    "plt.ylabel(\"Numero amministrati passati a dirigente\")\n",
    "plt.tight_layout()\n",
    "\n",
    "fig = ax.get_figure()\n",
    "fig.savefig(dir_save + \"PASSAGGIO A DIRIGENTE.jpg\")"
   ]
  },
  {
   "cell_type": "markdown",
   "metadata": {},
   "source": [
    "# RitenuteFiscali"
   ]
  },
  {
   "cell_type": "code",
   "execution_count": null,
   "metadata": {},
   "outputs": [],
   "source": [
    "# dfCF1 = dfCF.copy(deep=True)\n",
    "dfCF1 = pd.read_csv(dir_data + \"RitenuteFiscali.csv\", index_col=\"Unnamed: 0\")\n",
    "dfCF1"
   ]
  },
  {
   "cell_type": "code",
   "execution_count": null,
   "metadata": {},
   "outputs": [],
   "source": [
    "dfCF[dfCF.columns[dfCF.columns.str.contains(\"tot\")]].isnull().sum().sum()"
   ]
  },
  {
   "cell_type": "code",
   "execution_count": null,
   "metadata": {},
   "outputs": [],
   "source": [
    "dfCF1 = set_time(dfCF1)\n",
    "dfCF1 = set_age(dfCF1, group=True)\n",
    "dfCF1"
   ]
  },
  {
   "cell_type": "code",
   "execution_count": null,
   "metadata": {},
   "outputs": [],
   "source": [
    "dfCF2 = set_ral(dfCF1)\n",
    "dfCF2"
   ]
  },
  {
   "cell_type": "code",
   "execution_count": null,
   "metadata": {},
   "outputs": [],
   "source": [
    "dfCF3 = set_sex(dfCF2, col_ext=[\"ti\", \"eta\"], drop=False)\n",
    "dfCF3"
   ]
  },
  {
   "cell_type": "code",
   "execution_count": null,
   "metadata": {},
   "outputs": [],
   "source": [
    "dfCF4 = dfCF3.unstack(1)\n",
    "dfCF4"
   ]
  },
  {
   "cell_type": "code",
   "execution_count": null,
   "metadata": {},
   "outputs": [],
   "source": [
    "idx = pd.IndexSlice\n",
    "dfCF4.loc[:, idx[\"F/M\"]].plot()\n",
    "plt.tight_layout()"
   ]
  },
  {
   "cell_type": "code",
   "execution_count": null,
   "metadata": {},
   "outputs": [],
   "source": [
    "idx = pd.IndexSlice\n",
    "for c in [\"18-24\", \"25-44\", \"45-64\", \"65-100\"]:\n",
    "    dfCF4.loc[:, idx[[\"F\", \"M\"], c]].plot(logy=False)\n",
    "    plt.tight_layout()"
   ]
  },
  {
   "cell_type": "code",
   "execution_count": null,
   "metadata": {},
   "outputs": [],
   "source": [
    "idx = pd.IndexSlice\n",
    "for c in [\"18-24\", \"25-44\", \"45-64\", \"65-100\"]:\n",
    "    ax = dfCF4.loc[:, idx[[\"F\", \"M\"], c]].plot(logy=False)\n",
    "    ax.legend([\"F\", \"M\"])\n",
    "\n",
    "    for container in ax.containers:\n",
    "        ax.bar_label(container, fmt=\"  %d\")\n",
    "\n",
    "    plt.title(\"Amministrati in PA - IMPONIBILE (\" + c + \")\")\n",
    "    plt.xlabel(\"\")\n",
    "    plt.ylabel(\"Totale imponibile / Numero cedolini\")\n",
    "    plt.tight_layout()\n",
    "\n",
    "    fig = ax.get_figure()\n",
    "    fig.savefig(dir_save + \"IMPONIBILE_\" + c + \".jpg\")"
   ]
  },
  {
   "cell_type": "markdown",
   "metadata": {},
   "source": [
    "## Cedolini"
   ]
  },
  {
   "cell_type": "code",
   "execution_count": null,
   "metadata": {},
   "outputs": [],
   "source": [
    "dfCF21 = pd.read_csv(dir_data + \"RitenuteFiscali.csv\", index_col=\"Unnamed: 0\")\n",
    "\n",
    "dfCF21 = set_time(dfCF21)\n",
    "dfCF21 = set_age(dfCF21, group=True)\n",
    "\n",
    "dfCF22 = set_ral(dfCF21, ced=True)\n",
    "\n",
    "dfCF23 = set_sex(dfCF22, col_ext=[\"ti\", \"eta\"], drop=False)\n",
    "dfCF23 = dfCF23.drop(columns=\"F/M\")\n",
    "\n",
    "dfCF23"
   ]
  },
  {
   "cell_type": "code",
   "execution_count": null,
   "metadata": {},
   "outputs": [],
   "source": [
    "dfCG20[[\"F\", \"M\"]].unstack(1).plot(ylim=(0, 2e6), subplots=False)\n",
    "plt.legend(ncol=2)\n",
    "plt.tight_layout()"
   ]
  },
  {
   "cell_type": "markdown",
   "metadata": {},
   "source": [
    "## Contratti Gestiti"
   ]
  },
  {
   "cell_type": "code",
   "execution_count": null,
   "metadata": {},
   "outputs": [],
   "source": [
    "dfCG20 = pd.read_csv(dir_data + \"ContrattiGestiti.csv\", index_col=\"Unnamed: 0\")\n",
    "\n",
    "dfCG20 = set_time(dfCG20)\n",
    "dfCG20 = set_age(dfCG20, group=True)\n",
    "\n",
    "dfCG20 = dfCG20.groupby([\"ti\", \"sesso\", \"eta\"]).sum().reset_index()\n",
    "\n",
    "dfCG20 = set_sex(dfCG20, col_ext=[\"ti\", \"eta\"], drop=False)\n",
    "dfCG20 = dfCG20.drop(columns=\"F/M\")\n",
    "\n",
    "dfCG20"
   ]
  },
  {
   "cell_type": "code",
   "execution_count": null,
   "metadata": {},
   "outputs": [],
   "source": [
    "dfCG20[[\"F\", \"M\"]].unstack(1).plot(ylim=(0, 2e6), subplots=False)\n",
    "plt.legend(ncol=2)\n",
    "plt.tight_layout()"
   ]
  },
  {
   "cell_type": "code",
   "execution_count": null,
   "metadata": {},
   "outputs": [],
   "source": [
    "dfCF21 = pd.read_csv(dir_data + \"RitenuteFiscali.csv\", index_col=\"Unnamed: 0\")\n",
    "\n",
    "dfCF21 = set_time(dfCF21)\n",
    "dfCF21 = set_age(dfCF21, group=True)\n",
    "\n",
    "dfCF22 = set_ral(dfCF21, tot=True)\n",
    "\n",
    "dfCF23 = set_sex(dfCF22, col_ext=[\"ti\", \"eta\"], drop=False)\n",
    "dfCF23 = dfCF23.drop(columns=\"F/M\")\n",
    "\n",
    "dfCF23"
   ]
  },
  {
   "cell_type": "code",
   "execution_count": null,
   "metadata": {},
   "outputs": [],
   "source": [
    "dfCF23[[\"F\", \"M\"]].unstack(1).plot(ylim=(0, 4e10), subplots=False)\n",
    "plt.legend(ncol=2)\n",
    "plt.tight_layout()"
   ]
  },
  {
   "cell_type": "code",
   "execution_count": null,
   "metadata": {},
   "outputs": [],
   "source": [
    "dfCF30 = dfCF23.merge(dfCG20, left_index=True, right_index=True)\n",
    "dfCF30[\"M\"] = dfCF30[\"M_x\"] / dfCF30[\"M_y\"]\n",
    "dfCF30[\"F\"] = dfCF30[\"F_x\"] / dfCF30[\"F_y\"]\n",
    "dfCF30 = dfCF30.drop(columns=[\"M_x\", \"M_y\", \"F_x\", \"F_y\"])\n",
    "dfCF30"
   ]
  },
  {
   "cell_type": "code",
   "execution_count": null,
   "metadata": {},
   "outputs": [],
   "source": [
    "dfCF31 = dfCF30.unstack(1)\n",
    "dfCF31"
   ]
  },
  {
   "cell_type": "code",
   "execution_count": null,
   "metadata": {},
   "outputs": [],
   "source": [
    "idx = pd.IndexSlice\n",
    "for c in [\"18-24\", \"25-44\", \"45-64\", \"65-100\"]:\n",
    "    dfCF31.loc[:, idx[[\"F\", \"M\"], c]].plot(logy=False)\n",
    "    plt.tight_layout()"
   ]
  },
  {
   "cell_type": "markdown",
   "metadata": {},
   "source": [
    "# Misc"
   ]
  },
  {
   "cell_type": "code",
   "execution_count": null,
   "metadata": {},
   "outputs": [],
   "source": [
    "ddf = pd.DataFrame({\"A\": [1, 2, 3, 4], \"B\": [\"a\", \"b\", \"a\", \"b\"], \"C\": [\"q1\", \"w2\", \"e3\", \"r4\"]})\n",
    "ddf"
   ]
  },
  {
   "cell_type": "code",
   "execution_count": null,
   "metadata": {},
   "outputs": [],
   "source": [
    "ddf.groupby([\"B\", \"C\"]).sum()"
   ]
  },
  {
   "cell_type": "code",
   "execution_count": null,
   "metadata": {},
   "outputs": [],
   "source": [
    "ddf.pivot(index=\"B\", columns=\"C\", values=\"A\")  # .sum()"
   ]
  }
 ],
 "metadata": {
  "anaconda-cloud": {},
  "kernelspec": {
   "display_name": "Python 3 (ipykernel)",
   "language": "python",
   "name": "python3"
  },
  "language_info": {
   "codemirror_mode": {
    "name": "ipython",
    "version": 3
   },
   "file_extension": ".py",
   "mimetype": "text/x-python",
   "name": "python",
   "nbconvert_exporter": "python",
   "pygments_lexer": "ipython3",
   "version": "3.9.13"
  },
  "toc": {
   "base_numbering": 1,
   "nav_menu": {},
   "number_sections": true,
   "sideBar": true,
   "skip_h1_title": false,
   "title_cell": "Table of Contents",
   "title_sidebar": "Contents",
   "toc_cell": false,
   "toc_position": {
    "height": "calc(100% - 180px)",
    "left": "10px",
    "top": "150px",
    "width": "307.188px"
   },
   "toc_section_display": true,
   "toc_window_display": true
  }
 },
 "nbformat": 4,
 "nbformat_minor": 1
}
